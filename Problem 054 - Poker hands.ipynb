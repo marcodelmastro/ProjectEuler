{
 "cells": [
  {
   "cell_type": "markdown",
   "id": "communist-drove",
   "metadata": {},
   "source": [
    "## Problem 54 - Poker hands\n",
    "\n",
    "https://projecteuler.net/problem=54"
   ]
  },
  {
   "cell_type": "code",
   "execution_count": 42,
   "id": "registered-sydney",
   "metadata": {},
   "outputs": [],
   "source": [
    "cardValue = {\"T\":10, \"J\":11, \"Q\":12, \"K\":13, \"A\":14}\n",
    "\n",
    "def readHands(filename):\n",
    "    with open(filename) as f:\n",
    "        hands = []\n",
    "        for hand in [ l.split(\" \") for l in f.read().strip(\"\\n\").split(\"\\n\") ]:\n",
    "            values = []\n",
    "            for h in hand:\n",
    "                v = h[0]\n",
    "                if v in cardValue.keys():\n",
    "                    v = cardValue[v]\n",
    "                else:\n",
    "                    v = int(v)\n",
    "                values.append((v,h[1]))\n",
    "            h1 = tuple(sorted(values[:5]))\n",
    "            h2 = tuple(sorted(values[5:]))\n",
    "            hands.append((h1,h2))\n",
    "    return hands"
   ]
  },
  {
   "cell_type": "code",
   "execution_count": 43,
   "id": "silent-placement",
   "metadata": {},
   "outputs": [
    {
     "data": {
      "text/plain": [
       "[(((5, 'C'), (5, 'H'), (6, 'S'), (7, 'S'), (13, 'D')),\n",
       "  ((2, 'C'), (3, 'S'), (8, 'D'), (8, 'S'), (10, 'D'))),\n",
       " (((5, 'D'), (8, 'C'), (9, 'S'), (11, 'S'), (14, 'C')),\n",
       "  ((2, 'C'), (5, 'C'), (7, 'D'), (8, 'S'), (12, 'H'))),\n",
       " (((2, 'D'), (9, 'C'), (14, 'C'), (14, 'H'), (14, 'S')),\n",
       "  ((3, 'D'), (6, 'D'), (7, 'D'), (10, 'D'), (12, 'D'))),\n",
       " (((4, 'D'), (6, 'S'), (9, 'H'), (12, 'C'), (12, 'H')),\n",
       "  ((3, 'D'), (6, 'D'), (7, 'H'), (12, 'D'), (12, 'S'))),\n",
       " (((2, 'D'), (2, 'H'), (4, 'C'), (4, 'D'), (4, 'S')),\n",
       "  ((3, 'C'), (3, 'D'), (3, 'S'), (9, 'D'), (9, 'S')))]"
      ]
     },
     "execution_count": 43,
     "metadata": {},
     "output_type": "execute_result"
    }
   ],
   "source": [
    "handsTest = readHands(\"data/p054_poker_test.txt\")\n",
    "handsTest"
   ]
  },
  {
   "cell_type": "code",
   "execution_count": 44,
   "id": "3d456595",
   "metadata": {},
   "outputs": [
    {
     "data": {
      "text/plain": [
       "(((5, 'C'), (5, 'H'), (6, 'S'), (7, 'S'), (13, 'D')),\n",
       " ((2, 'C'), (3, 'S'), (8, 'D'), (8, 'S'), (10, 'D')))"
      ]
     },
     "execution_count": 44,
     "metadata": {},
     "output_type": "execute_result"
    }
   ],
   "source": [
    "handsTest[0]"
   ]
  },
  {
   "cell_type": "markdown",
   "id": "810b060b",
   "metadata": {},
   "source": [
    "In the card game poker, a hand consists of five cards and are ranked, from lowest to highest, in the following way:\n",
    "\n",
    "- High Card: Highest value card.\n",
    "- One Pair: Two cards of the same value.\n",
    "- Two Pairs: Two different pairs.\n",
    "- Three of a Kind: Three cards of the same value.\n",
    "- Straight: All cards are consecutive values.\n",
    "- Flush: All cards of the same suit.\n",
    "- Full House: Three of a kind and a pair.\n",
    "- Four of a Kind: Four cards of the same value.\n",
    "- Straight Flush: All cards are consecutive values of same suit.\n",
    "- Royal Flush: Ten, Jack, Queen, King, Ace, in same suit."
   ]
  },
  {
   "cell_type": "code",
   "execution_count": 121,
   "id": "4a98f128",
   "metadata": {},
   "outputs": [
    {
     "data": {
      "text/plain": [
       "((False, False, False, False, True, False, False, False, False),\n",
       " Counter({3: 1, 6: 1, 7: 1, 10: 1, 12: 1}))"
      ]
     },
     "execution_count": 121,
     "metadata": {},
     "output_type": "execute_result"
    }
   ],
   "source": [
    "from collections import Counter\n",
    "\n",
    "def handPoints(h):\n",
    "\n",
    "    values = [ v for v,s in h ]\n",
    "    suits  = [ s for v,s in h ]\n",
    "    suitcount  = Counter(suits)\n",
    "    valuecount = Counter(values)\n",
    "    cv = Counter(valuecount.values())\n",
    "    \n",
    "    hasOnePair     = cv[2]==1 and cv[3]==0\n",
    "    hasTwoPairs    = cv[2]==2\n",
    "    hasThree       = cv[3]==1 and cv[2]==0\n",
    "    hasFlush       = len(suitcount.keys())==1    \n",
    "    hasStraight    = values[0]==values[1]-1==values[2]-2==values[3]-3==values[4]-4\n",
    "    hasFullHouse   = cv[3]==1 and cv[2]==1\n",
    "    hasFour        = cv[4]==1\n",
    "    hasStraightFlush = hasStraight and hasFlush\n",
    "    hasRoyalFlush    = hasStraight and hasFlush and highCard==14\n",
    "    \n",
    "    return ( hasRoyalFlush,    # 0\n",
    "             hasStraightFlush, # 1\n",
    "             hasFour,          # 2\n",
    "             hasFullHouse,     # 3\n",
    "             hasFlush,         # 4\n",
    "             hasStraight,      # 5\n",
    "             hasThree,         # 6\n",
    "             hasTwoPairs,      # 7\n",
    "             hasOnePair        # 8\n",
    "           ) , valuecount\n",
    "\n",
    "handPoints(handsTest[2][1])"
   ]
  },
  {
   "cell_type": "code",
   "execution_count": 122,
   "id": "fd598a04",
   "metadata": {},
   "outputs": [
    {
     "data": {
      "text/plain": [
       "1"
      ]
     },
     "execution_count": 122,
     "metadata": {},
     "output_type": "execute_result"
    }
   ],
   "source": [
    "def matchHands(h1,h2):\n",
    "    \n",
    "    values1 = [ v for v,s in h1 ]\n",
    "    values2 = [ v for v,s in h2 ]\n",
    "    \n",
    "    points1,valuecount1 = handPoints(h1)\n",
    "    points2,valuecount2 = handPoints(h2)\n",
    "    \n",
    "    for i,(p1,p2) in enumerate(zip(points1,points2)):\n",
    "\n",
    "        #print(i,p1,p2)\n",
    "\n",
    "        if p1 and not p2:\n",
    "            return 1\n",
    "        if p2 and not p1:\n",
    "            return 2\n",
    "        \n",
    "        if p1 and p2: # Ties\n",
    "            \n",
    "            # There cannot be a tie with Royal Flush\n",
    "            \n",
    "            if i==1 or i==4 or i==5: # Straight Flush or Flush or Straight\n",
    "                if max(values1) > max(values2):\n",
    "                    return 1\n",
    "                else:\n",
    "                    return 2\n",
    "    \n",
    "            if i==2: # Four of a Kind\n",
    "                v4_1 = [ v for v,c in valuecount1.items() if c==4 ][0]\n",
    "                v4_2 = [ v for v,c in valuecount2.items() if c==4 ][0]\n",
    "                if v4_1 > v4_2:\n",
    "                    return 1\n",
    "                else:\n",
    "                    return 2\n",
    "            \n",
    "            if i==3 or i==6: # Full House or Three of a kind \n",
    "                v3_1 = [ v for v,c in valuecount1.items() if c==3 ][0]\n",
    "                v3_2 = [ v for v,c in valuecount2.items() if c==3 ][0]\n",
    "                if v3_1 > v3_2:\n",
    "                    return 1\n",
    "                else:\n",
    "                    return 2\n",
    "            \n",
    "            if i==7: # Two pairs\n",
    "                v2_1p = sorted([ v for v,c in valuecount1.items() if c==2 ],reverse=True)\n",
    "                v2_2p = sorted([ v for v,c in valuecount2.items() if c==2 ],reverse=True)\n",
    "                for v2_1,v2_2 in zip(v2_1p,v2_2p):\n",
    "                    if v2_1 > v2_2:\n",
    "                        return 1\n",
    "                    elif v2_1 < v2_2:\n",
    "                        return 2\n",
    "                # if both pairs have same value, test 5th card value\n",
    "                ve_1 = [ v for v,c in valuecount1.items() if c!=2 ][0]\n",
    "                ve_2 = [ v for v,c in valuecount2.items() if c!=2 ][0]\n",
    "                if ve_1 > ve_2:\n",
    "                    return 1\n",
    "                elif ve_1 < ve_2:\n",
    "                    return 2\n",
    "                \n",
    "            if i==8: # Two of a kind\n",
    "                v2_1 = [ v for v,c in valuecount1.items() if c==2 ][0]\n",
    "                v2_2 = [ v for v,c in valuecount2.items() if c==2 ][0]\n",
    "                if v2_1 > v2_2:\n",
    "                    return 1\n",
    "                elif v2_1 < v2_2:\n",
    "                    return 2\n",
    "                else: # pairs have same value, check other cards\n",
    "                    for _ in range(2):\n",
    "                        values1.pop(values1.index(v2_1))\n",
    "                        values2.pop(values2.index(v2_2))\n",
    "                    if max(values1) > max(values2):\n",
    "                        return 1\n",
    "                    else:\n",
    "                        return 2\n",
    "                    \n",
    "    # no points, highest card wins\n",
    "    if max(values1) > max(values2):\n",
    "        return 1\n",
    "    else:\n",
    "        return 2\n",
    "        \n",
    "matchHands(handsTest[4][0],handsTest[4][1])"
   ]
  },
  {
   "cell_type": "code",
   "execution_count": 123,
   "id": "44264953",
   "metadata": {},
   "outputs": [
    {
     "name": "stdout",
     "output_type": "stream",
     "text": [
      "2\n",
      "1\n",
      "2\n",
      "1\n",
      "1\n"
     ]
    }
   ],
   "source": [
    "for h1,h2 in handsTest:\n",
    "    print(matchHands(h1,h2))"
   ]
  },
  {
   "cell_type": "code",
   "execution_count": 126,
   "id": "9564ebeb",
   "metadata": {},
   "outputs": [
    {
     "name": "stdout",
     "output_type": "stream",
     "text": [
      "Player 1 wins 376 hands\n"
     ]
    }
   ],
   "source": [
    "hands = readHands(\"data/p054_poker.txt\")\n",
    "\n",
    "w1 = 0\n",
    "#w2 = 0\n",
    "\n",
    "for h1,h2 in hands:\n",
    "    win = matchHands(h1,h2)\n",
    "    if win==1:\n",
    "        w1 += 1\n",
    "    #if win==2:\n",
    "    #   w2 += 1\n",
    "   \n",
    "#print(w1,w2,w1+w2)\n",
    "print(\"Player 1 wins {} hands\".format(w1))"
   ]
  },
  {
   "cell_type": "code",
   "execution_count": null,
   "id": "f5362e17",
   "metadata": {},
   "outputs": [],
   "source": []
  }
 ],
 "metadata": {
  "kernelspec": {
   "display_name": "Python 3 (ipykernel)",
   "language": "python",
   "name": "python3"
  },
  "language_info": {
   "codemirror_mode": {
    "name": "ipython",
    "version": 3
   },
   "file_extension": ".py",
   "mimetype": "text/x-python",
   "name": "python",
   "nbconvert_exporter": "python",
   "pygments_lexer": "ipython3",
   "version": "3.10.10"
  }
 },
 "nbformat": 4,
 "nbformat_minor": 5
}
