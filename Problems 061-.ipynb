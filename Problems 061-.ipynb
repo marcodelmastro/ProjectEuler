{
 "cells": [
  {
   "cell_type": "markdown",
   "id": "informational-patrick",
   "metadata": {},
   "source": [
    "# Project Euler\n",
    "\n",
    "https://projecteuler.net/progress"
   ]
  },
  {
   "cell_type": "code",
   "execution_count": null,
   "id": "sporting-raise",
   "metadata": {},
   "outputs": [],
   "source": []
  },
  {
   "cell_type": "markdown",
   "id": "applied-campus",
   "metadata": {},
   "source": [
    "## Problem 63 - Powerful digit counts \n",
    "\n",
    "https://projecteuler.net/problem=63"
   ]
  },
  {
   "cell_type": "code",
   "execution_count": 28,
   "id": "cordless-checklist",
   "metadata": {},
   "outputs": [
    {
     "name": "stdout",
     "output_type": "stream",
     "text": [
      "1^1 = 1 has 1 digits\n",
      "2^1 = 2 has 1 digits\n",
      "3^1 = 3 has 1 digits\n",
      "4^1 = 4 has 1 digits\n",
      "5^1 = 5 has 1 digits\n",
      "6^1 = 6 has 1 digits\n",
      "7^1 = 7 has 1 digits\n",
      "8^1 = 8 has 1 digits\n",
      "9^1 = 9 has 1 digits\n",
      "4^2 = 16 has 2 digits\n",
      "5^2 = 25 has 2 digits\n",
      "6^2 = 36 has 2 digits\n",
      "7^2 = 49 has 2 digits\n",
      "8^2 = 64 has 2 digits\n",
      "9^2 = 81 has 2 digits\n",
      "5^3 = 125 has 3 digits\n",
      "6^3 = 216 has 3 digits\n",
      "7^3 = 343 has 3 digits\n",
      "8^3 = 512 has 3 digits\n",
      "9^3 = 729 has 3 digits\n",
      "6^4 = 1296 has 4 digits\n",
      "7^4 = 2401 has 4 digits\n",
      "8^4 = 4096 has 4 digits\n",
      "9^4 = 6561 has 4 digits\n",
      "7^5 = 16807 has 5 digits\n",
      "8^5 = 32768 has 5 digits\n",
      "9^5 = 59049 has 5 digits\n",
      "7^6 = 117649 has 6 digits\n",
      "8^6 = 262144 has 6 digits\n",
      "9^6 = 531441 has 6 digits\n",
      "8^7 = 2097152 has 7 digits\n",
      "9^7 = 4782969 has 7 digits\n",
      "8^8 = 16777216 has 8 digits\n",
      "9^8 = 43046721 has 8 digits\n",
      "8^9 = 134217728 has 9 digits\n",
      "9^9 = 387420489 has 9 digits\n",
      "8^10 = 1073741824 has 10 digits\n",
      "9^10 = 3486784401 has 10 digits\n",
      "9^11 = 31381059609 has 11 digits\n",
      "9^12 = 282429536481 has 12 digits\n",
      "9^13 = 2541865828329 has 13 digits\n",
      "9^14 = 22876792454961 has 14 digits\n",
      "9^15 = 205891132094649 has 15 digits\n",
      "9^16 = 1853020188851841 has 16 digits\n",
      "9^17 = 16677181699666569 has 17 digits\n",
      "9^18 = 150094635296999121 has 18 digits\n",
      "9^19 = 1350851717672992089 has 19 digits\n",
      "9^20 = 12157665459056928801 has 20 digits\n",
      "9^21 = 109418989131512359209 has 21 digits\n",
      "49\n"
     ]
    }
   ],
   "source": [
    "c=0\n",
    "n=1\n",
    "while True:\n",
    "    imin = 10**(n-1)\n",
    "    imax = 10**n-1\n",
    "    if 2**n>imax or 9**n<imin:\n",
    "        break\n",
    "    for j in range(1,10):\n",
    "        i = j**n\n",
    "        if imin<=i<=imax:\n",
    "            print(\"{}^{} = {} has {} digits\".format(j,n,i,n))\n",
    "            c+=1\n",
    "    n+=1\n",
    "print(c)"
   ]
  },
  {
   "cell_type": "markdown",
   "id": "prescribed-navigator",
   "metadata": {},
   "source": [
    "## Problem 67\n",
    "\n",
    "Solution from Problem 18"
   ]
  },
  {
   "cell_type": "code",
   "execution_count": 3,
   "id": "motivated-ordinary",
   "metadata": {},
   "outputs": [
    {
     "name": "stdout",
     "output_type": "stream",
     "text": [
      "Solution 67 = 7273\n"
     ]
    }
   ],
   "source": [
    "def getTriangle(inputfile):\n",
    "    triangle = []\n",
    "    with open(inputfile) as f:    \n",
    "        for l in f:\n",
    "            line = l.strip('\\n').split(\" \")\n",
    "            l = []\n",
    "            for c in line:\n",
    "                l.append(int(c))\n",
    "            triangle.append(l)\n",
    "    return triangle\n",
    "\n",
    "\n",
    "def getTriangleMaxPath(triangle):\n",
    "    path = []\n",
    "    for i in range(len(triangle)):\n",
    "        if i==0:\n",
    "            path = [ triangle[i][0] ]\n",
    "        else:\n",
    "            newpath = triangle[i]\n",
    "            for j in range(len(triangle[i])):\n",
    "                if j==0:\n",
    "                    newpath[j] += path[0]\n",
    "                elif j==len(triangle[i])-1:\n",
    "                    newpath[j] += path[-1]\n",
    "                else:\n",
    "                    newpath[j] += max(path[j-1],path[j])\n",
    "            path = newpath\n",
    "\n",
    "    return max(path)\n",
    "\n",
    "triangle67 = getTriangle(\"./data/p067_triangle.txt\")\n",
    "maxpath67 = getTriangleMaxPath(triangle67)\n",
    "print(\"Solution 67 =\",maxpath67)"
   ]
  },
  {
   "cell_type": "markdown",
   "id": "numerous-tribune",
   "metadata": {},
   "source": [
    "## Problem 69 - Totient maximum\n",
    "\n",
    "https://projecteuler.net/problem=69"
   ]
  },
  {
   "cell_type": "code",
   "execution_count": 59,
   "id": "arbitrary-religion",
   "metadata": {},
   "outputs": [],
   "source": [
    "from math import gcd\n",
    "\n",
    "## Using GCD is not very efficient for large numbers!\n",
    "def phi_gcd(n):\n",
    "    return sum([ 1 for k in range(1,n+1) if gcd(n,k)==1 ])\n",
    "\n",
    "def phi(n):\n",
    "    phi = int(n > 1 and n)\n",
    "    for p in range(2, int(n ** .5) + 1):\n",
    "        if not n % p:\n",
    "            phi -= phi // p\n",
    "            while not n % p:\n",
    "                n //= p\n",
    "    if n > 1: phi -= phi // n \n",
    "    return phi"
   ]
  },
  {
   "cell_type": "code",
   "execution_count": 62,
   "id": "mathematical-twins",
   "metadata": {},
   "outputs": [],
   "source": [
    "def solve69(nlim=1_000_000):\n",
    "    nmax = 0\n",
    "    rmax = 0\n",
    "    for n in range(2,nlim+1):\n",
    "        r = n/phi(n)\n",
    "        if r>rmax:\n",
    "            rmax = r\n",
    "            nmax = n\n",
    "            print(\"{:7d} {:4.2f}\".format(nmax,rmax))\n",
    "    return nmax"
   ]
  },
  {
   "cell_type": "code",
   "execution_count": 63,
   "id": "radical-plymouth",
   "metadata": {},
   "outputs": [
    {
     "name": "stdout",
     "output_type": "stream",
     "text": [
      "      2 2.00\n",
      "      6 3.00\n"
     ]
    },
    {
     "data": {
      "text/plain": [
       "6"
      ]
     },
     "execution_count": 63,
     "metadata": {},
     "output_type": "execute_result"
    }
   ],
   "source": [
    "solve69(10)"
   ]
  },
  {
   "cell_type": "code",
   "execution_count": 64,
   "id": "modern-convenience",
   "metadata": {
    "scrolled": true
   },
   "outputs": [
    {
     "name": "stdout",
     "output_type": "stream",
     "text": [
      "      2 2.00\n",
      "      6 3.00\n",
      "     30 3.75\n",
      "    210 4.38\n",
      "   2310 4.81\n",
      "  30030 5.21\n",
      " 510510 5.54\n"
     ]
    },
    {
     "data": {
      "text/plain": [
       "510510"
      ]
     },
     "execution_count": 64,
     "metadata": {},
     "output_type": "execute_result"
    }
   ],
   "source": [
    "solve69()"
   ]
  },
  {
   "cell_type": "code",
   "execution_count": null,
   "id": "powerful-script",
   "metadata": {},
   "outputs": [],
   "source": []
  }
 ],
 "metadata": {
  "kernelspec": {
   "display_name": "Python 3",
   "language": "python",
   "name": "python3"
  },
  "language_info": {
   "codemirror_mode": {
    "name": "ipython",
    "version": 3
   },
   "file_extension": ".py",
   "mimetype": "text/x-python",
   "name": "python",
   "nbconvert_exporter": "python",
   "pygments_lexer": "ipython3",
   "version": "3.9.13"
  }
 },
 "nbformat": 4,
 "nbformat_minor": 5
}
