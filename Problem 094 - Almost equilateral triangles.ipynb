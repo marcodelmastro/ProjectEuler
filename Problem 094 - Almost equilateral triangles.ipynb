{
 "cells": [
  {
   "cell_type": "markdown",
   "id": "8726b3c2",
   "metadata": {},
   "source": [
    "###  Problem 94 - Almost equilateral triangles\n",
    "\n",
    "https://projecteuler.net/problem=94\n",
    "\n",
    "<img src=\"./notes/note_p094.jpg\" alt=\"\" width=\"600\" align=\"center\"/>"
   ]
  },
  {
   "cell_type": "code",
   "execution_count": 3,
   "id": "cb80b186",
   "metadata": {},
   "outputs": [
    {
     "data": {
      "text/plain": [
       "(2, 1)"
      ]
     },
     "execution_count": 3,
     "metadata": {},
     "output_type": "execute_result"
    }
   ],
   "source": [
    "def pell(x,y):\n",
    "    if x*x-3*y*y ==1:\n",
    "        return True\n",
    "    \n",
    "def solvePell():\n",
    "    x = 1\n",
    "    y = 1\n",
    "    while True:\n",
    "        if pell(x,y):\n",
    "            return x,y\n",
    "            break\n",
    "        x+=1\n",
    "\n",
    "x0,y0 = solvePell()\n",
    "x0,y0"
   ]
  },
  {
   "cell_type": "code",
   "execution_count": 7,
   "id": "e8545dc6",
   "metadata": {},
   "outputs": [
    {
     "name": "stdout",
     "output_type": "stream",
     "text": [
      "a,b = 5, 6\n",
      "a,b = 17, 16\n",
      "a,b = 65, 66\n",
      "a,b = 241, 240\n",
      "a,b = 901, 902\n",
      "a,b = 3361, 3360\n",
      "a,b = 12545, 12546\n",
      "a,b = 46817, 46816\n",
      "a,b = 174725, 174726\n",
      "a,b = 652081, 652080\n",
      "a,b = 2433601, 2433602\n",
      "a,b = 9082321, 9082320\n",
      "a,b = 33895685, 33895686\n",
      "a,b = 126500417, 126500416\n",
      "a,b = 472105985, 472105986\n"
     ]
    },
    {
     "data": {
      "text/plain": [
       "518408346"
      ]
     },
     "execution_count": 7,
     "metadata": {},
     "output_type": "execute_result"
    }
   ],
   "source": [
    "from math import isqrt\n",
    "\n",
    "def solution94(Pmax = 1_000_000_000):\n",
    "    \n",
    "    Psum = 0\n",
    "    \n",
    "    # simplest solution of Pell equation\n",
    "    x0 = 2\n",
    "    y0 = 1 \n",
    "    x = x0\n",
    "    y = y0\n",
    "    \n",
    "    while True:\n",
    "        # Use current (x,y) solution to Pell equation\n",
    "        #print(\"x,y = {}, {}\".format(x,y))\n",
    "        \n",
    "        # Select an integer solution for a=(2x+/-1)/3\n",
    "        a = 0\n",
    "        for s in (-1,+1):\n",
    "            a = 2*x+s\n",
    "            if a%3==0:\n",
    "                a //= 3\n",
    "                break\n",
    "                \n",
    "        # Select b=a+/-1 side value that satisfies area requirements\n",
    "        for s in (-1,+1):\n",
    "            b = a+s       \n",
    "            A = b*y//2 # area\n",
    "            P = 2*a+b # perimeter\n",
    "            S = P//2 # semiperimeter\n",
    "            A2 = S*(S-a)*(S-a)*(S-b) # area from Heron's formula\n",
    "            if A*A==A2 and b>0: # avoid first \"flat\" triangle (0 area) \n",
    "                print(\"a,b = {}, {}\".format(a,b))\n",
    "                if P<Pmax:\n",
    "                    Psum += P\n",
    "                else:\n",
    "                    return Psum\n",
    "        \n",
    "        # generate next solution to Pell equation iteratively from previous and fundamental solutions\n",
    "        x,y = x*x0+3*y*y0, x*y0+x0*y\n",
    "        \n",
    "solution94()"
   ]
  },
  {
   "cell_type": "code",
   "execution_count": null,
   "id": "76cfaf99",
   "metadata": {},
   "outputs": [],
   "source": []
  }
 ],
 "metadata": {
  "kernelspec": {
   "display_name": "Python 3 (ipykernel)",
   "language": "python",
   "name": "python3"
  },
  "language_info": {
   "codemirror_mode": {
    "name": "ipython",
    "version": 3
   },
   "file_extension": ".py",
   "mimetype": "text/x-python",
   "name": "python",
   "nbconvert_exporter": "python",
   "pygments_lexer": "ipython3",
   "version": "3.10.10"
  }
 },
 "nbformat": 4,
 "nbformat_minor": 5
}
