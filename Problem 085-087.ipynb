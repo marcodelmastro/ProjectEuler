{
 "cells": [
  {
   "cell_type": "markdown",
   "id": "ddc601d1",
   "metadata": {},
   "source": [
    "## Problem 85 - Counting rectangles\n",
    "\n",
    "https://projecteuler.net/problem=85\n",
    "\n",
    "When consideting a rectangle 1xN, the number of internal rectangles is the sum:\n",
    "    \n",
    "- N 1x1 rectangles\n",
    "- N-1 1x2 rectangles\n",
    "- N-2 1x3 rectangles\n",
    "- ...\n",
    "- 2 1x(N-1) rectangles\n",
    "- 1 1xN rectangle\n",
    "\n",
    "thus:\n",
    "\n",
    "$$N_{tot}(1\\times N) = \\sum_{n=1}^N n = \\frac{1}{2} N(N+1)$$\n",
    "\n",
    "If the rectangle is Mx1 the same it's true, so for MxN rectangle the total number of internal rectangles will be:\n",
    "\n",
    "$$N_{tot}(M\\times N) = \\sum_{m=1}^M m \\times \\sum_{n=1}^N n = \\frac{1}{4} M(M+1) N(N+1)$$"
   ]
  },
  {
   "cell_type": "code",
   "execution_count": 1,
   "id": "3925610a",
   "metadata": {},
   "outputs": [],
   "source": [
    "def rectangles(M,N):\n",
    "    return M*(M+1)*N*(N+1)//4"
   ]
  },
  {
   "cell_type": "code",
   "execution_count": 2,
   "id": "4782c236",
   "metadata": {},
   "outputs": [
    {
     "data": {
      "text/plain": [
       "18"
      ]
     },
     "execution_count": 2,
     "metadata": {},
     "output_type": "execute_result"
    }
   ],
   "source": [
    "rectangles(2,3)"
   ]
  },
  {
   "cell_type": "code",
   "execution_count": 19,
   "id": "8f09428a",
   "metadata": {},
   "outputs": [
    {
     "name": "stdout",
     "output_type": "stream",
     "text": [
      "36 77 1999998 2772\n"
     ]
    }
   ],
   "source": [
    "from math import sqrt\n",
    "\n",
    "ntarget = 2_000_000\n",
    "\n",
    "solutions = []\n",
    "\n",
    "#nmax = int(sqrt(ntarget))\n",
    "nmax = ntarget\n",
    "\n",
    "dmax = 1E32\n",
    "for m in range(1,nmax+1):\n",
    "    for n in range(1,nmax+1):\n",
    "        r = rectangles(m,n)\n",
    "        if abs(r-ntarget)<dmax:\n",
    "            dmax = abs(r-ntarget)\n",
    "            mmax = m\n",
    "            nmax = n\n",
    "            rmax = r\n",
    "        if r>ntarget:\n",
    "            break\n",
    "        \n",
    "print(mmax,nmax,rmax,mmax*nmax)"
   ]
  },
  {
   "cell_type": "markdown",
   "id": "fb6ab361",
   "metadata": {},
   "source": [
    "## Problem 86 - Cuboid route\n",
    "\n",
    "https://projecteuler.net/problem=86"
   ]
  },
  {
   "cell_type": "code",
   "execution_count": 7,
   "id": "8f3527bc",
   "metadata": {},
   "outputs": [],
   "source": [
    "from math import sqrt\n",
    "from itertools import combinations_with_replacement\n",
    "\n",
    "#def shortest(C):\n",
    "#    w,d,h = C\n",
    "#    return min( sqrt(w**2+(d+h)**2), sqrt((w+h)**2+d**2), sqrt((w+d)**2+h**2) )\n",
    "\n",
    "def shortest(C):\n",
    "    h,w,l = sorted(C)\n",
    "    return sqrt(l**2+(w+h)**2)\n",
    "\n",
    "cuboids = {}\n",
    "integer = {}\n",
    "\n",
    "def countShortestInteger(M=100):\n",
    "    if M in integer.keys():\n",
    "        return integer[M]\n",
    "    count = 0\n",
    "    for c in combinations_with_replacement(range(1,M+1),3):\n",
    "        cs = tuple(sorted(c))\n",
    "        if cs in cuboids.keys():\n",
    "            s = cuboids[cs]\n",
    "        else:\n",
    "            s = shortest(cs)\n",
    "            cuboids[cs] = s\n",
    "        if int(s)==s:\n",
    "            #print(cs)\n",
    "            count += 1\n",
    "    integer[M] = count\n",
    "    return count"
   ]
  },
  {
   "cell_type": "code",
   "execution_count": 8,
   "id": "20d92914",
   "metadata": {},
   "outputs": [
    {
     "data": {
      "text/plain": [
       "2060"
      ]
     },
     "execution_count": 8,
     "metadata": {},
     "output_type": "execute_result"
    }
   ],
   "source": [
    "countShortestInteger(100)"
   ]
  },
  {
   "cell_type": "code",
   "execution_count": 9,
   "id": "192185a5",
   "metadata": {},
   "outputs": [
    {
     "data": {
      "text/plain": [
       "1975"
      ]
     },
     "execution_count": 9,
     "metadata": {},
     "output_type": "execute_result"
    }
   ],
   "source": [
    "countShortestInteger(99)"
   ]
  },
  {
   "cell_type": "code",
   "execution_count": 51,
   "id": "723cdf05",
   "metadata": {},
   "outputs": [
    {
     "data": {
      "text/plain": [
       "2060"
      ]
     },
     "execution_count": 51,
     "metadata": {},
     "output_type": "execute_result"
    }
   ],
   "source": [
    "# Generate w<=M and 2<=d+h<=2M, check result is integer\n",
    "\n",
    "from math import sqrt\n",
    "\n",
    "# w >= d >= h\n",
    "# l_min = w^2 + (d+h)^2\n",
    "# 2 <= d+h <= 2M\n",
    "\n",
    "def countFromSides(M = 10):\n",
    "    n = 0\n",
    "    for w in range(1,M+1): \n",
    "        for d_h in range(2,2*M+1):\n",
    "            if sqrt(w**2+d_h**2).is_integer():\n",
    "                # w must be the longest side to get the shortest path\n",
    "                if (2*w<d_h):\n",
    "                    continue\n",
    "                # w is longer than d+h, any combination of (d,h) would generate a valid cuboid\n",
    "                if w>=d_h:\n",
    "                    n += d_h//2\n",
    "                # w is shorter of d+h, some combination of (d,h) must be rejected to guarantee w>=d>=h\n",
    "                # w >= d >= h -> w >= (d_h)/2 must be satisfied, otherwise no combinations are valid\n",
    "                # e.g. w = 6 and d_h = 8 => (w,d,h) = {(6,6,2), (6,5,3), (6,4,4)}, rejected (6,7,1)\n",
    "                else:\n",
    "                    n += w-(d_h-1)//2\n",
    "    return n\n",
    "\n",
    "countFromSides(100)"
   ]
  },
  {
   "cell_type": "code",
   "execution_count": 65,
   "id": "338db5db",
   "metadata": {},
   "outputs": [
    {
     "data": {
      "text/plain": [
       "1975"
      ]
     },
     "execution_count": 65,
     "metadata": {},
     "output_type": "execute_result"
    }
   ],
   "source": [
    "def countFromSidesRecursive(M = 10,countCache={}):\n",
    "    if M==0:\n",
    "        return 0\n",
    "    if M in countCache.keys():\n",
    "        return countCache[M]\n",
    "    count = countFromSidesRecursive(M-1) # !!!\n",
    "    for d_h in range(2,2*M+1):\n",
    "        if sqrt(M**2+d_h**2).is_integer():\n",
    "            if (2*M<d_h):\n",
    "                continue\n",
    "            if M>=d_h:\n",
    "                count += d_h//2\n",
    "            else:\n",
    "                count += M-(d_h-1)//2\n",
    "    countCache[M] = count\n",
    "    return count\n",
    "\n",
    "countFromSidesRecursive(99)"
   ]
  },
  {
   "cell_type": "code",
   "execution_count": 66,
   "id": "75621160",
   "metadata": {},
   "outputs": [
    {
     "name": "stdout",
     "output_type": "stream",
     "text": [
      "1818 1000457\n"
     ]
    }
   ],
   "source": [
    "cmax = 1_000_000\n",
    "m = 1\n",
    "while True:\n",
    "    c = countFromSidesRecursive(m)\n",
    "    if c>lmax:\n",
    "        print(m,c)\n",
    "        break\n",
    "    m += 1"
   ]
  },
  {
   "cell_type": "markdown",
   "id": "22d1da9d",
   "metadata": {},
   "source": [
    "## Problem 87 - Prime power triples\n",
    "\n",
    "https://projecteuler.net/problem=87"
   ]
  },
  {
   "cell_type": "code",
   "execution_count": 2,
   "id": "521c9df3",
   "metadata": {},
   "outputs": [
    {
     "name": "stdout",
     "output_type": "stream",
     "text": [
      "50000000 1097343\n"
     ]
    }
   ],
   "source": [
    "from ProjectEuler import generatePrimes\n",
    "from collections import defaultdict\n",
    "\n",
    "tmax = 50_000_000\n",
    "\n",
    "def triple(a,b,c):\n",
    "    return a**2 + b**3 + c**4\n",
    "\n",
    "pmax = pow(tmax-2**3-2**4,1/2)\n",
    "primes = []\n",
    "for p in generatePrimes():\n",
    "    if p>pmax:\n",
    "        break\n",
    "    primes.append(p)\n",
    "\n",
    "amax = int(pow(tmax,1/2))\n",
    "bmax = int(pow(tmax,1/3))\n",
    "cmax = int(pow(tmax,1/4))\n",
    "\n",
    "#count = 0 # don't use this! different triples can generate the same number!\n",
    "N = defaultdict(int)\n",
    "\n",
    "for a in primes:\n",
    "    if a>amax:\n",
    "        break\n",
    "    for b in primes:\n",
    "        if b>bmax:\n",
    "            break\n",
    "        for c in primes:\n",
    "            if c>cmax:\n",
    "                break\n",
    "            t = triple(a,b,c)\n",
    "            if t>=tmax:\n",
    "                continue\n",
    "            #count+=1\n",
    "            N[t]+=1\n",
    "            #print((c,b,a), t)\n",
    "\n",
    "print(tmax,len(N.keys()))"
   ]
  },
  {
   "cell_type": "code",
   "execution_count": null,
   "id": "eaf4bd21",
   "metadata": {},
   "outputs": [],
   "source": []
  }
 ],
 "metadata": {
  "kernelspec": {
   "display_name": "Python 3 (ipykernel)",
   "language": "python",
   "name": "python3"
  },
  "language_info": {
   "codemirror_mode": {
    "name": "ipython",
    "version": 3
   },
   "file_extension": ".py",
   "mimetype": "text/x-python",
   "name": "python",
   "nbconvert_exporter": "python",
   "pygments_lexer": "ipython3",
   "version": "3.10.11"
  }
 },
 "nbformat": 4,
 "nbformat_minor": 5
}
