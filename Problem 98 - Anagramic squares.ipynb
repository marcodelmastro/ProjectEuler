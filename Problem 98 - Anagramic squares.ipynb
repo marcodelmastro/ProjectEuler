{
 "cells": [
  {
   "cell_type": "markdown",
   "id": "f0c57bf2",
   "metadata": {},
   "source": [
    "### Problem 98 - Anagramic squares\n",
    "\n",
    "https://projecteuler.net/problem=98"
   ]
  },
  {
   "cell_type": "code",
   "execution_count": 87,
   "id": "e3a0ad20",
   "metadata": {},
   "outputs": [],
   "source": [
    "from collections import defaultdict\n",
    "\n",
    "def findAnagrams(worlds):\n",
    "    sameletters = defaultdict(list)\n",
    "    for w in words:\n",
    "        letters = \"\".join(l for l in sorted(w))\n",
    "        sameletters[letters].append(w)\n",
    "    return [ w for a,w in sameletters.items() if len(w)>1 ]"
   ]
  },
  {
   "cell_type": "code",
   "execution_count": 88,
   "id": "ce35782e",
   "metadata": {},
   "outputs": [
    {
     "data": {
      "text/plain": [
       "[['ACT', 'CAT'],\n",
       " ['ARISE', 'RAISE'],\n",
       " ['BOARD', 'BROAD'],\n",
       " ['CARE', 'RACE'],\n",
       " ['CENTRE', 'RECENT'],\n",
       " ['COURSE', 'SOURCE'],\n",
       " ['CREATION', 'REACTION'],\n",
       " ['CREDIT', 'DIRECT'],\n",
       " ['DANGER', 'GARDEN'],\n",
       " ['DEAL', 'LEAD'],\n",
       " ['DOG', 'GOD'],\n",
       " ['EARN', 'NEAR'],\n",
       " ['EARTH', 'HEART'],\n",
       " ['EAST', 'SEAT'],\n",
       " ['EAT', 'TEA'],\n",
       " ['EXCEPT', 'EXPECT'],\n",
       " ['FILE', 'LIFE'],\n",
       " ['FORM', 'FROM'],\n",
       " ['FORMER', 'REFORM'],\n",
       " ['HATE', 'HEAT'],\n",
       " ['HOW', 'WHO'],\n",
       " ['IGNORE', 'REGION'],\n",
       " ['INTRODUCE', 'REDUCTION'],\n",
       " ['ITEM', 'TIME'],\n",
       " ['ITS', 'SIT'],\n",
       " ['LEAST', 'STEAL'],\n",
       " ['MALE', 'MEAL'],\n",
       " ['MEAN', 'NAME'],\n",
       " ['NIGHT', 'THING'],\n",
       " ['NO', 'ON'],\n",
       " ['NOTE', 'TONE'],\n",
       " ['NOW', 'OWN'],\n",
       " ['PHASE', 'SHAPE'],\n",
       " ['POST', 'SPOT', 'STOP'],\n",
       " ['QUIET', 'QUITE'],\n",
       " ['RATE', 'TEAR'],\n",
       " ['SHEET', 'THESE'],\n",
       " ['SHOUT', 'SOUTH'],\n",
       " ['SHUT', 'THUS'],\n",
       " ['SIGN', 'SING'],\n",
       " ['SURE', 'USER'],\n",
       " ['THROW', 'WORTH']]"
      ]
     },
     "execution_count": 88,
     "metadata": {},
     "output_type": "execute_result"
    }
   ],
   "source": [
    "with open(\"data/p098_words.txt\") as f:\n",
    "    words = f.read().replace('\"',\"\").split(\",\")\n",
    "    \n",
    "anagrams = findAnagrams(words)\n",
    "anagrams"
   ]
  },
  {
   "cell_type": "code",
   "execution_count": 101,
   "id": "89ec526e",
   "metadata": {},
   "outputs": [
    {
     "data": {
      "text/plain": [
       "(1296, 9216)"
      ]
     },
     "execution_count": 101,
     "metadata": {},
     "output_type": "execute_result"
    }
   ],
   "source": [
    "from collections import Counter\n",
    "from itertools import combinations,permutations\n",
    "from math import sqrt\n",
    "\n",
    "def isSquareAnagramPair(pair):\n",
    "    # get unique letters in worlds\n",
    "    letters = list(Counter(pair[0]).keys())\n",
    "    # assign digit to letters, translate to values, check for squares\n",
    "    n1max = 0\n",
    "    n2max = 0\n",
    "    for c in combinations(\"1234567890\",len(letters)): # select N digits correspoing to unique letters in words\n",
    "        for p in permutations(c): # try all possible permutations\n",
    "            # leading zeroes are not permitted. Testing world 1\n",
    "            if p[0]==\"0\":\n",
    "                continue\n",
    "            # generate dictionary letter-digit\n",
    "            translator = { l:d for l,d in zip(letters,p) }\n",
    "            # generate values\n",
    "            n2 = \"\".join(translator[l] for l in pair[1])\n",
    "            if n2[0]==\"0\": # leading zeroes are not permitted. Testing world 2\n",
    "                continue \n",
    "            n1 = \"\".join(translator[l] for l in pair[0])\n",
    "            n1 = int(n1)\n",
    "            n2 = int(n2)\n",
    "            sqn1 = sqrt(n1)\n",
    "            sqn2 = sqrt(n2)\n",
    "            if int(sqn1)==sqn1 and int(sqn2)==sqn2:\n",
    "                return(n1,n2)\n",
    "                # the following lines accounts for possible multiple solutions (there is none)\n",
    "                #if (n1>n1max and n1>n2max) or (n2 > n1max and n2>n2max):\n",
    "                #    n1max = n1\n",
    "                #    n2max = n2\n",
    "    return n1max,n2max\n",
    "\n",
    "isSquareAnagramPair(['CARE', 'RACE'])\n",
    "#isSquareAnagramPair(['EXCEPT', 'EXPECT'])"
   ]
  },
  {
   "cell_type": "code",
   "execution_count": 102,
   "id": "4c0444b1",
   "metadata": {},
   "outputs": [
    {
     "name": "stdout",
     "output_type": "stream",
     "text": [
      "['BOARD', 'BROAD'] 17689 18769\n",
      "['CARE', 'RACE'] 1296 9216\n",
      "['DEAL', 'LEAD'] 1764 4761\n",
      "['DOG', 'GOD'] 169 961\n",
      "['EAST', 'SEAT'] 2916 1296\n",
      "['EAT', 'TEA'] 961 196\n",
      "['FILE', 'LIFE'] 1296 9216\n",
      "['HATE', 'HEAT'] 1369 1936\n",
      "['HOW', 'WHO'] 961 196\n",
      "['ITS', 'SIT'] 961 196\n",
      "['MALE', 'MEAL'] 1369 1936\n",
      "['MEAN', 'NAME'] 2401 1024\n",
      "['NOTE', 'TONE'] 1296 9216\n",
      "['NOW', 'OWN'] 196 961\n",
      "['POST', 'SPOT', 'STOP'] 2916 1296\n",
      "['RATE', 'TEAR'] 1024 2401\n",
      "['SHUT', 'THUS'] 1764 4761\n",
      "\n",
      "Largest square formed by any member of an anagram pair: 18769\n"
     ]
    }
   ],
   "source": [
    "squares = []\n",
    "for pair in anagrams:\n",
    "    n1,n2 = isSquareAnagramPair(pair)\n",
    "    if n1 and n2:\n",
    "        print(pair,n1,n2)\n",
    "        squares.append(n1)\n",
    "        squares.append(n2)\n",
    "        \n",
    "print(\"\\nLargest square formed by any member of an anagram pair:\", max(squares))"
   ]
  },
  {
   "cell_type": "code",
   "execution_count": null,
   "id": "2c943737",
   "metadata": {},
   "outputs": [],
   "source": []
  }
 ],
 "metadata": {
  "kernelspec": {
   "display_name": "Python 3 (ipykernel)",
   "language": "python",
   "name": "python3"
  },
  "language_info": {
   "codemirror_mode": {
    "name": "ipython",
    "version": 3
   },
   "file_extension": ".py",
   "mimetype": "text/x-python",
   "name": "python",
   "nbconvert_exporter": "python",
   "pygments_lexer": "ipython3",
   "version": "3.10.10"
  }
 },
 "nbformat": 4,
 "nbformat_minor": 5
}
