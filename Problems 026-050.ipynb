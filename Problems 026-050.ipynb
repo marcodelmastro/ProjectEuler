{
 "cells": [
  {
   "cell_type": "markdown",
   "metadata": {},
   "source": [
    "## Problem 26 - Reciprocal cycles"
   ]
  },
  {
   "cell_type": "code",
   "execution_count": 1,
   "metadata": {},
   "outputs": [
    {
     "name": "stdout",
     "output_type": "stream",
     "text": [
      "Testing method...\n",
      "1 / 3 = 0.3333333333333333 -> cycle = 1\n",
      "1 / 6 = 0.16666666666666666 -> cycle = 1\n",
      "1 / 7 = 0.14285714285714285 -> cycle = 6\n",
      "1 / 9 = 0.1111111111111111 -> cycle = 1\n",
      "Full execution...\n",
      "d_max = 983 ( cycle lengh = 982 )\n"
     ]
    }
   ],
   "source": [
    "import numpy as np\n",
    "\n",
    "def getLenCycle(d):\n",
    "    \n",
    "    r = 1\n",
    "    rest = []\n",
    "    exact = False\n",
    "    \n",
    "    while True:\n",
    "        # compute reminders of 1/d division as integer/Euclidean divisions\n",
    "        r = ( r % d )\n",
    "        if r == 0: # exact division\n",
    "            #print(\"Exact division, no cycle\")\n",
    "            exact = True\n",
    "            break\n",
    "        # if reminder already found, cycle found\n",
    "        if r in rest:\n",
    "            rest.append(r) # append the repeating reminder, use later to compute cycle lenght\n",
    "            break\n",
    "        rest.append(r)\n",
    "        # otherwise pass to next decimal\n",
    "        r = r * 10\n",
    "\n",
    "    lencycle = -1\n",
    "    \n",
    "    if not exact:\n",
    "        rest = np.array(rest)\n",
    "        rep = rest[-1]\n",
    "        rec = np.where(rest == rep)\n",
    "        lencycle = rec[0][1]-rec[0][0]\n",
    "        \n",
    "    return lencycle\n",
    "\n",
    "print(\"Testing method...\")\n",
    "for d in range(1,10):\n",
    "    c = getLenCycle(d)\n",
    "    if (c!=-1):\n",
    "        print(\"1 /\",d,\"=\",1/d,\"-> cycle =\",c)\n",
    "\n",
    "print(\"Full execution...\")\n",
    "cmax = 0\n",
    "dmax = 0 \n",
    "for d in range(1,1000):\n",
    "    c = getLenCycle(d)\n",
    "    #print(d,c,cmax)\n",
    "    if c > cmax:\n",
    "        cmax = c\n",
    "        dmax = d\n",
    "\n",
    "print(\"d_max =\",dmax,\"( cycle lengh =\",cmax,\")\")"
   ]
  },
  {
   "cell_type": "markdown",
   "metadata": {},
   "source": [
    "## Problem 27 - Quadratic primes"
   ]
  },
  {
   "cell_type": "code",
   "execution_count": 2,
   "metadata": {},
   "outputs": [
    {
     "name": "stdout",
     "output_type": "stream",
     "text": [
      "-999 1000 1 -999000\n",
      "-500 998 2 -499000\n",
      "-333 993 3 -330669\n",
      "-247 989 4 -244283\n",
      "-197 983 5 -193651\n",
      "-163 983 6 -160229\n",
      "-131 941 7 -123271\n",
      "-121 947 8 -114587\n",
      "-105 967 10 -101535\n",
      "-61 971 70 -59231\n"
     ]
    }
   ],
   "source": [
    "from ProjectEuler import primeFactors\n",
    "\n",
    "def quadraticForm(a,b,n):\n",
    "    return n*n+a*n+b\n",
    "\n",
    "def isPrime(n):\n",
    "    return len(primeFactors(n))==1\n",
    "\n",
    "#print(isPrime(1), isPrime(51))\n",
    "\n",
    "lenmax = 0\n",
    "for a in range(-999,1000):\n",
    "    for b in range(-1000,1001):\n",
    "        primes = []\n",
    "        for n in range(1,max(abs(a),abs(b))):\n",
    "            p = quadraticForm(a,b,n)\n",
    "            if isPrime(p):\n",
    "                primes.append(p)\n",
    "            else:\n",
    "                break\n",
    "        if len(primes)>0 and len(primes)>lenmax:\n",
    "            lenmax = len(primes)\n",
    "            print(a,b,len(primes),a*b)"
   ]
  },
  {
   "cell_type": "markdown",
   "metadata": {},
   "source": [
    "## Problem 28 - Number spiral diagonals\n",
    "\n",
    "No need to fill all spyral, there's a clear pattern in the diagonal values!"
   ]
  },
  {
   "cell_type": "code",
   "execution_count": 3,
   "metadata": {},
   "outputs": [
    {
     "name": "stdout",
     "output_type": "stream",
     "text": [
      "1001 669171001\n"
     ]
    }
   ],
   "source": [
    "maxside = 1001\n",
    "\n",
    "sumdiag = 1\n",
    "n = 1\n",
    "side = 0 \n",
    "increment = 2 \n",
    "\n",
    "while True:\n",
    "\n",
    "    side += 2 # square side\n",
    "    # elements on diagonals of a given spyral layer\n",
    "    for _ in range(4):\n",
    "        n += increment\n",
    "        sumdiag += n\n",
    "        #print(side, n, sumdiag)\n",
    "\n",
    "    increment += 2 # new spyral layer\n",
    "    if side==maxside:\n",
    "        break\n",
    "        \n",
    "print(side,sumdiag)"
   ]
  },
  {
   "cell_type": "markdown",
   "metadata": {},
   "source": [
    "## Problem 29 - Distinct powers"
   ]
  },
  {
   "cell_type": "code",
   "execution_count": 4,
   "metadata": {},
   "outputs": [
    {
     "name": "stdout",
     "output_type": "stream",
     "text": [
      "9183\n"
     ]
    }
   ],
   "source": [
    "from collections import defaultdict\n",
    "\n",
    "count = defaultdict(lambda:0)\n",
    "\n",
    "amin = 2\n",
    "#amax = 5\n",
    "amax = 100\n",
    "\n",
    "bmin = 2\n",
    "#bmax = 5\n",
    "bmax = 100\n",
    "\n",
    "for a in range(amin,amax+1):\n",
    "    for b in range(bmin,bmax+1):\n",
    "        count[a**b] += 1\n",
    "\n",
    "print(len(count.keys()))"
   ]
  },
  {
   "cell_type": "markdown",
   "metadata": {},
   "source": [
    "## Problem 30 - Digit fifth powers"
   ]
  },
  {
   "cell_type": "code",
   "execution_count": 5,
   "metadata": {},
   "outputs": [
    {
     "name": "stdout",
     "output_type": "stream",
     "text": [
      "4150\n",
      "4151\n",
      "54748\n",
      "92727\n",
      "93084\n",
      "194979\n",
      "Sum (excluding 1) = 443839\n"
     ]
    }
   ],
   "source": [
    "def getDigits(n):\n",
    "    digits = []\n",
    "    for i in range(len(str(n))-1,-1,-1):\n",
    "        d = n // 10**i\n",
    "        digits.append(d)\n",
    "        n = n - d*10**i\n",
    "    return digits\n",
    "\n",
    "def isSumPowDigits(n,p):\n",
    "    s = 0\n",
    "    # begin from larger digit in order to stop sum if pows exceeed n faster\n",
    "    for d in sorted(getDigits(n))[::-1]: \n",
    "        s += d**p\n",
    "        if s > n:\n",
    "            return False\n",
    "    if s==n:\n",
    "        return True\n",
    "    return False\n",
    "\n",
    "p = 5\n",
    "\n",
    "nmax = 1000000\n",
    "s = 0\n",
    "for n in range(1,nmax):\n",
    "    if n!=1 and isSumPowDigits(n,p):\n",
    "        s += n\n",
    "        print(n)\n",
    "\n",
    "print(\"Sum (excluding 1) =\",s)"
   ]
  },
  {
   "cell_type": "markdown",
   "metadata": {},
   "source": [
    "## Problem 31 - Coin sums\n",
    "\n",
    "Solution can be found by summing solutions that do not contain m-th coin and solutions that contain at least one m-th coin of `Sm` value. \n",
    "\n",
    "I define define a recursive function:\n",
    "\n",
    "`countCoins(S[], m, n)`\n",
    "\n",
    "returning as sum of `countCoins(S[], m-1, n)` + `countCoins(S[], m, n-Sm)`, where `Sm` is the value of the m-th coin. The function will need a few \"bottom\" returns returning 1 for when single coing value is reached, and 0 for when the single coin value is smaller then the desided value."
   ]
  },
  {
   "cell_type": "code",
   "execution_count": 6,
   "metadata": {},
   "outputs": [
    {
     "name": "stdout",
     "output_type": "stream",
     "text": [
      "73682\n"
     ]
    }
   ],
   "source": [
    "coinvalues = [1,2,5,10,20,50,100,200]\n",
    "\n",
    "def countCoins(S, m, n): \n",
    "    '''\n",
    "    Returns count of ways we can sum S[0...m-1] coins to get sum n \n",
    "    S = list of coin values\n",
    "    m = how many coin values to use\n",
    "    n = total value to obtain\n",
    "    '''\n",
    "    \n",
    "    # If n is 0 then there is 1 solution (do not include any coin) \n",
    "    if n == 0: \n",
    "        return 1\n",
    "  \n",
    "    # If n is less than 0 then no solution exists \n",
    "    if n < 0: \n",
    "        return 0\n",
    "    \n",
    "    # If there are no coins available anymore and n is still greater than 0, then no solution exists\n",
    "    if m<=0 and n>=0: \n",
    "        return 0\n",
    "  \n",
    "    # Recursive solution:\n",
    "    # Sum of solutions including S[m-1] and solutions excluding S[m-1]\n",
    "    return countCoins(S, m-1, n) + countCoins(S, m, n-S[m-1])\n",
    "\n",
    "print(countCoins(coinvalues, len(coinvalues), 200)) "
   ]
  },
  {
   "cell_type": "markdown",
   "metadata": {},
   "source": [
    "## Problem 32 - Pandigital products"
   ]
  },
  {
   "cell_type": "code",
   "execution_count": 7,
   "metadata": {},
   "outputs": [
    {
     "name": "stdout",
     "output_type": "stream",
     "text": [
      "4 x 1738 = 6952\n",
      "4 x 1963 = 7852\n",
      "12 x 483 = 5796\n",
      "18 x 297 = 5346\n",
      "27 x 198 = 5346\n",
      "28 x 157 = 4396\n",
      "39 x 186 = 7254\n",
      "42 x 138 = 5796\n",
      "48 x 159 = 7632\n",
      "138 x 42 = 5796\n",
      "157 x 28 = 4396\n",
      "159 x 48 = 7632\n",
      "186 x 39 = 7254\n",
      "198 x 27 = 5346\n",
      "297 x 18 = 5346\n",
      "483 x 12 = 5796\n",
      "1738 x 4 = 6952\n",
      "1963 x 4 = 7852\n",
      "Sum of 1-9 pandigital products (ignoring multiple way to obtain one product) = 45228\n"
     ]
    }
   ],
   "source": [
    "from itertools import permutations\n",
    "from copy import deepcopy\n",
    "from collections import defaultdict\n",
    "\n",
    "digits = list(range(1,10))\n",
    "\n",
    "products = defaultdict(lambda:0)\n",
    "\n",
    "# all possible lenghts of first number\n",
    "for l1 in range(1,len(digits)-2):\n",
    "\n",
    "    for p1 in permutations(digits,l1):\n",
    "\n",
    "        # generate first number of lenght l1\n",
    "        n1 = \"\"\n",
    "        for d in p1:\n",
    "            n1+=str(d)\n",
    "        n1 = int(n1)\n",
    "\n",
    "        # generate list of remaining digits\n",
    "        newdigits = deepcopy(digits)\n",
    "        for d in p1:\n",
    "            newdigits.remove(d)\n",
    "\n",
    "        # all possible lenghts of second number\n",
    "        for l2 in range(1,len(digits)-l1-1):\n",
    "       \n",
    "            for p2 in permutations(newdigits,l2):\n",
    "                # generate second number of lenght l2 \n",
    "                n2 = \"\"\n",
    "                for d in p2:\n",
    "                    n2+=str(d)\n",
    "                n2 = int(n2)\n",
    "\n",
    "                # generate third number from permutation of remaining digits\n",
    "                lastdigits = deepcopy(newdigits)\n",
    "                for d in p2:\n",
    "                    lastdigits.remove(d)\n",
    "                \n",
    "                #print(l1,l2,len(digits)-l1-l2)\n",
    "\n",
    "                for p3 in permutations(lastdigits,len(digits)-l1-l2):\n",
    "                    n3 = \"\"\n",
    "                    for d in p3:\n",
    "                        n3+=str(d)\n",
    "                    n3 = int(n3) \n",
    "\n",
    "                    if n1*n2==n3:\n",
    "                        print(n1,\"x\",n2,\"=\",n3)\n",
    "                        products[n3] +=1\n",
    "                        \n",
    "print(\"Sum of 1-9 pandigital products (ignoring multiple way to obtain one product) =\",sum(products.keys())) "
   ]
  },
  {
   "cell_type": "markdown",
   "metadata": {},
   "source": [
    "## Problem 33 - Digit cancelling fractions"
   ]
  },
  {
   "cell_type": "code",
   "execution_count": 8,
   "metadata": {},
   "outputs": [
    {
     "name": "stdout",
     "output_type": "stream",
     "text": [
      "49 / 98 = 4 / 8\n",
      "19 / 95 = 1 / 5\n",
      "26 / 65 = 2 / 5\n",
      "16 / 64 = 1 / 4\n"
     ]
    }
   ],
   "source": [
    "for den in range(99,11,-1):\n",
    "\n",
    "    d = den // 10\n",
    "    u = den - d*10\n",
    "\n",
    "    if u==0: # skip trivial solutions\n",
    "        continue\n",
    "        \n",
    "    #print(den,d,u)\n",
    "\n",
    "    # I want to compose all 2-digits integers smalled then den and having at least\n",
    "    # one digit equal to one of den's digits, so that \"simplification\" can happen\n",
    "\n",
    "    for i in range(1,10):\n",
    "        nums = [ 10*i+d, 10*d+i, 10*i+u, 10*u+i ]\n",
    "        frac = [ n/den for n in nums ]\n",
    "        fsim = [ i/u, i/u, i/d, i/d ]\n",
    "        for j in range(4):\n",
    "            if frac[j]==fsim[j] and fsim[j]<1.: # avoid fraction greater then 1\n",
    "                num = int(frac[j]*den)\n",
    "                ns = i\n",
    "                if j==0 or j==1:\n",
    "                    ds = u\n",
    "                else:\n",
    "                    ds = d\n",
    "                #if num // ns != 10 and den // ds != 10: # avoid trivial solution\n",
    "                print(num,\"/\",den,\"=\",ns,\"/\",ds)"
   ]
  },
  {
   "cell_type": "markdown",
   "metadata": {},
   "source": [
    "> If the product of these four fractions is given in its lowest common terms, find the value of the denominator.\n",
    "\n",
    "4/8 * 1/5 * 2/5 * 1/4 = 1/100"
   ]
  },
  {
   "cell_type": "markdown",
   "metadata": {},
   "source": [
    "## Problem 34 "
   ]
  },
  {
   "cell_type": "code",
   "execution_count": 9,
   "metadata": {},
   "outputs": [
    {
     "name": "stdout",
     "output_type": "stream",
     "text": [
      "145\n",
      "40585\n",
      "Result = 40730\n"
     ]
    }
   ],
   "source": [
    "from math import factorial\n",
    "\n",
    "# start by finding maximum number where sum of factorial of digits is larger or equal of number itself\n",
    "# to restict the search, here only considering 9! since it gives the largest possible contribution per digit\n",
    "\n",
    "f9 = factorial(9)\n",
    "tt = 0\n",
    "ff = 0\n",
    "i = 0\n",
    "while True:\n",
    "    tt += 9*10**i\n",
    "    ff += f9\n",
    "    #print(i,tt,ff)\n",
    "    if tt>=ff:\n",
    "        break\n",
    "    i += 1\n",
    "    \n",
    "# ...then (brute force) search!\n",
    "\n",
    "# Probably not the smartest search: I could have started from the largest number and decreased, \n",
    "# and used previous factorial digit sum by applying a correction on the changing digit(s). This \n",
    "# anyway assumes that the largest cost is computing factorial(n) for 0-9 digits, but I hope the \n",
    "# python implementation I'm using has some kind of memoization: if so, I would not have gained much!\n",
    "\n",
    "ss = 0\n",
    "\n",
    "for n in range(1,tt):\n",
    "    dig = [ int(s) for s in str(n) ] # is there a more clever way to get the digits of a integer?\n",
    "    s = 0\n",
    "    for d in sorted(dig)[::-1]: # compute factorial of digits from largest to check for excess and in case break\n",
    "        s += factorial(d)\n",
    "        if s > n:\n",
    "            break\n",
    "    if s==n and s!=1 and s!=2:\n",
    "        ss += n\n",
    "        print(n)\n",
    "        \n",
    "print(\"Result =\",ss)"
   ]
  },
  {
   "cell_type": "markdown",
   "metadata": {},
   "source": [
    "## Problem 35 - Circular primes"
   ]
  },
  {
   "cell_type": "code",
   "execution_count": 10,
   "metadata": {},
   "outputs": [
    {
     "name": "stdout",
     "output_type": "stream",
     "text": [
      "78498 999983\n"
     ]
    }
   ],
   "source": [
    "# Generates primes numbers list. It needs to contain primes larger than pmax, \n",
    "# since *cyclic* permutations (rotations) of digits will be accounted for!\n",
    "# For 1M it's ok (largest prime < 1M = 999983, which permutations are all smaller)\n",
    "\n",
    "from ProjectEuler import generatePrimes\n",
    "\n",
    "primes = []\n",
    "\n",
    "pmax = 1_000_000\n",
    "\n",
    "for n in generatePrimes():\n",
    "    if n>pmax: \n",
    "        break\n",
    "    primes.append(n)\n",
    "        \n",
    "print(len(primes),primes[-1])"
   ]
  },
  {
   "cell_type": "code",
   "execution_count": 11,
   "metadata": {},
   "outputs": [
    {
     "name": "stdout",
     "output_type": "stream",
     "text": [
      "55\n"
     ]
    }
   ],
   "source": [
    "from itertools import permutations\n",
    "from collections import defaultdict\n",
    "import numpy as np\n",
    "\n",
    "circular = defaultdict(lambda:0)\n",
    "\n",
    "for p in primes:\n",
    "    \n",
    "    digs = [int(s) for s in str(p)]\n",
    "\n",
    "    skip = False\n",
    "    for d in digs:\n",
    "        # if any digit is pair a permutation will be pair, so skip (but keep 2)\n",
    "        if d in [0,2,4,6,8] and p!=2: \n",
    "            skip = True\n",
    "            break\n",
    "    if skip:\n",
    "        continue\n",
    "    \n",
    "    perms = []\n",
    "    permArePrime = True\n",
    "    \n",
    "    # generate cyclic permutations (cannot use itertools permutations for this!)\n",
    "    for i in range(len(digs)):\n",
    "        ns = \"\"\n",
    "        for j in range(i,i+len(digs)):\n",
    "            ns += str(digs[j%len(digs)])\n",
    "        n = int(ns)\n",
    "        if n in primes:\n",
    "            perms.append(n)\n",
    "        else:\n",
    "            permArePrime = False\n",
    "            break\n",
    "\n",
    "    if permArePrime:\n",
    "        for p in perms:\n",
    "            circular[p] +=1\n",
    "\n",
    "\n",
    "circ = np.array(sorted(circular.keys()),dtype=int)\n",
    "print(len(circ[circ<pmax]))"
   ]
  },
  {
   "cell_type": "markdown",
   "metadata": {},
   "source": [
    "## Problem 36 - Double-base palindromes"
   ]
  },
  {
   "cell_type": "code",
   "execution_count": 8,
   "metadata": {},
   "outputs": [
    {
     "name": "stdout",
     "output_type": "stream",
     "text": [
      "1 1\n",
      "3 11\n",
      "5 101\n",
      "7 111\n",
      "9 1001\n",
      "33 100001\n",
      "99 1100011\n",
      "313 100111001\n",
      "585 1001001001\n",
      "717 1011001101\n",
      "7447 1110100010111\n",
      "9009 10001100110001\n",
      "15351 11101111110111\n",
      "32223 111110111011111\n",
      "39993 1001110000111001\n",
      "53235 1100111111110011\n",
      "53835 1101001001001011\n",
      "73737 10010000000001001\n",
      "585585 10001110111101110001\n",
      "Sum = 872187\n"
     ]
    }
   ],
   "source": [
    "ssum = 0\n",
    "\n",
    "for n in range(1,1_000_000):\n",
    "    b = bin(n)[2:] # remove training '0b'\n",
    "    s = str(n)\n",
    "    if b==b[::-1] and s==s[::-1]:\n",
    "        ssum += n\n",
    "        print(n,b)\n",
    "        \n",
    "print(\"Sum =\",ssum)"
   ]
  },
  {
   "cell_type": "markdown",
   "metadata": {},
   "source": [
    "## Problem 37 - Truncatable primes"
   ]
  },
  {
   "cell_type": "code",
   "execution_count": 65,
   "metadata": {},
   "outputs": [
    {
     "name": "stdout",
     "output_type": "stream",
     "text": [
      "1 23\n",
      "2 37\n",
      "3 53\n",
      "4 73\n",
      "5 313\n",
      "6 317\n",
      "7 373\n",
      "8 797\n",
      "9 3137\n",
      "10 3797\n",
      "11 739397\n",
      "Sum of truncatable primes = 748317\n"
     ]
    }
   ],
   "source": [
    "# 1 is not prime. primeFactors(1) returns []\n",
    "\n",
    "from ProjectEuler import generatePrimes, primeFactors, memoize\n",
    "\n",
    "# memoize function to check whether number is prime\n",
    "\n",
    "def isPrime(n):\n",
    "    f = primeFactors(n)\n",
    "    if len(f)!=1:\n",
    "        return False\n",
    "    else:\n",
    "        return True\n",
    "\n",
    "isPrime_mem = memoize(isPrime)\n",
    "\n",
    "ssum = 0\n",
    "count = 0\n",
    "\n",
    "for n in generatePrimes():\n",
    "\n",
    "    if n in [2, 3, 5, 7]:\n",
    "        continue\n",
    "    \n",
    "    s = str(n)\n",
    "    truncLeft = True\n",
    "    for i in range(1,len(s)):\n",
    "        ss = int(s[i:])\n",
    "        if not isPrime_mem(ss): # truncation not prime\n",
    "            truncLeft = False\n",
    "            break\n",
    "    \n",
    "    s = str(n)\n",
    "    truncRight = True\n",
    "    for i in range(len(s)-1,0,-1):\n",
    "        ss = int(s[:i])\n",
    "        if not isPrime_mem(ss): # truncation not prime\n",
    "            truncRight = False\n",
    "            break\n",
    "\n",
    "    if truncLeft and truncRight:\n",
    "        count +=1\n",
    "        ssum += n\n",
    "        print(count, n)\n",
    "        \n",
    "    if count==11:\n",
    "        break\n",
    "        \n",
    "print(\"Sum of truncatable primes =\",ssum)"
   ]
  },
  {
   "cell_type": "markdown",
   "metadata": {},
   "source": [
    "## Problem 38 - Pandigital multiples"
   ]
  },
  {
   "cell_type": "code",
   "execution_count": 40,
   "metadata": {},
   "outputs": [
    {
     "name": "stdout",
     "output_type": "stream",
     "text": [
      "1 9 123456789\n",
      "9 5 918273645\n",
      "192 3 192384576\n",
      "219 3 219438657\n",
      "273 3 273546819\n",
      "327 3 327654981\n",
      "6729 2 672913458\n",
      "6792 2 679213584\n",
      "6927 2 692713854\n",
      "7269 2 726914538\n",
      "7293 2 729314586\n",
      "7329 2 732914658\n",
      "7692 2 769215384\n",
      "7923 2 792315846\n",
      "7932 2 793215864\n",
      "9267 2 926718534\n",
      "9273 2 927318546\n",
      "9327 2 932718654\n",
      "Max pandigital multiple = 932718654\n"
     ]
    }
   ],
   "source": [
    "def isPandigits(n):\n",
    "    d = \"123456789\"\n",
    "    s = str(n)\n",
    "    if len(s)!=len(d):\n",
    "        return False\n",
    "    for c in d:\n",
    "        if c not in s:\n",
    "            return False\n",
    "    return True    \n",
    "\n",
    "n = 1\n",
    "mmax = 1\n",
    "\n",
    "while True:\n",
    "\n",
    "    c = \"\"\n",
    "    m = 0\n",
    "    i = 0\n",
    "\n",
    "    while len(c)<9:\n",
    "        i += 1\n",
    "        c += str(n*i)\n",
    "        m = int(c)\n",
    "        if isPandigits(m):\n",
    "            print(n,i,m)\n",
    "            if m>mmax:\n",
    "                mmax = m\n",
    "\n",
    "    if i==1: # not very efficient, but I did not find a more clever condition to stop the loop earlier\n",
    "        break\n",
    "        \n",
    "    n+=1\n",
    "    \n",
    "print(\"Max pandigital multiple =\",mmax)"
   ]
  },
  {
   "cell_type": "markdown",
   "metadata": {},
   "source": [
    "## Problem 39 - Integer right triangles"
   ]
  },
  {
   "cell_type": "code",
   "execution_count": 1,
   "metadata": {},
   "outputs": [
    {
     "name": "stdout",
     "output_type": "stream",
     "text": [
      "840\n"
     ]
    }
   ],
   "source": [
    "# Generate Pythagorean Triple accoding to\n",
    "# https://mathworld.wolfram.com/PythagoreanTriple.html\n",
    "\n",
    "import numpy as np\n",
    "\n",
    "def gen_prim_pyth_trips(limit=None):\n",
    "    u = np.mat(' 1  2  2; -2 -1 -2; 2 2 3')\n",
    "    a = np.mat(' 1  2  2;  2  1  2; 2 2 3')\n",
    "    d = np.mat('-1 -2 -2;  2  1  2; 2 2 3')\n",
    "    uad = np.array([u, a, d])\n",
    "    m = np.array([3, 4, 5])\n",
    "    while m.size:\n",
    "        m = m.reshape(-1, 3)\n",
    "        if limit:\n",
    "            m = m[m[:, 2] <= limit]\n",
    "        yield from m\n",
    "        m = np.dot(m, uad)\n",
    "\n",
    "def gen_all_pyth_trips(limit):\n",
    "    for prim in gen_prim_pyth_trips(limit):\n",
    "        i = prim\n",
    "        for _ in range(limit//prim[2]):\n",
    "            yield i\n",
    "            i = i + prim\n",
    "\n",
    "#p = 120\n",
    "#for a,b,c in gen_all_pyth_trips(p//2):\n",
    "#    if a+b+c==p:\n",
    "#        print(a,b,c)\n",
    "       \n",
    "from collections import defaultdict\n",
    "\n",
    "#triplets = defaultdict(lambda: [])\n",
    "triplets_count = defaultdict(lambda: 0)\n",
    "\n",
    "p = 1000\n",
    "for a,b,c in gen_all_pyth_trips(p//2):\n",
    "    if a+b+c <= p:\n",
    "        #triplets[a+b+c].append((a,b,c))\n",
    "        triplets_count[a+b+c]+=1\n",
    "\n",
    "print(max(triplets_count, key=triplets_count.get))"
   ]
  },
  {
   "cell_type": "markdown",
   "metadata": {},
   "source": [
    "## Problem 40 - Champernowne's constant"
   ]
  },
  {
   "cell_type": "code",
   "execution_count": 13,
   "metadata": {},
   "outputs": [
    {
     "name": "stdout",
     "output_type": "stream",
     "text": [
      "210\n"
     ]
    }
   ],
   "source": [
    "d = \"\"\n",
    "for i in range(1000000):\n",
    "    d += str(i)\n",
    "r = int(d[1]) * int(d[10]) * int(d[100]) * int(d[1000]) * int(d[10000]) * int(d[100000]) * int(d[1000000])\n",
    "print(r)    "
   ]
  },
  {
   "cell_type": "markdown",
   "metadata": {},
   "source": [
    "## Problem 41 - Pandigital prime"
   ]
  },
  {
   "cell_type": "code",
   "execution_count": 15,
   "metadata": {},
   "outputs": [
    {
     "name": "stdout",
     "output_type": "stream",
     "text": [
      "Largest pandigital prime = 7652413\n"
     ]
    }
   ],
   "source": [
    "def isPandigits(n):\n",
    "    s = str(n)\n",
    "    d = \"\"\n",
    "    for i in range(1,len(s)+1):\n",
    "        d+=str(i)\n",
    "    if len(s)!=len(d):\n",
    "        return False\n",
    "    for c in d:\n",
    "        if c not in s:\n",
    "            return False\n",
    "    return True\n",
    "\n",
    "from ProjectEuler import generatePrimes\n",
    "\n",
    "pmax = 987654321\n",
    "\n",
    "p = 1\n",
    "for n in generatePrimes():\n",
    "    if n>=pmax:\n",
    "        break\n",
    "    if n>p and isPandigits(n):\n",
    "        p=n\n",
    "\n",
    "print(\"Largest pandigital prime =\",p)"
   ]
  },
  {
   "cell_type": "markdown",
   "metadata": {},
   "source": [
    "## Problem 42 - Coded triangle numbers"
   ]
  },
  {
   "cell_type": "code",
   "execution_count": 2,
   "metadata": {},
   "outputs": [
    {
     "name": "stdout",
     "output_type": "stream",
     "text": [
      "55\n"
     ]
    }
   ],
   "source": [
    "# using ASCII codes\n",
    "alphabet = [ chr(i) for i in range(65,91) ]\n",
    "\n",
    "def wordValue(w):\n",
    "    v = 0\n",
    "    for c in w:\n",
    "        v+=alphabet.index(c)+1\n",
    "    return(v)\n",
    "\n",
    "print(wordValue('SKY'))"
   ]
  },
  {
   "cell_type": "code",
   "execution_count": 3,
   "metadata": {},
   "outputs": [
    {
     "name": "stdout",
     "output_type": "stream",
     "text": [
      "1786 words, max value 192\n"
     ]
    }
   ],
   "source": [
    "f = open(\"./data/p042_words.txt\")\n",
    "values = []\n",
    "for w in f.read().split(','):\n",
    "    tw = wordValue(w.replace('\"',''))\n",
    "    values.append(tw)\n",
    "print(\"{} words, max value {}\".format(len(values),max(values)))"
   ]
  },
  {
   "cell_type": "code",
   "execution_count": 9,
   "metadata": {},
   "outputs": [
    {
     "data": {
      "text/plain": [
       "[1, 3, 6, 10, 15, 21, 28, 36, 45, 55, 66, 78, 91, 105, 120, 136, 153, 171, 190]"
      ]
     },
     "execution_count": 9,
     "metadata": {},
     "output_type": "execute_result"
    }
   ],
   "source": [
    "# Triangle numbers\n",
    "# tn = ½n(n+1)\n",
    "# generate only up to maximum word value\n",
    "\n",
    "triangles = []\n",
    "for n in range(1,100):\n",
    "    t = (n*(n+1))//2\n",
    "    if t<=max(values):\n",
    "        triangles.append(t)\n",
    "    else:\n",
    "        break\n",
    "\n",
    "triangles"
   ]
  },
  {
   "cell_type": "code",
   "execution_count": 10,
   "metadata": {},
   "outputs": [
    {
     "name": "stdout",
     "output_type": "stream",
     "text": [
      "162\n"
     ]
    }
   ],
   "source": [
    "count = 0\n",
    "for v in values:\n",
    "    if v in triangles:\n",
    "        count += 1\n",
    "print(count)"
   ]
  },
  {
   "cell_type": "markdown",
   "metadata": {},
   "source": [
    "## Problem 43 - Sub-string divisibility"
   ]
  },
  {
   "cell_type": "code",
   "execution_count": 46,
   "metadata": {},
   "outputs": [
    {
     "name": "stdout",
     "output_type": "stream",
     "text": [
      "1406357289\n",
      "1430952867\n",
      "1460357289\n",
      "4106357289\n",
      "4130952867\n",
      "4160357289\n",
      "Sum = 16695334890\n"
     ]
    }
   ],
   "source": [
    "def isSubstringDivisible(m):\n",
    "    div = [2,3,5,7,11,13,17]\n",
    "    for i in range(1,1+len(div)):\n",
    "        m = int(n[i:i+3])\n",
    "        if m%div[i-1] != 0:\n",
    "            return False\n",
    "    return True\n",
    "\n",
    "from itertools import permutations\n",
    "\n",
    "dig = ['0','1','2','3','4','5','6','7','8','9']\n",
    "\n",
    "s = 0\n",
    "for d in permutations(dig,10):\n",
    "    if d[0]=='0':\n",
    "        continue\n",
    "    n = \"\".join(d)\n",
    "    if isSubstringDivisible(m):\n",
    "        print(n)\n",
    "        s += int(n)\n",
    "\n",
    "print(\"Sum =\",s)"
   ]
  },
  {
   "cell_type": "markdown",
   "metadata": {},
   "source": [
    "## Problem 44 - Pentagon numbers\n",
    "\n",
    "$P_n = n(3n−1)/2$"
   ]
  },
  {
   "cell_type": "code",
   "execution_count": 37,
   "metadata": {},
   "outputs": [
    {
     "name": "stdout",
     "output_type": "stream",
     "text": [
      "(1560090, 7042750) 8602840 5482660\n"
     ]
    }
   ],
   "source": [
    "from collections import defaultdict\n",
    "from itertools import combinations\n",
    "\n",
    "Pn = defaultdict(bool)\n",
    "\n",
    "def pn(n):\n",
    "    return n*(3*n-1)//2\n",
    "\n",
    "for n in range(1,10000):\n",
    "    Pn[pn(n)] = True\n",
    "\n",
    "for p in combinations(Pn.keys(),2):\n",
    "    sump = sum(p)\n",
    "    if Pn[sump]:\n",
    "        difp = max(p)-min(p)\n",
    "        if Pn[difp]:\n",
    "            print(p,sump,difp)\n",
    "            break"
   ]
  },
  {
   "cell_type": "markdown",
   "metadata": {},
   "source": [
    "## Problem 45 - Triangular, pentagonal, and hexagonal"
   ]
  },
  {
   "cell_type": "code",
   "execution_count": 58,
   "metadata": {},
   "outputs": [
    {
     "name": "stdout",
     "output_type": "stream",
     "text": [
      "1533776805\n"
     ]
    }
   ],
   "source": [
    "def T(n):\n",
    "    return n*(n+1)//2\n",
    "\n",
    "def P(n):\n",
    "    return n*(3*n-1)//2\n",
    "\n",
    "def H(n):\n",
    "    return n*(2*n-1)\n",
    "\n",
    "from itertools import combinations\n",
    "\n",
    "Pn = defaultdict(bool)\n",
    "Tn = defaultdict(bool)\n",
    "Hn = defaultdict(bool)\n",
    "\n",
    "for n in range(1,100000):\n",
    "    Pn[P(n)]=True\n",
    "    Tn[T(n)]=True\n",
    "    Hn[H(n)]=True\n",
    "\n",
    "for p in Pn.keys():\n",
    "    if Tn[p] and Hn[p] and p>40755:\n",
    "        print(p)\n",
    "        break"
   ]
  },
  {
   "cell_type": "markdown",
   "metadata": {},
   "source": [
    "## Problem 46 - Goldbach's other conjecture"
   ]
  },
  {
   "cell_type": "code",
   "execution_count": 25,
   "metadata": {},
   "outputs": [
    {
     "name": "stdout",
     "output_type": "stream",
     "text": [
      "5777\n"
     ]
    }
   ],
   "source": [
    "from ProjectEuler import primeFactors, generatePrimes\n",
    "from math import sqrt\n",
    "\n",
    "def isPrime(n):\n",
    "    return len(primeFactors(n))==1\n",
    "\n",
    "def isSquare(n):\n",
    "    return sqrt(n).is_integer()\n",
    "\n",
    "def isGoldbach(n):\n",
    "    #if n==1:\n",
    "    #    return True\n",
    "    for p in generatePrimes():\n",
    "        if p>n:\n",
    "            return False\n",
    "        m = (n-p)//2\n",
    "        if isSquare(m):\n",
    "            return True\n",
    "\n",
    "#n = 1\n",
    "n = 3\n",
    "while True:\n",
    "    if not isPrime(n):\n",
    "        if not isGoldbach(n):\n",
    "            print(n)\n",
    "            break\n",
    "    n += 2"
   ]
  },
  {
   "cell_type": "markdown",
   "metadata": {},
   "source": [
    "## Problem 47 - Distinct primes factors"
   ]
  },
  {
   "cell_type": "code",
   "execution_count": 90,
   "metadata": {},
   "outputs": [],
   "source": [
    "from ProjectEuler import primeFactors\n",
    "from collections import defaultdict, Counter\n",
    "\n",
    "def isPrime(n):\n",
    "    return len(primeFactors(n))==1\n",
    "\n",
    "def primeFactorsPowers(n):\n",
    "    f = primeFactors(n)\n",
    "    c = Counter(f)\n",
    "    return [ i**j for i,j in zip(c.keys(),c.values()) ]\n",
    "\n",
    "def findConsecutives(k=3):\n",
    "    factors = defaultdict(lambda: [])\n",
    "    n = 1\n",
    "    while True:\n",
    "        factors[n] = primeFactorsPowers(n)\n",
    "        if len(factors[n]) != k:\n",
    "            pass\n",
    "        else:\n",
    "            followOK = True\n",
    "            nextfactors = []\n",
    "            for i in range(n+1,n+k):\n",
    "                if not len(factors[i]):\n",
    "                    factors[i] = primeFactorsPowers(i)\n",
    "                if len(factors[i])!=k:\n",
    "                    followOK = False\n",
    "                    break\n",
    "                nextfactors = nextfactors + factors[i]\n",
    "            if not followOK:\n",
    "                pass\n",
    "            else:\n",
    "                select = True\n",
    "                for f in factors[n]:\n",
    "                    if f in nextfactors:\n",
    "                        select = False\n",
    "                        break\n",
    "                if select:\n",
    "                    return [i for i in range(n,n+k)]\n",
    "        n+=1"
   ]
  },
  {
   "cell_type": "code",
   "execution_count": 91,
   "metadata": {},
   "outputs": [
    {
     "name": "stdout",
     "output_type": "stream",
     "text": [
      "[14, 15]\n",
      "[644, 645, 646]\n"
     ]
    }
   ],
   "source": [
    "print(findConsecutives(2))\n",
    "print(findConsecutives(3))"
   ]
  },
  {
   "cell_type": "code",
   "execution_count": 92,
   "metadata": {},
   "outputs": [
    {
     "name": "stdout",
     "output_type": "stream",
     "text": [
      "[134043, 134044, 134045, 134046]\n"
     ]
    }
   ],
   "source": [
    "print(findConsecutives(4))"
   ]
  },
  {
   "cell_type": "markdown",
   "metadata": {},
   "source": [
    "## Problem 48 - Self powers"
   ]
  },
  {
   "cell_type": "code",
   "execution_count": 13,
   "metadata": {},
   "outputs": [
    {
     "name": "stdout",
     "output_type": "stream",
     "text": [
      "9110846700\n"
     ]
    }
   ],
   "source": [
    "n = 1000\n",
    "b = sum([i**i for i in range(1,n+1)])\n",
    "print(str(b)[-10:])"
   ]
  },
  {
   "cell_type": "markdown",
   "metadata": {},
   "source": [
    "## Problem 49 - Prime permutations"
   ]
  },
  {
   "cell_type": "code",
   "execution_count": 20,
   "metadata": {},
   "outputs": [],
   "source": [
    "from ProjectEuler import generatePrimes\n",
    "\n",
    "# 4-digit primes\n",
    "primes4dig = []\n",
    "for n in generatePrimes():\n",
    "    if n<1000:\n",
    "        pass\n",
    "    elif 1000<n<9999:\n",
    "        primes4dig.append(n)\n",
    "    else:\n",
    "        break"
   ]
  },
  {
   "cell_type": "code",
   "execution_count": 35,
   "metadata": {},
   "outputs": [
    {
     "name": "stdout",
     "output_type": "stream",
     "text": [
      "(1487, 4817, 8147) 148748178147\n",
      "(2969, 6299, 9629) 296962999629\n"
     ]
    }
   ],
   "source": [
    "from itertools import combinations\n",
    "\n",
    "k = 0\n",
    "for c in combinations(primes4dig,3):\n",
    "    p1,p2,p3 = c\n",
    "    if sorted(str(p1))==sorted(str(p2))==sorted(str(p3)): # are permutations\n",
    "        if sorted(c)[1]-sorted(c)[0]==sorted(c)[2]-sorted(c)[1]: # have same distance\n",
    "            print(c,\"\".join([str(j) for j in sorted(c)]))\n",
    "            k += 1\n",
    "    if k==2:\n",
    "        break"
   ]
  },
  {
   "cell_type": "markdown",
   "metadata": {},
   "source": [
    "## Problem 50 - Consecutive prime sum"
   ]
  },
  {
   "cell_type": "code",
   "execution_count": 75,
   "metadata": {},
   "outputs": [],
   "source": [
    "from ProjectEuler import generatePrimes, primeFactors\n",
    "from collections import defaultdict\n",
    "def isPrime(n):\n",
    "    return len(primeFactors(n))==1\n",
    "\n",
    "def maxPrimeSum(nmax=100,verbose=False):\n",
    "    \n",
    "    primedict = defaultdict(bool)\n",
    "    primes = []\n",
    "    for n in generatePrimes():\n",
    "        if n>nmax:\n",
    "            break\n",
    "        primes.append(n)\n",
    "        primedict[n] = True\n",
    "\n",
    "    pmax = 0\n",
    "    plen = 0\n",
    "    ps = 0\n",
    "    for i in range(2,len(primes)+1):\n",
    "        if i<plen:\n",
    "            pass\n",
    "        \n",
    "        for j in range(len(primes)-i+1):\n",
    "            if len(primes[j:j+i])%2==0 and primes[j]!=2:\n",
    "                pass\n",
    "            if len(primes[j:j+i])%2!=0 and primes[j]==2:\n",
    "                pass\n",
    "            ps = sum(primes[j:j+i])\n",
    "            if ps>nmax:\n",
    "                break\n",
    "            if primedict[ps]:\n",
    "                if len(primes[j:j+i]) > plen:\n",
    "                    plen = len(primes[j:j+i])\n",
    "                    pmax = ps\n",
    "                    if verbose:\n",
    "                        print(pmax,plen)\n",
    "    return pmax"
   ]
  },
  {
   "cell_type": "code",
   "execution_count": 78,
   "metadata": {
    "scrolled": true
   },
   "outputs": [
    {
     "name": "stdout",
     "output_type": "stream",
     "text": [
      "41\n",
      "953\n",
      "9521\n"
     ]
    }
   ],
   "source": [
    "print(maxPrimeSum(100))\n",
    "print(maxPrimeSum(1000))\n",
    "print(maxPrimeSum(10000))"
   ]
  },
  {
   "cell_type": "code",
   "execution_count": 79,
   "metadata": {},
   "outputs": [
    {
     "name": "stdout",
     "output_type": "stream",
     "text": [
      "92951\n"
     ]
    }
   ],
   "source": [
    "print(maxPrimeSum(100000))"
   ]
  },
  {
   "cell_type": "code",
   "execution_count": 82,
   "metadata": {},
   "outputs": [
    {
     "name": "stdout",
     "output_type": "stream",
     "text": [
      "997651\n"
     ]
    }
   ],
   "source": [
    "print(maxPrimeSum(1000000))"
   ]
  },
  {
   "cell_type": "code",
   "execution_count": null,
   "metadata": {},
   "outputs": [],
   "source": []
  }
 ],
 "metadata": {
  "kernelspec": {
   "display_name": "Python 3",
   "language": "python",
   "name": "python3"
  },
  "language_info": {
   "codemirror_mode": {
    "name": "ipython",
    "version": 3
   },
   "file_extension": ".py",
   "mimetype": "text/x-python",
   "name": "python",
   "nbconvert_exporter": "python",
   "pygments_lexer": "ipython3",
   "version": "3.9.13"
  }
 },
 "nbformat": 4,
 "nbformat_minor": 2
}
