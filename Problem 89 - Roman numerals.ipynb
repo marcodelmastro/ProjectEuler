{
 "cells": [
  {
   "cell_type": "markdown",
   "id": "04036816",
   "metadata": {},
   "source": [
    "# Problem 89 - Roman numerals\n",
    "\n",
    "https://projecteuler.net/about=roman_numerals"
   ]
  },
  {
   "cell_type": "markdown",
   "id": "934ff9ee",
   "metadata": {},
   "source": [
    "The input text file contains one thousand numbers written in **valid, but not necessarily minimal**, Roman numerals. Find the number of characters saved by writing each of these in their minimal form.\n",
    "\n",
    "Note: You can assume that all the Roman numerals in the file contain no more than four consecutive identical units."
   ]
  },
  {
   "cell_type": "code",
   "execution_count": 103,
   "id": "f7427ea0",
   "metadata": {},
   "outputs": [],
   "source": [
    "def roman2Arabic(r):\n",
    "    a = 0\n",
    "    for i in range(len(r)):\n",
    "        if i > 0 and value[r[i]] > value[r[i-1]]:\n",
    "            a += value[r[i]] - 2*value[r[i-1]] # subtract twice since preceeding value would have already been added\n",
    "        else:\n",
    "            a += value[r[i]]\n",
    "    return a\n",
    "\n",
    "def arabic2Roman(a):\n",
    "    num = [1, 4, 5, 9, 10, 40, 50, 90, 100, 400, 500, 900, 1000]\n",
    "    sym = [\"I\", \"IV\", \"V\", \"IX\", \"X\", \"XL\", \"L\", \"XC\", \"C\", \"CD\", \"D\", \"CM\", \"M\"]\n",
    "    i = 12\n",
    "    r = \"\"\n",
    "    while a:\n",
    "        div = a // num[i]\n",
    "        a %= num[i]\n",
    "        while div:\n",
    "            r += sym[i]\n",
    "            div -= 1\n",
    "        i -= 1\n",
    "    return r\n",
    "\n",
    "def reduceRoman(R):\n",
    "    return arabic2Roman(roman2Arabic(R))"
   ]
  },
  {
   "cell_type": "code",
   "execution_count": 102,
   "id": "7f9fb05a",
   "metadata": {},
   "outputs": [
    {
     "name": "stdout",
     "output_type": "stream",
     "text": [
      "743\n"
     ]
    }
   ],
   "source": [
    "with open(\"data/p089_roman.txt\") as f:\n",
    "    romans = [ l.strip() for l in f.readlines() ]\n",
    "    reduced = [ arabic2Roman(roman2Arabic(r)) for r in romans ]\n",
    "    \n",
    "print( len(\"\".join(romans))-len(\"\".join(reduced)) )"
   ]
  },
  {
   "cell_type": "code",
   "execution_count": null,
   "id": "21983707",
   "metadata": {},
   "outputs": [],
   "source": []
  }
 ],
 "metadata": {
  "kernelspec": {
   "display_name": "Python 3 (ipykernel)",
   "language": "python",
   "name": "python3"
  },
  "language_info": {
   "codemirror_mode": {
    "name": "ipython",
    "version": 3
   },
   "file_extension": ".py",
   "mimetype": "text/x-python",
   "name": "python",
   "nbconvert_exporter": "python",
   "pygments_lexer": "ipython3",
   "version": "3.10.10"
  }
 },
 "nbformat": 4,
 "nbformat_minor": 5
}
