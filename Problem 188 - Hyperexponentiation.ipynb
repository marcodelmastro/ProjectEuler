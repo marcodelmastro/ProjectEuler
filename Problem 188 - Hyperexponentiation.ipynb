{
 "cells": [
  {
   "cell_type": "markdown",
   "metadata": {},
   "source": [
    "# Problem 188 - Hyperexponentiation\n",
    "\n",
    "https://projecteuler.net/problem=188"
   ]
  },
  {
   "cell_type": "code",
   "execution_count": 110,
   "metadata": {},
   "outputs": [],
   "source": [
    "def tetration(a,n):\n",
    "    if n==0:\n",
    "        return 1\n",
    "    else:\n",
    "        return a**tetration(a,n-1)"
   ]
  },
  {
   "cell_type": "code",
   "execution_count": 111,
   "metadata": {},
   "outputs": [
    {
     "name": "stdout",
     "output_type": "stream",
     "text": [
      "7625597484987\n",
      "97484987\n"
     ]
    }
   ],
   "source": [
    "t = tetration(3,3)\n",
    "print(t)\n",
    "print(t%100000000) # keep only last 8 digits"
   ]
  },
  {
   "cell_type": "markdown",
   "metadata": {},
   "source": [
    "Esplicit implementation won't work. Recursion level is not a problem, it's the size of the integers involved in the exponentiation operations that would make them last forever.\n",
    "\n",
    "Since I'm only interested in the last 8 digits, I can to translate the problem in a modular algebra contect, esploiting the [Fermat little theorem](https://en.wikipedia.org/wiki/Fermat%27s_little_theorem):\n",
    "\n",
    "$ a^p = a \\mod p $\n",
    "\n",
    "I can replace the `**` exponentiation with a modular algebra `powmod`, and luckly Python implements this natively!"
   ]
  },
  {
   "cell_type": "code",
   "execution_count": 113,
   "metadata": {},
   "outputs": [],
   "source": [
    "def tetrationMod(a,n,mod=100000000):\n",
    "    if n==0:\n",
    "        return 1\n",
    "    else:\n",
    "        return pow(a,tetrationMod(a,n-1,mod),mod) # Python native modular esponentiation"
   ]
  },
  {
   "cell_type": "code",
   "execution_count": 114,
   "metadata": {},
   "outputs": [
    {
     "data": {
      "text/plain": [
       "97484987"
      ]
     },
     "execution_count": 114,
     "metadata": {},
     "output_type": "execute_result"
    }
   ],
   "source": [
    "tetrationMod(3,3)"
   ]
  },
  {
   "cell_type": "code",
   "execution_count": 119,
   "metadata": {},
   "outputs": [
    {
     "name": "stdout",
     "output_type": "stream",
     "text": [
      "95962097\n"
     ]
    }
   ],
   "source": [
    "a = 1777\n",
    "n = 1855\n",
    "t = tetrationMod(a,n,mod=100000000)\n",
    "print(t)"
   ]
  },
  {
   "cell_type": "code",
   "execution_count": null,
   "metadata": {},
   "outputs": [],
   "source": []
  }
 ],
 "metadata": {
  "kernelspec": {
   "display_name": "Python 3",
   "language": "python",
   "name": "python3"
  },
  "language_info": {
   "codemirror_mode": {
    "name": "ipython",
    "version": 3
   },
   "file_extension": ".py",
   "mimetype": "text/x-python",
   "name": "python",
   "nbconvert_exporter": "python",
   "pygments_lexer": "ipython3",
   "version": "3.9.10"
  }
 },
 "nbformat": 4,
 "nbformat_minor": 4
}
