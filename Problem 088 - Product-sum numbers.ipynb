{
 "cells": [
  {
   "cell_type": "markdown",
   "id": "77812554",
   "metadata": {},
   "source": [
    "### Problem 88 - Product-sum numbers\n",
    "\n",
    "https://projecteuler.net/problem=88\n",
    "\n",
    "<img src=\"./notes/note_p088.jpg\" alt=\"\" width=\"600\" align=\"center\"/>"
   ]
  },
  {
   "cell_type": "code",
   "execution_count": 10,
   "id": "853bbaf4",
   "metadata": {},
   "outputs": [],
   "source": [
    "from math import sqrt\n",
    "\n",
    "divmem={}\n",
    "\n",
    "def divisors(n,start=2):\n",
    "    '''Compute divisors. Can start from 2 to avois 1 and n in the list.'''\n",
    "    if n in divmem.keys():\n",
    "        return divmem[n]\n",
    "    divisors = []\n",
    "    for i in range(2,int(sqrt(n)+1)):\n",
    "        if (n%i==0) :\n",
    "            d = n//i\n",
    "            if (n//i==i) :\n",
    "                divisors.append(i)\n",
    "            else :\n",
    "                divisors.append(i)\n",
    "                divisors.append(n//i)\n",
    "    divisors = sorted(divisors)\n",
    "    divmem[n] = divisors\n",
    "    return divisors\n",
    "\n",
    "prodmem={}\n",
    "\n",
    "def products(n):\n",
    "    '''Computes all lists of values which product results in n, using recursion on each divisors.'''\n",
    "    if n in prodmem.keys():\n",
    "        return prodmem[n]\n",
    "    DD = []\n",
    "    for d in divisors(n):\n",
    "        div = n//d\n",
    "        Dnew = sorted([d,div])\n",
    "        if Dnew not in DD:\n",
    "            DD.append(Dnew)\n",
    "        D = [d]\n",
    "        for dd in products(div):\n",
    "            Dnew = sorted(D+dd)\n",
    "            if Dnew not in DD:\n",
    "                DD.append(Dnew)\n",
    "    prodmem[n]=DD\n",
    "    return DD\n",
    "\n",
    "def proSumK(n):\n",
    "    '''Returns all product-sum k values for n sorted, starting from products and accounting for 1 terms'''\n",
    "    return sorted([ n-sum(prod)+len(prod) for prod in products(n) ])"
   ]
  },
  {
   "cell_type": "code",
   "execution_count": 11,
   "id": "b7fbd631",
   "metadata": {},
   "outputs": [],
   "source": [
    "from collections import defaultdict\n",
    "\n",
    "def productSumMin(kmax = 12):\n",
    "\n",
    "    prodSum = defaultdict(list)\n",
    "\n",
    "    for n in range (2,2*kmax+1):\n",
    "        psk = proSumK(n)\n",
    "        if len(psk):\n",
    "            for k in psk:\n",
    "                prodSum[k].append(n)\n",
    "\n",
    "    kmin = set()\n",
    "    for k,n in prodSum.items():\n",
    "        if 2<=k<=kmax:\n",
    "            kmin.add(min(n))\n",
    "\n",
    "    return kmin"
   ]
  },
  {
   "cell_type": "code",
   "execution_count": 12,
   "id": "8a553046",
   "metadata": {},
   "outputs": [
    {
     "name": "stdout",
     "output_type": "stream",
     "text": [
      "{4, 6, 8, 12, 15, 16} 61\n"
     ]
    }
   ],
   "source": [
    "kmin = productSumMin(12)\n",
    "print(kmin, sum(kmin))"
   ]
  },
  {
   "cell_type": "code",
   "execution_count": 13,
   "id": "57a385e2",
   "metadata": {},
   "outputs": [
    {
     "name": "stdout",
     "output_type": "stream",
     "text": [
      "7587457\n"
     ]
    }
   ],
   "source": [
    "kmin = productSumMin(12_000)\n",
    "print(sum(kmin))"
   ]
  },
  {
   "cell_type": "code",
   "execution_count": null,
   "id": "4e0b999d",
   "metadata": {},
   "outputs": [],
   "source": []
  }
 ],
 "metadata": {
  "kernelspec": {
   "display_name": "Python 3 (ipykernel)",
   "language": "python",
   "name": "python3"
  },
  "language_info": {
   "codemirror_mode": {
    "name": "ipython",
    "version": 3
   },
   "file_extension": ".py",
   "mimetype": "text/x-python",
   "name": "python",
   "nbconvert_exporter": "python",
   "pygments_lexer": "ipython3",
   "version": "3.10.10"
  }
 },
 "nbformat": 4,
 "nbformat_minor": 5
}
