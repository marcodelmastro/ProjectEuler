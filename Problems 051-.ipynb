{
 "cells": [
  {
   "cell_type": "markdown",
   "id": "otherwise-imperial",
   "metadata": {},
   "source": [
    "# Project Euler\n",
    "\n",
    "https://projecteuler.net/progress"
   ]
  },
  {
   "cell_type": "code",
   "execution_count": null,
   "id": "stunning-health",
   "metadata": {},
   "outputs": [],
   "source": []
  },
  {
   "cell_type": "code",
   "execution_count": null,
   "id": "silver-malta",
   "metadata": {},
   "outputs": [],
   "source": []
  },
  {
   "cell_type": "markdown",
   "id": "material-despite",
   "metadata": {},
   "source": [
    "## Problem 52 - Permuted multiples\n",
    "\n",
    "https://projecteuler.net/problem=52"
   ]
  },
  {
   "cell_type": "code",
   "execution_count": 1,
   "id": "ultimate-curve",
   "metadata": {},
   "outputs": [
    {
     "name": "stdout",
     "output_type": "stream",
     "text": [
      "142857\n"
     ]
    }
   ],
   "source": [
    "from collections import Counter\n",
    "\n",
    "def checkDigits(n):\n",
    "    c1 = Counter(str(n))\n",
    "    c2 = Counter(str(2*n))\n",
    "    c3 = Counter(str(3*n))\n",
    "    c4 = Counter(str(4*n))\n",
    "    c5 = Counter(str(5*n))\n",
    "    c6 = Counter(str(6*n))    \n",
    "    return c1.keys()==c2.keys()==c3.keys()==c4.keys()==c5.keys()==c6.keys()\n",
    "\n",
    "n = 1\n",
    "while True:\n",
    "    if checkDigits(n):\n",
    "        print(n)\n",
    "        break\n",
    "    n += 1"
   ]
  },
  {
   "cell_type": "markdown",
   "id": "derived-alarm",
   "metadata": {},
   "source": [
    "## Problem 53 - Combinatoric selections\n",
    "\n",
    "https://projecteuler.net/problem=53"
   ]
  },
  {
   "cell_type": "code",
   "execution_count": 2,
   "id": "arranged-roulette",
   "metadata": {},
   "outputs": [
    {
     "name": "stdout",
     "output_type": "stream",
     "text": [
      "4075\n"
     ]
    }
   ],
   "source": [
    "from math import comb\n",
    "nmax = 100\n",
    "print(sum([ 1 for n in range(1,nmax+1) for r in range(1,n+1) if comb(n,r) > 1_000_000 ]))"
   ]
  },
  {
   "cell_type": "code",
   "execution_count": null,
   "id": "equivalent-browse",
   "metadata": {},
   "outputs": [],
   "source": []
  },
  {
   "cell_type": "code",
   "execution_count": null,
   "id": "sonic-execution",
   "metadata": {},
   "outputs": [],
   "source": []
  },
  {
   "cell_type": "markdown",
   "id": "attended-frequency",
   "metadata": {},
   "source": [
    "## Problem 55 - Lychrel numbers\n",
    "\n",
    "https://projecteuler.net/problem=55"
   ]
  },
  {
   "cell_type": "code",
   "execution_count": 3,
   "id": "opened-advisory",
   "metadata": {},
   "outputs": [
    {
     "name": "stdout",
     "output_type": "stream",
     "text": [
      "249\n"
     ]
    }
   ],
   "source": [
    "def isPalyndrome(n):\n",
    "    sn = str(n)\n",
    "    half = len(sn)//2\n",
    "    first = sn[:half]\n",
    "    second = sn[half+len(sn)%2:][::-1]\n",
    "    return first==second\n",
    "\n",
    "def isLychrel(n,itmax=50,verbose=False):\n",
    "    it = 0\n",
    "    while True:\n",
    "        if verbose:\n",
    "            print(n)\n",
    "        m = n+int(str(n)[::-1])\n",
    "        if isPalyndrome(m):\n",
    "            return False\n",
    "        n = m\n",
    "        it += 1\n",
    "        if it>=itmax:\n",
    "            return True\n",
    "        \n",
    "nLychrel = 0\n",
    "for n in range(1,10_000):\n",
    "    if isLychrel(n,50):\n",
    "        nLychrel += 1\n",
    "\n",
    "print(nLychrel)       "
   ]
  },
  {
   "cell_type": "markdown",
   "id": "aboriginal-prisoner",
   "metadata": {},
   "source": [
    "## Problem 56 - Powerful digit sum\n",
    "\n",
    "https://projecteuler.net/problem=56"
   ]
  },
  {
   "cell_type": "code",
   "execution_count": 4,
   "id": "resident-mandate",
   "metadata": {},
   "outputs": [
    {
     "name": "stdout",
     "output_type": "stream",
     "text": [
      "972\n"
     ]
    }
   ],
   "source": [
    "maxSum = 1\n",
    "for a in range(1,101):\n",
    "    for b in range(1,101):\n",
    "        sumDigits = sum([ int(c) for c in list(str(a**b))])\n",
    "        if sumDigits > maxSum:\n",
    "            maxSum = sumDigits\n",
    "print(maxSum)"
   ]
  },
  {
   "cell_type": "markdown",
   "id": "intensive-rover",
   "metadata": {},
   "source": [
    "## Problem 57 - Square root convergents\n",
    "\n",
    "https://projecteuler.net/problem=57"
   ]
  },
  {
   "cell_type": "code",
   "execution_count": 2,
   "id": "healthy-assurance",
   "metadata": {},
   "outputs": [
    {
     "name": "stdout",
     "output_type": "stream",
     "text": [
      "153\n"
     ]
    }
   ],
   "source": [
    "def approxSqrt2(n=1):\n",
    "    a = 2\n",
    "    bN = 1\n",
    "    bD = 2\n",
    "    for _ in range(n-1):\n",
    "        bN,bD = bD,bD*a+bN\n",
    "    fN,fD = bD+bN,bD\n",
    "    return fN/fD, len(str(fN))>len(str(fD))\n",
    "\n",
    "count = 0\n",
    "for n in range(1,1001):\n",
    "    sqrt2,DNgtDD = approxSqrt2(n)\n",
    "    if DNgtDD:\n",
    "        count += 1\n",
    "        #print(n,sqrt2)\n",
    "\n",
    "print(count)"
   ]
  },
  {
   "cell_type": "markdown",
   "id": "resident-public",
   "metadata": {},
   "source": [
    "## Problem 58 - Spiral primes\n",
    "\n",
    "https://projecteuler.net/problem=58\n",
    "\n",
    "Spiral diagonals already encoutered in Problem 28"
   ]
  },
  {
   "cell_type": "code",
   "execution_count": 6,
   "id": "dimensional-baseline",
   "metadata": {
    "scrolled": false
   },
   "outputs": [
    {
     "name": "stdout",
     "output_type": "stream",
     "text": [
      " Side  N_Prime  N_Diag  N_Prime/N_Diag\n",
      "======================================\n",
      "26241     5248   52481           0.100\n"
     ]
    }
   ],
   "source": [
    "#from ProjectEuler import isPrime\n",
    "\n",
    "def isPrime(n):\n",
    "    if n == 1:\n",
    "        return False\n",
    "    i = 2\n",
    "    # loop from 2 to int(sqrt(x))\n",
    "    while i*i <= n:\n",
    "        # Check if i divides x without leaving a remainder\n",
    "        if n % i == 0:\n",
    "            # n has a factor in between 2 and sqrt(n), so it is not a prime\n",
    "            return False\n",
    "        i += 1\n",
    "    return True\n",
    "\n",
    "PD = 0\n",
    "D = 1 # count 1 as member of diagonals\n",
    "frac = 0.10\n",
    "\n",
    "print(\" Side  N_Prime  N_Diag  N_Prime/N_Diag\")\n",
    "print(\"======================================\")\n",
    "\n",
    "PDDold = 1.00\n",
    "ndigits = 2\n",
    "\n",
    "n = 1\n",
    "increment = 2 \n",
    "while True:\n",
    "    # elements on diagonals of a given spyral layer. \n",
    "    # The 4-th element (lower right diagonal) is always a square, thus cannot be prime!\n",
    "    #N = ( n+increment, n+2*increment, n+3*increment, n+4*increment )\n",
    "    N = ( n+increment, n+2*increment, n+3*increment )\n",
    "    # check primes on diagonal, compute fraction\n",
    "    PD += sum([ isPrime(m) for m in N ])\n",
    "    D += 4    \n",
    "    PDD = PD/D\n",
    "    #if round(PDD,ndigits) != PDDold:\n",
    "    #    PDDold = round(PDD,ndigits)\n",
    "    #    print(\"{:5d} {:8d} {:7d} {:15.3f}\".format(increment+1,PD,D,PDD))\n",
    "    if PDD < frac:\n",
    "        print(\"{:5d} {:8d} {:7d} {:15.3f}\".format(increment+1,PD,D,PDD))\n",
    "        break\n",
    "    # new spyral layer\n",
    "    n += 4*increment\n",
    "    increment += 2 "
   ]
  },
  {
   "cell_type": "code",
   "execution_count": null,
   "id": "fantastic-reaction",
   "metadata": {},
   "outputs": [],
   "source": []
  }
 ],
 "metadata": {
  "kernelspec": {
   "display_name": "Python 3",
   "language": "python",
   "name": "python3"
  },
  "language_info": {
   "codemirror_mode": {
    "name": "ipython",
    "version": 3
   },
   "file_extension": ".py",
   "mimetype": "text/x-python",
   "name": "python",
   "nbconvert_exporter": "python",
   "pygments_lexer": "ipython3",
   "version": "3.9.10"
  }
 },
 "nbformat": 4,
 "nbformat_minor": 5
}
