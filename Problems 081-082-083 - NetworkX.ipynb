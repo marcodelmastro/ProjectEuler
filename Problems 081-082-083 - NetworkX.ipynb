{
 "cells": [
  {
   "cell_type": "markdown",
   "metadata": {},
   "source": [
    "# Problem 81 - Path sum: two ways\n",
    "\n",
    "Going the lazy (smart?) way: instead of implementing Dijkstra myself I'm using `networkx` weighted graph and its method..."
   ]
  },
  {
   "cell_type": "code",
   "execution_count": 1,
   "metadata": {},
   "outputs": [],
   "source": [
    "import networkx as nx\n",
    "\n",
    "def getDirsTwoWays(p,m):\n",
    "    x,y=p\n",
    "    d = []\n",
    "    if x+1<len(m[0]):\n",
    "        d.append((x+1,y))\n",
    "    if y+1<len(m):\n",
    "        d.append((x,y+1))\n",
    "    return d\n",
    "\n",
    "def getDiGraphTwoWays(matrix):\n",
    "    G = nx.DiGraph() \n",
    "    for y in range(len(matrix)):\n",
    "        for x in range(len(matrix[0])):\n",
    "            p = (x,y)\n",
    "            for pn in getDirsTwoWays(p,matrix):\n",
    "                xn,yn = pn\n",
    "                G.add_edge(p,pn,weight=matrix[yn][xn])\n",
    "    return G\n",
    "\n",
    "def getShortestPathTwoWays(matrix):\n",
    "    G = getDiGraphTwoWays(matrix)\n",
    "    return nx.shortest_path_length(G, source=(0,0), target=(len(matrix)-1,len(matrix[0])-1), weight=\"weight\")+matrix[0][0]"
   ]
  },
  {
   "cell_type": "code",
   "execution_count": 2,
   "metadata": {},
   "outputs": [
    {
     "name": "stdout",
     "output_type": "stream",
     "text": [
      "2427\n"
     ]
    }
   ],
   "source": [
    "matrix_test = [\n",
    "    [131,673,234,103, 18],\n",
    "    [201, 96,342,965,150],\n",
    "    [630,803,746,422,111],\n",
    "    [537,699,497,121,956],\n",
    "    [805,732,524, 37,331]\n",
    "]\n",
    "\n",
    "print(getShortestPathTwoWays(matrix_test))"
   ]
  },
  {
   "cell_type": "code",
   "execution_count": 3,
   "metadata": {},
   "outputs": [
    {
     "data": {
      "text/plain": [
       "427337"
      ]
     },
     "execution_count": 3,
     "metadata": {},
     "output_type": "execute_result"
    }
   ],
   "source": [
    "with open(\"data/p081_matrix.txt\") as f:\n",
    "    matrix = [ [ int(i) for i in l.strip(\"\\n\").split(\",\") ] for l in f.readlines() ]\n",
    "    \n",
    "getShortestPathTwoWays(matrix)"
   ]
  },
  {
   "cell_type": "markdown",
   "metadata": {},
   "source": [
    "# Problem 82 - Path sum: three ways"
   ]
  },
  {
   "cell_type": "code",
   "execution_count": 4,
   "metadata": {},
   "outputs": [],
   "source": [
    "def getDirsThreeWays(p,m):\n",
    "    x,y=p\n",
    "    d = []\n",
    "    if x+1<len(m[0]):\n",
    "        d.append((x+1,y))\n",
    "    if y+1<len(m):\n",
    "        d.append((x,y+1))\n",
    "    if y-1>=0:\n",
    "        d.append((x,y-1))\n",
    "    return d\n",
    "\n",
    "def getDiGraphThreeWays(matrix):\n",
    "    G = nx.DiGraph() \n",
    "    for y in range(len(matrix)):\n",
    "        for x in range(len(matrix[0])):\n",
    "            p = (x,y)\n",
    "            for pn in getDirsThreeWays(p,matrix):\n",
    "                xn,yn = pn\n",
    "                G.add_edge(p,pn,weight=matrix[yn][xn])\n",
    "    return G\n",
    "\n",
    "def getShortestPathThreeWays(matrix):\n",
    "    G = getDiGraphThreeWays(matrix)\n",
    "    lenghts = []\n",
    "    for i in range(len(matrix)):\n",
    "        for j in range(len(matrix)):\n",
    "            d = nx.shortest_path_length(G, source=(0,i), target=(len(matrix)-1,j), weight=\"weight\")+matrix[i][0]\n",
    "            lenghts.append(d)\n",
    "    return min(lenghts)"
   ]
  },
  {
   "cell_type": "code",
   "execution_count": 5,
   "metadata": {},
   "outputs": [
    {
     "data": {
      "text/plain": [
       "994"
      ]
     },
     "execution_count": 5,
     "metadata": {},
     "output_type": "execute_result"
    }
   ],
   "source": [
    "getShortestPathThreeWays(matrix_test)"
   ]
  },
  {
   "cell_type": "code",
   "execution_count": 6,
   "metadata": {},
   "outputs": [
    {
     "data": {
      "text/plain": [
       "260324"
      ]
     },
     "execution_count": 6,
     "metadata": {},
     "output_type": "execute_result"
    }
   ],
   "source": [
    "getShortestPathThreeWays(matrix)"
   ]
  },
  {
   "cell_type": "markdown",
   "metadata": {},
   "source": [
    "# Problem 82 - Path sum: four ways"
   ]
  },
  {
   "cell_type": "code",
   "execution_count": 7,
   "metadata": {},
   "outputs": [],
   "source": [
    "def getDirsFourWays(p,m):\n",
    "    x,y=p\n",
    "    d = []\n",
    "    if x-1>=0:\n",
    "        d.append((x-1,y))\n",
    "    if x+1<len(m[0]):\n",
    "        d.append((x+1,y))\n",
    "    if y+1<len(m):\n",
    "        d.append((x,y+1))\n",
    "    if y-1>=0:\n",
    "        d.append((x,y-1))\n",
    "    return d\n",
    "\n",
    "def getDiGraphFourWays(matrix):\n",
    "    G = nx.DiGraph() \n",
    "    for y in range(len(matrix)):\n",
    "        for x in range(len(matrix[0])):\n",
    "            p = (x,y)\n",
    "            for pn in getDirsFourWays(p,matrix):\n",
    "                xn,yn = pn\n",
    "                G.add_edge(p,pn,weight=matrix[yn][xn])\n",
    "    return G\n",
    "\n",
    "def getShortestPathFourWays(matrix):\n",
    "    G = getDiGraphFourWays(matrix)\n",
    "    return nx.shortest_path_length(G, source=(0,0), target=(len(matrix)-1,len(matrix[0])-1), weight=\"weight\")+matrix[0][0]"
   ]
  },
  {
   "cell_type": "code",
   "execution_count": 8,
   "metadata": {},
   "outputs": [
    {
     "data": {
      "text/plain": [
       "2297"
      ]
     },
     "execution_count": 8,
     "metadata": {},
     "output_type": "execute_result"
    }
   ],
   "source": [
    "getShortestPathFourWays(matrix_test)"
   ]
  },
  {
   "cell_type": "code",
   "execution_count": 9,
   "metadata": {},
   "outputs": [
    {
     "data": {
      "text/plain": [
       "425185"
      ]
     },
     "execution_count": 9,
     "metadata": {},
     "output_type": "execute_result"
    }
   ],
   "source": [
    "getShortestPathFourWays(matrix)"
   ]
  },
  {
   "cell_type": "code",
   "execution_count": null,
   "metadata": {},
   "outputs": [],
   "source": []
  }
 ],
 "metadata": {
  "kernelspec": {
   "display_name": "Python 3",
   "language": "python",
   "name": "python3"
  },
  "language_info": {
   "codemirror_mode": {
    "name": "ipython",
    "version": 3
   },
   "file_extension": ".py",
   "mimetype": "text/x-python",
   "name": "python",
   "nbconvert_exporter": "python",
   "pygments_lexer": "ipython3",
   "version": "3.9.9"
  }
 },
 "nbformat": 4,
 "nbformat_minor": 4
}
