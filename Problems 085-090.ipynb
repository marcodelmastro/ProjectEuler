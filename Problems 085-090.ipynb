{
 "cells": [
  {
   "cell_type": "markdown",
   "id": "ddc601d1",
   "metadata": {},
   "source": [
    "## Problem 85 - Counting rectangles\n",
    "\n",
    "https://projecteuler.net/problem=85\n",
    "\n",
    "When consideting a rectangle 1xN, the number of internal rectangles is the sum:\n",
    "    \n",
    "- N 1x1 rectangles\n",
    "- N-1 1x2 rectangles\n",
    "- N-2 1x3 rectangles\n",
    "- ...\n",
    "- 2 1x(N-1) rectangles\n",
    "- 1 1xN rectangle\n",
    "\n",
    "thus:\n",
    "\n",
    "$$N_{tot}(1\\times N) = \\sum_{n=1}^N n = \\frac{1}{2} N(N+1)$$\n",
    "\n",
    "If the rectangle is Mx1 the same it's true, so for MxN rectangle the total number of internal rectangles will be:\n",
    "\n",
    "$$N_{tot}(M\\times N) = \\sum_{m=1}^M m \\times \\sum_{n=1}^N n = \\frac{1}{4} M(M+1) N(N+1)$$"
   ]
  },
  {
   "cell_type": "code",
   "execution_count": 1,
   "id": "3925610a",
   "metadata": {},
   "outputs": [],
   "source": [
    "def rectangles(M,N):\n",
    "    return M*(M+1)*N*(N+1)//4"
   ]
  },
  {
   "cell_type": "code",
   "execution_count": 2,
   "id": "4782c236",
   "metadata": {},
   "outputs": [
    {
     "data": {
      "text/plain": [
       "18"
      ]
     },
     "execution_count": 2,
     "metadata": {},
     "output_type": "execute_result"
    }
   ],
   "source": [
    "rectangles(2,3)"
   ]
  },
  {
   "cell_type": "code",
   "execution_count": 19,
   "id": "8f09428a",
   "metadata": {},
   "outputs": [
    {
     "name": "stdout",
     "output_type": "stream",
     "text": [
      "36 77 1999998 2772\n"
     ]
    }
   ],
   "source": [
    "from math import sqrt\n",
    "\n",
    "ntarget = 2_000_000\n",
    "\n",
    "solutions = []\n",
    "\n",
    "#nmax = int(sqrt(ntarget))\n",
    "nmax = ntarget\n",
    "\n",
    "dmax = 1E32\n",
    "for m in range(1,nmax+1):\n",
    "    for n in range(1,nmax+1):\n",
    "        r = rectangles(m,n)\n",
    "        if abs(r-ntarget)<dmax:\n",
    "            dmax = abs(r-ntarget)\n",
    "            mmax = m\n",
    "            nmax = n\n",
    "            rmax = r\n",
    "        if r>ntarget:\n",
    "            break\n",
    "        \n",
    "print(mmax,nmax,rmax,mmax*nmax)"
   ]
  },
  {
   "cell_type": "code",
   "execution_count": null,
   "id": "fe572e59",
   "metadata": {},
   "outputs": [],
   "source": []
  }
 ],
 "metadata": {
  "kernelspec": {
   "display_name": "Python 3 (ipykernel)",
   "language": "python",
   "name": "python3"
  },
  "language_info": {
   "codemirror_mode": {
    "name": "ipython",
    "version": 3
   },
   "file_extension": ".py",
   "mimetype": "text/x-python",
   "name": "python",
   "nbconvert_exporter": "python",
   "pygments_lexer": "ipython3",
   "version": "3.10.8"
  }
 },
 "nbformat": 4,
 "nbformat_minor": 5
}
