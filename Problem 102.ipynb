{
 "cells": [
  {
   "cell_type": "markdown",
   "id": "3b412e14",
   "metadata": {},
   "source": [
    "![](./notes/note_p102.jpg)"
   ]
  },
  {
   "cell_type": "code",
   "execution_count": 99,
   "id": "ab7dce8b",
   "metadata": {},
   "outputs": [],
   "source": [
    "def cross(A,B):\n",
    "    xa,ya = A\n",
    "    xb,yb = B\n",
    "    return xa*yb-xb*ya\n",
    "\n",
    "def contains_origin(t):\n",
    "    xa,ya,xb,yb,xc,yc = t\n",
    "    AB = (xb-xa, yb-ya)\n",
    "    BC = (xc-xb, yc-yb)\n",
    "    CA = (xa-xc, ya-yc)\n",
    "    #P = (0,0)\n",
    "    AP = (xa, ya)\n",
    "    BP = (xb, yb)\n",
    "    CP = (xc, yc)\n",
    "    ABxAP = cross(AB,AP)\n",
    "    BCxBP = cross(BC,BP)\n",
    "    CAxCP = cross(CA,CP)\n",
    "    return (ABxAP<0) == (BCxBP<0) == (CAxCP<0) "
   ]
  },
  {
   "cell_type": "code",
   "execution_count": 100,
   "id": "37e3808a",
   "metadata": {},
   "outputs": [
    {
     "data": {
      "text/plain": [
       "(True, False)"
      ]
     },
     "execution_count": 100,
     "metadata": {},
     "output_type": "execute_result"
    }
   ],
   "source": [
    "t1 = [-340,495,-153,-910,835,-947]\n",
    "t2 = [-175, 41,-421,-714,574,-645]\n",
    "contains_origin(t1), contains_origin(t2)"
   ]
  },
  {
   "cell_type": "code",
   "execution_count": 102,
   "id": "653c64fa",
   "metadata": {},
   "outputs": [
    {
     "name": "stdout",
     "output_type": "stream",
     "text": [
      "228\n"
     ]
    }
   ],
   "source": [
    "with open(\"data/0102_triangles.txt\") as f:\n",
    "    triangles = [ [ int(n) for n in l.split(\",\") ] for l in f.read().strip(\"\\n\").splitlines() ]\n",
    "    print( sum([ contains_origin(t) for t in triangles ]) )"
   ]
  },
  {
   "cell_type": "code",
   "execution_count": null,
   "id": "74bde662",
   "metadata": {},
   "outputs": [],
   "source": []
  }
 ],
 "metadata": {
  "kernelspec": {
   "display_name": "Python 3 (ipykernel)",
   "language": "python",
   "name": "python3"
  },
  "language_info": {
   "codemirror_mode": {
    "name": "ipython",
    "version": 3
   },
   "file_extension": ".py",
   "mimetype": "text/x-python",
   "name": "python",
   "nbconvert_exporter": "python",
   "pygments_lexer": "ipython3",
   "version": "3.11.6"
  }
 },
 "nbformat": 4,
 "nbformat_minor": 5
}
