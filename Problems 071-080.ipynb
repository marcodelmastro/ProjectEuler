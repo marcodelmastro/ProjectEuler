{
 "cells": [
  {
   "cell_type": "markdown",
   "id": "starting-worth",
   "metadata": {},
   "source": [
    "## Problem 71 - Ordered fractions\n",
    "\n",
    "https://projecteuler.net/problem=71"
   ]
  },
  {
   "cell_type": "code",
   "execution_count": 2,
   "id": "functional-poland",
   "metadata": {},
   "outputs": [
    {
     "name": "stdout",
     "output_type": "stream",
     "text": [
      "(0.42857128571385716, 428570, 999997)\n"
     ]
    }
   ],
   "source": [
    "from math import gcd\n",
    "\n",
    "dmax = 1_000_000\n",
    "leftfrac = (0,0,0)\n",
    "f37 = 3/7\n",
    "\n",
    "for d in range(1,dmax+1):\n",
    "    n = (3*d)//7\n",
    "    while gcd(n,m)!=1:\n",
    "        n -= 1   \n",
    "    f = n/d\n",
    "    if f<f37 and f>leftfrac[0]:\n",
    "        leftfrac = (f,n,d)\n",
    "print(leftfrac)"
   ]
  },
  {
   "cell_type": "markdown",
   "id": "b1823cbc",
   "metadata": {},
   "source": [
    "## Problem 72 - Counting fractions\n",
    "\n",
    "https://projecteuler.net/problem=72"
   ]
  },
  {
   "cell_type": "code",
   "execution_count": 1,
   "id": "fd8c8729",
   "metadata": {},
   "outputs": [],
   "source": [
    "def phi(n):\n",
    "    '''Euler totient function (count coprimes of input n)'''\n",
    "    phi = int(n > 1 and n)\n",
    "    for p in range(2, int(n ** .5) + 1):\n",
    "        if not n % p:\n",
    "            phi -= phi // p\n",
    "            while not n % p:\n",
    "                n //= p\n",
    "    if n > 1: phi -= phi // n \n",
    "    return phi"
   ]
  },
  {
   "cell_type": "code",
   "execution_count": 2,
   "id": "9cec3ef3",
   "metadata": {},
   "outputs": [],
   "source": [
    "# number of proper fractions for denominator n would be the number of coprimes, counted by Euler totient function\n",
    "\n",
    "def countFrac(n):\n",
    "    return sum([ phi(i) for i in range(1,n+1) ])"
   ]
  },
  {
   "cell_type": "code",
   "execution_count": 3,
   "id": "ab4a1b3a",
   "metadata": {},
   "outputs": [
    {
     "data": {
      "text/plain": [
       "21"
      ]
     },
     "execution_count": 3,
     "metadata": {},
     "output_type": "execute_result"
    }
   ],
   "source": [
    "countFrac(8)"
   ]
  },
  {
   "cell_type": "code",
   "execution_count": 6,
   "id": "eb6897fd",
   "metadata": {},
   "outputs": [
    {
     "name": "stdout",
     "output_type": "stream",
     "text": [
      "Problem 72 result = 303963552391\n",
      "Solved in 22.7452 seconds\n"
     ]
    }
   ],
   "source": [
    "import time\n",
    "\n",
    "tic = time.perf_counter()\n",
    "\n",
    "res = countFrac(1_000_000)\n",
    "print(\"Problem 72 result =\",res)\n",
    "\n",
    "toc = time.perf_counter()\n",
    "print(f\"Solved in {toc - tic:0.4f} seconds\")"
   ]
  },
  {
   "cell_type": "markdown",
   "id": "aa5eb50e",
   "metadata": {},
   "source": [
    "## Problem 73 - Counting fractions in a range\n",
    "\n",
    "https://projecteuler.net/problem=73"
   ]
  },
  {
   "cell_type": "code",
   "execution_count": 67,
   "id": "61530625",
   "metadata": {},
   "outputs": [
    {
     "name": "stdout",
     "output_type": "stream",
     "text": [
      "7295372\n"
     ]
    }
   ],
   "source": [
    "from math import gcd\n",
    "\n",
    "fmin = 1/3\n",
    "fmax = 1/2\n",
    "\n",
    "#dmax = 8\n",
    "dmax = 12_000\n",
    "\n",
    "count = []\n",
    "for d in range(1,dmax+1):\n",
    "    for n in range(d//3,d//2+1):\n",
    "        if gcd(n,d)==1:\n",
    "            f = n/d\n",
    "            if f>fmin and f<fmax:\n",
    "                count.append((f,n,d))\n",
    "\n",
    "print(len(count))"
   ]
  },
  {
   "cell_type": "markdown",
   "id": "dcc0d0ea",
   "metadata": {},
   "source": [
    "## Problem 74 - Digit factorial chains\n",
    "\n",
    "https://projecteuler.net/problem=74"
   ]
  },
  {
   "cell_type": "code",
   "execution_count": 56,
   "id": "a7d6c409",
   "metadata": {},
   "outputs": [
    {
     "data": {
      "text/plain": [
       "[169, 363601, 1454]"
      ]
     },
     "execution_count": 56,
     "metadata": {},
     "output_type": "execute_result"
    }
   ],
   "source": [
    "from math import factorial\n",
    "from collections import defaultdict\n",
    "\n",
    "# Only need the factorials of digits 0-9, caching them to speed up computation\n",
    "factCache = {}\n",
    "for i in range(10):\n",
    "    factCache[i] = factorial(i)\n",
    "\n",
    "# Many chains have repeating tails, caching them to speed up computation\n",
    "chains = defaultdict(list)\n",
    "    \n",
    "def factorialChain(nstart,lmax=0):\n",
    "    chain = [nstart]\n",
    "    n = nstart\n",
    "    while True:\n",
    "        n = sum([ factCache[i] for i in [ int(s) for s in str(n)] ])\n",
    "        if n in chains.keys(): # chains for current value already completed!\n",
    "            chain += chains[n]\n",
    "            chains[nstart] = chain\n",
    "            return chain\n",
    "        if n not in chain:\n",
    "            chain.append(n)\n",
    "        else:\n",
    "            break\n",
    "        if lmax and len(chain)>lmax:\n",
    "            print(\"Longer than {}, skipping\".format(lmax)) # never really happens...\n",
    "            return []\n",
    "    chains[nstart] = chain\n",
    "    return chain\n",
    "\n",
    "factorialChain(169)"
   ]
  },
  {
   "cell_type": "code",
   "execution_count": 57,
   "id": "430e446e",
   "metadata": {},
   "outputs": [
    {
     "name": "stdout",
     "output_type": "stream",
     "text": [
      "Solution 72 = 402\n"
     ]
    }
   ],
   "source": [
    "c = 0\n",
    "for n in range(1,1_000_000):\n",
    "    chain = factorialChain(n,lmax=60)\n",
    "    if len(chain)==60:\n",
    "        c+=1\n",
    "print(\"Solution 72 =\",c)"
   ]
  },
  {
   "cell_type": "markdown",
   "id": "0ecaa109",
   "metadata": {},
   "source": [
    "## Problem 75 - Singular integer right triangles\n",
    "\n",
    "https://projecteuler.net/problem=75"
   ]
  },
  {
   "cell_type": "code",
   "execution_count": 4,
   "id": "3e495fda",
   "metadata": {},
   "outputs": [],
   "source": [
    "def triple(m,n):\n",
    "    a = m**2-n**2\n",
    "    b = 2*m*n\n",
    "    c = m**2+n**2\n",
    "    return a,b,c\n",
    "\n",
    "from collections import defaultdict\n",
    "\n",
    "def wireLenghts(Lmax = 1000):\n",
    "    W = defaultdict(list)\n",
    "    n = 1\n",
    "    # generate all primitive pythagorean triples from Euclid formula\n",
    "    while True:\n",
    "        m = n+1\n",
    "        while True:\n",
    "            t = triple(m,n)\n",
    "            L = sum(t)\n",
    "            if L>Lmax:\n",
    "                break\n",
    "            # generate also non primitive triples in case they can lead to a valid wire lenght\n",
    "            k=1\n",
    "            while True:\n",
    "                tk = [k*x for x in t]\n",
    "                L = sum(tk)\n",
    "                if L>Lmax:\n",
    "                    break\n",
    "                # check for duplicates (different order in the triple)\n",
    "                tks = sorted(tk)\n",
    "                if tks not in W[L]:\n",
    "                    W[L].append(tks)\n",
    "                k+=1\n",
    "            m+=1\n",
    "        if m==n+1:\n",
    "            break\n",
    "        n+=1\n",
    "    return W"
   ]
  },
  {
   "cell_type": "code",
   "execution_count": 5,
   "id": "fdda5b96",
   "metadata": {},
   "outputs": [
    {
     "data": {
      "text/plain": [
       "[[30, 40, 50], [24, 45, 51], [20, 48, 52]]"
      ]
     },
     "execution_count": 5,
     "metadata": {},
     "output_type": "execute_result"
    }
   ],
   "source": [
    "W = wireLenghts(200)\n",
    "W[120]"
   ]
  },
  {
   "cell_type": "code",
   "execution_count": 8,
   "id": "738804de",
   "metadata": {},
   "outputs": [
    {
     "name": "stdout",
     "output_type": "stream",
     "text": [
      "161667\n"
     ]
    }
   ],
   "source": [
    "W = wireLenghts(1_500_000)\n",
    "print(sum([1 for L in W.keys() if len(W[L])==1 ]))"
   ]
  },
  {
   "cell_type": "code",
   "execution_count": null,
   "id": "16ed43bb",
   "metadata": {},
   "outputs": [],
   "source": []
  }
 ],
 "metadata": {
  "kernelspec": {
   "display_name": "Python 3 (ipykernel)",
   "language": "python",
   "name": "python3"
  },
  "language_info": {
   "codemirror_mode": {
    "name": "ipython",
    "version": 3
   },
   "file_extension": ".py",
   "mimetype": "text/x-python",
   "name": "python",
   "nbconvert_exporter": "python",
   "pygments_lexer": "ipython3",
   "version": "3.10.8"
  }
 },
 "nbformat": 4,
 "nbformat_minor": 5
}
