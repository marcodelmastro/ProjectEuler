{
 "cells": [
  {
   "cell_type": "markdown",
   "id": "c7d8393a",
   "metadata": {},
   "source": [
    "### Problem 95 - Amicable chains\n",
    "\n",
    "https://projecteuler.net/problem=95"
   ]
  },
  {
   "cell_type": "code",
   "execution_count": 1,
   "id": "8d0e0d01",
   "metadata": {},
   "outputs": [
    {
     "data": {
      "text/plain": [
       "[1, 2, 4, 5, 10, 11, 20, 22, 44, 55, 110]"
      ]
     },
     "execution_count": 1,
     "metadata": {},
     "output_type": "execute_result"
    }
   ],
   "source": [
    "def primeFactors(n):\n",
    "    \"\"\"Returns all prime factors of a positive integer. Returns n if prime\"\"\"\n",
    "    factors = []\n",
    "    d = 2 # begin by attempting to divide by 2\n",
    "    while n > 1:\n",
    "        while n % d == 0: # check if I can divide n by d, if so store factor and repeat with quotient\n",
    "            factors.append(d)\n",
    "            n /= d\n",
    "        d = d + 1 # increase divident\n",
    "    return factors\n",
    "\n",
    "from itertools import combinations\n",
    "from functools import reduce\n",
    "from operator import mul\n",
    "\n",
    "def properDivisors(n):\n",
    "    '''return proper divisors of n, n excluded'''\n",
    "    p = primeFactors(n)\n",
    "    div = {1}\n",
    "    for k in range(2,len(p)):\n",
    "        for c in combinations(p,k):    \n",
    "            div.add(reduce(mul,c,1))\n",
    "    return sorted(list( div | set(p) ))\n",
    "\n",
    "properDivisors(220)"
   ]
  },
  {
   "cell_type": "code",
   "execution_count": 2,
   "id": "9d8bfee6",
   "metadata": {},
   "outputs": [],
   "source": [
    "def properDivisorDictSlow(nmax=100):\n",
    "    divisors = {}\n",
    "    for i in range(1,nmax+1):\n",
    "        divisors[i] = properDivisors(i)\n",
    "    return divisors"
   ]
  },
  {
   "cell_type": "markdown",
   "id": "f2121d47",
   "metadata": {},
   "source": [
    "It is more efficient to generate the divisor list from the divisors themselves via addition, rather than from the numbers via division:"
   ]
  },
  {
   "cell_type": "code",
   "execution_count": 3,
   "id": "40be1e47",
   "metadata": {},
   "outputs": [],
   "source": [
    "from collections import defaultdict\n",
    "\n",
    "def properDivisorDictFast(nmax=100):\n",
    "    divisors = defaultdict(list)\n",
    "    for i in range(1,nmax//2+1):\n",
    "        n = i\n",
    "        while True:\n",
    "            if n<nmax:\n",
    "                if i!=n:\n",
    "                    divisors[n].append(i)\n",
    "            else:\n",
    "                break\n",
    "            n += i\n",
    "    return divisors"
   ]
  },
  {
   "cell_type": "code",
   "execution_count": 8,
   "id": "8c7e9523",
   "metadata": {},
   "outputs": [
    {
     "name": "stdout",
     "output_type": "stream",
     "text": [
      "0.00011515617370605469 6.604194641113281e-05\n"
     ]
    }
   ],
   "source": [
    "import time\n",
    "\n",
    "nmax = 10\n",
    "\n",
    "t0 = time.time()\n",
    "divisors1 = properDivisorDictSlow(nmax)\n",
    "t1 = time.time()\n",
    "divisors2 = properDivisorDictFast(nmax)\n",
    "t2 = time.time()\n",
    "dt1 = t1-t0\n",
    "dt2 = t2-t1\n",
    "\n",
    "print(dt1,dt2)"
   ]
  },
  {
   "cell_type": "code",
   "execution_count": 9,
   "id": "fbb83fce",
   "metadata": {},
   "outputs": [
    {
     "data": {
      "text/plain": [
       "({1: [1],\n",
       "  2: [1, 2],\n",
       "  3: [1, 3],\n",
       "  4: [1, 2],\n",
       "  5: [1, 5],\n",
       "  6: [1, 2, 3],\n",
       "  7: [1, 7],\n",
       "  8: [1, 2, 4],\n",
       "  9: [1, 3],\n",
       "  10: [1, 2, 5]},\n",
       " defaultdict(list,\n",
       "             {2: [1],\n",
       "              3: [1],\n",
       "              4: [1, 2],\n",
       "              5: [1],\n",
       "              6: [1, 2, 3],\n",
       "              7: [1],\n",
       "              8: [1, 2, 4],\n",
       "              9: [1, 3]}))"
      ]
     },
     "execution_count": 9,
     "metadata": {},
     "output_type": "execute_result"
    }
   ],
   "source": [
    "divisors1,divisors2"
   ]
  },
  {
   "cell_type": "code",
   "execution_count": 60,
   "id": "beffee29",
   "metadata": {},
   "outputs": [],
   "source": [
    "def amicableChains(nmax=500,verbose=False):\n",
    "    if verbose: print(\"Computing proper divisor dictionary...\")\n",
    "    divisors = properDivisorDictFast(nmax)\n",
    "    if verbose: print(\"Computing next-in-chain dictionary...\")\n",
    "    nextinchain = { n: sum(divisors[n]) for n in divisors.keys() }\n",
    "    if verbose: print(\"Forming amicable chains...\")\n",
    "    chains = []\n",
    "    for n in divisors.keys():\n",
    "        chain = [n]\n",
    "        ni = n\n",
    "        while True:\n",
    "            ni = nextinchain[ni]\n",
    "            if ni==1 or ni>nmax:\n",
    "                break\n",
    "            if ni==chain[0]:\n",
    "                chain = sorted(chain)\n",
    "                if (len(chain),chain) not in chains: # saving chain only once\n",
    "                    chains.append((len(chain),chain))\n",
    "                break\n",
    "            if ni in chain and ni != chain[0]:\n",
    "                break\n",
    "            chain.append(ni)\n",
    "    return sorted(chains)"
   ]
  },
  {
   "cell_type": "code",
   "execution_count": 61,
   "id": "5436f92e",
   "metadata": {},
   "outputs": [
    {
     "name": "stdout",
     "output_type": "stream",
     "text": [
      "Computing proper divisor dictionary...\n",
      "Computing next-in-chain dictionary...\n",
      "Forming amicable chains...\n"
     ]
    },
    {
     "data": {
      "text/plain": [
       "[(1, [6]),\n",
       " (1, [28]),\n",
       " (1, [496]),\n",
       " (1, [8128]),\n",
       " (2, [220, 284]),\n",
       " (2, [1184, 1210]),\n",
       " (2, [2620, 2924]),\n",
       " (2, [5020, 5564]),\n",
       " (2, [6232, 6368]),\n",
       " (2, [10744, 10856]),\n",
       " (2, [12285, 14595]),\n",
       " (2, [17296, 18416]),\n",
       " (2, [63020, 76084]),\n",
       " (2, [66928, 66992]),\n",
       " (2, [67095, 71145]),\n",
       " (2, [69615, 87633]),\n",
       " (2, [79750, 88730]),\n",
       " (5, [12496, 14264, 14288, 14536, 15472])]"
      ]
     },
     "execution_count": 61,
     "metadata": {},
     "output_type": "execute_result"
    }
   ],
   "source": [
    "chains = amicableChains(nmax=100_000,verbose=True)\n",
    "chains"
   ]
  },
  {
   "cell_type": "code",
   "execution_count": 66,
   "id": "83b24ada",
   "metadata": {},
   "outputs": [
    {
     "name": "stdout",
     "output_type": "stream",
     "text": [
      "Computing proper divisor dictionary...\n",
      "Computing next-in-chain dictionary...\n",
      "Forming amicable chains...\n",
      "Smallest member of the longest amicable chain < 1.000.000 (lenght = 28) = 14316\n"
     ]
    }
   ],
   "source": [
    "chains = amicableChains(nmax=1_000_000,verbose=True)\n",
    "print(\"Smallest member of the longest amicable chain < 1.000.000 (lenght = {}) = {}\".format(chains[-1][0],chains[-1][1][0]))"
   ]
  },
  {
   "cell_type": "code",
   "execution_count": null,
   "id": "7d371cd8",
   "metadata": {},
   "outputs": [],
   "source": []
  }
 ],
 "metadata": {
  "kernelspec": {
   "display_name": "Python 3 (ipykernel)",
   "language": "python",
   "name": "python3"
  },
  "language_info": {
   "codemirror_mode": {
    "name": "ipython",
    "version": 3
   },
   "file_extension": ".py",
   "mimetype": "text/x-python",
   "name": "python",
   "nbconvert_exporter": "python",
   "pygments_lexer": "ipython3",
   "version": "3.10.10"
  }
 },
 "nbformat": 4,
 "nbformat_minor": 5
}
