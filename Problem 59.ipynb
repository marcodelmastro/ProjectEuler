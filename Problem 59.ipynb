{
 "cells": [
  {
   "cell_type": "markdown",
   "id": "hundred-trustee",
   "metadata": {},
   "source": [
    "# Problem 59\n",
    "\n",
    "https://projecteuler.net/problem=59"
   ]
  },
  {
   "cell_type": "code",
   "execution_count": 39,
   "id": "polish-doctor",
   "metadata": {},
   "outputs": [],
   "source": [
    "from binascii import a2b_base64\n",
    "from itertools import combinations\n",
    "\n",
    "def breakRepXORKey(s,keysize):\n",
    "    # convert base64 text to binary\n",
    "    #b = a2b_base64(s)\n",
    "    b = s\n",
    "    \n",
    "    # Break the ciphertext into blocks of KEYSIZE length, then transpose the blocks. Make a block that is the\n",
    "    # first byte of every block, and a block that is the second byte of every block, and so on.\n",
    "    # This is because each corresponding byte in all blocks has been encrypted with the same key character,\n",
    "    # thus I can try to guess the key character it using the single-character XOR attach implemented at point 4.\n",
    "    nblocks = len(b)//keysize # I'm skipping the last part of the cypher, I could maybe pad it to use the last block\n",
    "    blocks = []\n",
    "    for k in range(keysize):\n",
    "        tblock = []\n",
    "        for i in range(nblocks):\n",
    "            tblock.append(b[k+keysize*i])\n",
    "        blocks.append(tblock)\n",
    "\n",
    "    # Solve each block as if it was single-character XOR, recompose the key!\n",
    "    key = \"\"\n",
    "    for b in blocks:\n",
    "        strings = [ ''.join( chr(n^k) for n in b ) for k in range(256) ]\n",
    "        decoded = max(strings, key=sentenceScore)\n",
    "        key += chr(strings.index(decoded))\n",
    "    print(\"Guessed KEY =\",key)\n",
    "    return key\n",
    "\n",
    "def decodeRepKeyXOR(s,key):\n",
    "    #b = a2b_base64(s)\n",
    "    b = s\n",
    "    i = 0\n",
    "    enc = []\n",
    "    for c in b:\n",
    "        enc.append( c^ord(key[i]) ) # XOR with current key letter\n",
    "        i = (i+1)%len(key) # wrap round key lenght\n",
    "    return \"\".join(chr(i) for i in enc)\n",
    "\n",
    "def repeatingKeyXOR(cipher,key):\n",
    "    i = 0\n",
    "    dec = []\n",
    "    for c in cipher:\n",
    "        dec.append(c^key[i]) # XOR with current key letter\n",
    "        i = (i+1)%len(key) # wrap round key lenght\n",
    "    return dec\n",
    "\n",
    "# using letter frequencies to compute sentence score\n",
    "# https://en.wikipedia.org/wiki/Letter_frequency#Relative_frequencies_of_letters_in_the_English_language\n",
    "\n",
    "letterFreq = {\n",
    "  \" \": 15,\n",
    "  \"e\": 12.702,\n",
    "  \"t\": 9.056,\n",
    "  \"a\": 8.167,\n",
    "  \"o\": 7.507,\n",
    "  \"i\": 6.966,\n",
    "  \"n\": 6.749,\n",
    "  \"s\": 6.327,\n",
    "  \"h\": 6.094,\n",
    "  \"r\": 5.987,\n",
    "  \"d\": 4.253\n",
    "}\n",
    "\n",
    "def sentenceScore(s):\n",
    "    return sum([ letterFreq[c] for c in s if c in letterFreq.keys() ])"
   ]
  },
  {
   "cell_type": "code",
   "execution_count": 49,
   "id": "every-jacksonville",
   "metadata": {},
   "outputs": [
    {
     "name": "stdout",
     "output_type": "stream",
     "text": [
      "Guessed KEY = exp\n",
      "\n",
      "An extract taken from the introduction of one of Euler's most celebrated papers, \"De summis serierum reciprocarum\" [On the sums of series of reciprocals]: I have recently found, quite unexpectedly, an elegant expression for the entire sum of this series 1 + 1/4 + 1/9 + 1/16 + etc., which depends on the quadrature of the circle, so that if the true sum of this series is obtained, from it at once the quadrature of the circle follows. Namely, I have found that the sum of this series is a sixth part of the square of the perimeter of the circle whose diameter is 1; or by putting the sum of this series equal to s, it has the ratio sqrt(6) multiplied by s to 1 of the perimeter to the diameter. I will soon show that the sum of this series to be approximately 1.644934066842264364; and from multiplying this number by six, and then taking the square root, the number 3.141592653589793238 is indeed produced, which expresses the perimeter of a circle whose diameter is 1. Following again the same steps by which I had arrived at this sum, I have discovered that the sum of the series 1 + 1/16 + 1/81 + 1/256 + 1/625 + etc. also depends on the quadrature of the circle. Namely, the sum of this multiplied by 90 gives the biquadrate (fourth power) of the circumference of the perimeter of a circle whose diameter is 1. And by similar reasoning I have likewise been able to determine the sums of the subsequent series in which the exponents are even numbers.\n"
     ]
    }
   ],
   "source": [
    "# with the knowledge that the plain text must contain common English words, \n",
    "# decrypt the message and find the sum of the ASCII values in the original text.\n",
    "\n",
    "with open(\"data/p059_cipher.txt\") as f:\n",
    "    cipher = [ int(c) for c in f.read().strip(\"\\n\").split(\",\") ]\n",
    "\n",
    "keysize = 3\n",
    "key = breakRepXORKey(cipher,keysize)\n",
    "plaintext = decodeRepKeyXOR(cipher,key)\n",
    "print()\n",
    "print(plaintext)"
   ]
  },
  {
   "cell_type": "code",
   "execution_count": 50,
   "id": "upset-england",
   "metadata": {},
   "outputs": [
    {
     "name": "stdout",
     "output_type": "stream",
     "text": [
      "[101, 120, 112]\n",
      "129448\n"
     ]
    }
   ],
   "source": [
    "# find the sum of the ASCII values in the original text.\n",
    "\n",
    "keyval = [ ord(i) for i in key]\n",
    "print(keyval)\n",
    "dec = repeatingKeyXOR(cipher,keyval)\n",
    "print(sum(dec))"
   ]
  },
  {
   "cell_type": "markdown",
   "id": "knowing-centre",
   "metadata": {},
   "source": [
    "### Now trying to guess the key lenght...\n",
    "\n",
    "The analysis using the Hamming distance works, but choose a key lenght that is a multiple of the original one. Given the cipher properties, the breaking algorithm works anyway!"
   ]
  },
  {
   "cell_type": "code",
   "execution_count": 51,
   "id": "divine-beauty",
   "metadata": {},
   "outputs": [],
   "source": [
    "def HammingDistance(b1,b2):\n",
    "    # count differrent bits\n",
    "    countdiffbits = 0\n",
    "    for B1,B2 in zip(b1, b2):\n",
    "        bindiff = bin(B1^B2) # different bits in binary format\n",
    "        countdiffbits += bindiff.count(\"1\") # count occurrences of \"1\"\n",
    "    return countdiffbits\n",
    "\n",
    "def guessRepXORKeyLenght(s):\n",
    "    # convert base64 text to binary\n",
    "    #b = a2b_base64(s)\n",
    "    b = s\n",
    "    \n",
    "    # guess keysize by testing testing several values and choosing that giving the smallest\n",
    "    # normalised Hamming distance on bocks of that size\n",
    "    keys = []\n",
    "    for ks in range(2,41):\n",
    "        # compute normalised Hamming distance between all combinations of blocks of size ks\n",
    "        nbloc = len(b)//ks\n",
    "        blocks = [ b[j*ks:(j+1)*ks] for j in range(nbloc) ]\n",
    "        ndave = 0\n",
    "        ncomb = 0\n",
    "        for c in combinations(blocks,2):            \n",
    "            ndave += HammingDistance(c[0],c[1])\n",
    "            ncomb += 1\n",
    "        ndave /= ncomb*ks\n",
    "        keys.append((ks,ndave))\n",
    "\n",
    "    # choose keysize as that giving smallest average Hamming distance between neigbouring blocks\n",
    "    keys = sorted(keys,key=lambda x: x[1])\n",
    "    keysize = keys[0][0]\n",
    "    print(\"Guessed KEYSIZE =\",keysize)\n",
    "    return keysize"
   ]
  },
  {
   "cell_type": "code",
   "execution_count": 52,
   "id": "weekly-pioneer",
   "metadata": {},
   "outputs": [
    {
     "name": "stdout",
     "output_type": "stream",
     "text": [
      "Guessed KEYSIZE = 21\n",
      "Guessed KEY = expexpexpexpexpexpexp\n",
      "\n",
      "An extract taken from the introduction of one of Euler's most celebrated papers, \"De summis serierum reciprocarum\" [On the sums of series of reciprocals]: I have recently found, quite unexpectedly, an elegant expression for the entire sum of this series 1 + 1/4 + 1/9 + 1/16 + etc., which depends on the quadrature of the circle, so that if the true sum of this series is obtained, from it at once the quadrature of the circle follows. Namely, I have found that the sum of this series is a sixth part of the square of the perimeter of the circle whose diameter is 1; or by putting the sum of this series equal to s, it has the ratio sqrt(6) multiplied by s to 1 of the perimeter to the diameter. I will soon show that the sum of this series to be approximately 1.644934066842264364; and from multiplying this number by six, and then taking the square root, the number 3.141592653589793238 is indeed produced, which expresses the perimeter of a circle whose diameter is 1. Following again the same steps by which I had arrived at this sum, I have discovered that the sum of the series 1 + 1/16 + 1/81 + 1/256 + 1/625 + etc. also depends on the quadrature of the circle. Namely, the sum of this multiplied by 90 gives the biquadrate (fourth power) of the circumference of the perimeter of a circle whose diameter is 1. And by similar reasoning I have likewise been able to determine the sums of the subsequent series in which the exponents are even numbers.\n"
     ]
    }
   ],
   "source": [
    "keysize = guessRepXORKeyLenght(cipher)\n",
    "key = breakRepXORKey(cipher,keysize)\n",
    "plaintext = decodeRepKeyXOR(cipher,key)\n",
    "print()\n",
    "print(plaintext)"
   ]
  },
  {
   "cell_type": "code",
   "execution_count": null,
   "id": "casual-wireless",
   "metadata": {},
   "outputs": [],
   "source": []
  }
 ],
 "metadata": {
  "kernelspec": {
   "display_name": "Python 3",
   "language": "python",
   "name": "python3"
  },
  "language_info": {
   "codemirror_mode": {
    "name": "ipython",
    "version": 3
   },
   "file_extension": ".py",
   "mimetype": "text/x-python",
   "name": "python",
   "nbconvert_exporter": "python",
   "pygments_lexer": "ipython3",
   "version": "3.9.13"
  }
 },
 "nbformat": 4,
 "nbformat_minor": 5
}
