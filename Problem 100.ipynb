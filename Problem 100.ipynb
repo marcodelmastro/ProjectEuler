{
 "cells": [
  {
   "cell_type": "markdown",
   "id": "d188b006",
   "metadata": {},
   "source": [
    "# Problem 100\n",
    "\n",
    "https://projecteuler.net/problem=100\n",
    "\n",
    "<img src=\"./notes/note_p100_1.jpg\" alt=\"\" width=\"600\" align=\"center\"/>\n",
    "<img src=\"./notes/note_p100_2.jpg\" alt=\"\" width=\"600\" align=\"center\"/>"
   ]
  },
  {
   "cell_type": "code",
   "execution_count": 6,
   "id": "0e21c54c",
   "metadata": {},
   "outputs": [
    {
     "data": {
      "text/plain": [
       "(3, 1)"
      ]
     },
     "execution_count": 6,
     "metadata": {},
     "output_type": "execute_result"
    }
   ],
   "source": [
    "def pell(C,R):\n",
    "    if C*C-8*R*R ==1:\n",
    "        return True\n",
    "    \n",
    "def solvePell():\n",
    "    R = 1\n",
    "    C = 1\n",
    "    while True:\n",
    "        if pell(C,R):\n",
    "            return C,R\n",
    "            break\n",
    "        C+=1\n",
    "\n",
    "C1,R1 = solvePell()\n",
    "C1,R1"
   ]
  },
  {
   "cell_type": "code",
   "execution_count": 41,
   "id": "360e6ed5",
   "metadata": {},
   "outputs": [],
   "source": [
    "from math import isqrt\n",
    "\n",
    "def solution100(Nmin=1_000_000_000_000):\n",
    "    # simplest solution of Pell equation\n",
    "    C1 = 3\n",
    "    R1 = 1 \n",
    "    C = C1\n",
    "    R = R1\n",
    "    while True: \n",
    "        D = 8*R**2+1 # is perfect square by definition\n",
    "        sD = isqrt(D)\n",
    "        # check solution against problem\n",
    "        if sD%2==1: # is odd\n",
    "            B = (2*R+1+sD)//2 # take positive solution\n",
    "            if R+B>Nmin:\n",
    "                return(B,R,B+R)\n",
    "        # build alternative solution to Pell equation iteratively\n",
    "        C1 = C\n",
    "        R1 = R\n",
    "        C,R = C1*C+8*R1*R, R1*C+R*C1"
   ]
  },
  {
   "cell_type": "code",
   "execution_count": 42,
   "id": "0a8a0db1",
   "metadata": {},
   "outputs": [
    {
     "data": {
      "text/plain": [
       "(15, 6, 21)"
      ]
     },
     "execution_count": 42,
     "metadata": {},
     "output_type": "execute_result"
    }
   ],
   "source": [
    "solution100(10)"
   ]
  },
  {
   "cell_type": "code",
   "execution_count": 43,
   "id": "ff91a9bb",
   "metadata": {},
   "outputs": [
    {
     "data": {
      "text/plain": [
       "(568345, 235416, 803761)"
      ]
     },
     "execution_count": 43,
     "metadata": {},
     "output_type": "execute_result"
    }
   ],
   "source": [
    "solution100(1_000)"
   ]
  },
  {
   "cell_type": "code",
   "execution_count": 44,
   "id": "f1dd6326",
   "metadata": {},
   "outputs": [
    {
     "data": {
      "text/plain": [
       "(756872327473, 313506783024, 1070379110497)"
      ]
     },
     "execution_count": 44,
     "metadata": {},
     "output_type": "execute_result"
    }
   ],
   "source": [
    "solution100(1_000_000_000_000)"
   ]
  },
  {
   "cell_type": "code",
   "execution_count": null,
   "id": "9415bdc4",
   "metadata": {},
   "outputs": [],
   "source": []
  }
 ],
 "metadata": {
  "kernelspec": {
   "display_name": "Python 3 (ipykernel)",
   "language": "python",
   "name": "python3"
  },
  "language_info": {
   "codemirror_mode": {
    "name": "ipython",
    "version": 3
   },
   "file_extension": ".py",
   "mimetype": "text/x-python",
   "name": "python",
   "nbconvert_exporter": "python",
   "pygments_lexer": "ipython3",
   "version": "3.10.10"
  }
 },
 "nbformat": 4,
 "nbformat_minor": 5
}
