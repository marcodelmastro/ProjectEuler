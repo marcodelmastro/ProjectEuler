{
 "cells": [
  {
   "cell_type": "markdown",
   "id": "starting-worth",
   "metadata": {},
   "source": [
    "## Problem 71 - Ordered fractions\n",
    "\n",
    "https://projecteuler.net/problem=71"
   ]
  },
  {
   "cell_type": "code",
   "execution_count": 2,
   "id": "functional-poland",
   "metadata": {},
   "outputs": [
    {
     "name": "stdout",
     "output_type": "stream",
     "text": [
      "(0.42857128571385716, 428570, 999997)\n"
     ]
    }
   ],
   "source": [
    "from math import gcd\n",
    "\n",
    "dmax = 1_000_000\n",
    "leftfrac = (0,0,0)\n",
    "f37 = 3/7\n",
    "\n",
    "for d in range(1,dmax+1):\n",
    "    n = (3*d)//7\n",
    "    while gcd(n,m)!=1:\n",
    "        n -= 1   \n",
    "    f = n/d\n",
    "    if f<f37 and f>leftfrac[0]:\n",
    "        leftfrac = (f,n,d)\n",
    "print(leftfrac)"
   ]
  },
  {
   "cell_type": "markdown",
   "id": "b1823cbc",
   "metadata": {},
   "source": [
    "## Problem 72 - Counting fractions\n",
    "\n",
    "https://projecteuler.net/problem=72"
   ]
  },
  {
   "cell_type": "code",
   "execution_count": 1,
   "id": "fd8c8729",
   "metadata": {},
   "outputs": [],
   "source": [
    "def phi(n):\n",
    "    '''Euler totient function (count coprimes of input n)'''\n",
    "    phi = int(n > 1 and n)\n",
    "    for p in range(2, int(n ** .5) + 1):\n",
    "        if not n % p:\n",
    "            phi -= phi // p\n",
    "            while not n % p:\n",
    "                n //= p\n",
    "    if n > 1: phi -= phi // n \n",
    "    return phi"
   ]
  },
  {
   "cell_type": "code",
   "execution_count": 2,
   "id": "9cec3ef3",
   "metadata": {},
   "outputs": [],
   "source": [
    "# number of proper fractions for denominator n would be the number of coprimes, counted by Euler totient function\n",
    "\n",
    "def countFrac(n):\n",
    "    return sum([ phi(i) for i in range(1,n+1) ])"
   ]
  },
  {
   "cell_type": "code",
   "execution_count": 3,
   "id": "ab4a1b3a",
   "metadata": {},
   "outputs": [
    {
     "data": {
      "text/plain": [
       "21"
      ]
     },
     "execution_count": 3,
     "metadata": {},
     "output_type": "execute_result"
    }
   ],
   "source": [
    "countFrac(8)"
   ]
  },
  {
   "cell_type": "code",
   "execution_count": 6,
   "id": "eb6897fd",
   "metadata": {},
   "outputs": [
    {
     "name": "stdout",
     "output_type": "stream",
     "text": [
      "Problem 72 result = 303963552391\n",
      "Solved in 22.7452 seconds\n"
     ]
    }
   ],
   "source": [
    "import time\n",
    "\n",
    "tic = time.perf_counter()\n",
    "\n",
    "res = countFrac(1_000_000)\n",
    "print(\"Problem 72 result =\",res)\n",
    "\n",
    "toc = time.perf_counter()\n",
    "print(f\"Solved in {toc - tic:0.4f} seconds\")"
   ]
  },
  {
   "cell_type": "markdown",
   "id": "aa5eb50e",
   "metadata": {},
   "source": [
    "## Problem 73 - Counting fractions in a range\n",
    "\n",
    "https://projecteuler.net/problem=73"
   ]
  },
  {
   "cell_type": "code",
   "execution_count": 67,
   "id": "61530625",
   "metadata": {},
   "outputs": [
    {
     "name": "stdout",
     "output_type": "stream",
     "text": [
      "7295372\n"
     ]
    }
   ],
   "source": [
    "from math import gcd\n",
    "\n",
    "fmin = 1/3\n",
    "fmax = 1/2\n",
    "\n",
    "#dmax = 8\n",
    "dmax = 12_000\n",
    "\n",
    "count = []\n",
    "for d in range(1,dmax+1):\n",
    "    for n in range(d//3,d//2+1):\n",
    "        if gcd(n,d)==1:\n",
    "            f = n/d\n",
    "            if f>fmin and f<fmax:\n",
    "                count.append((f,n,d))\n",
    "\n",
    "print(len(count))"
   ]
  },
  {
   "cell_type": "markdown",
   "id": "dcc0d0ea",
   "metadata": {},
   "source": [
    "## Problem 74 - Digit factorial chains\n",
    "\n",
    "https://projecteuler.net/problem=74"
   ]
  },
  {
   "cell_type": "code",
   "execution_count": 56,
   "id": "a7d6c409",
   "metadata": {},
   "outputs": [
    {
     "data": {
      "text/plain": [
       "[169, 363601, 1454]"
      ]
     },
     "execution_count": 56,
     "metadata": {},
     "output_type": "execute_result"
    }
   ],
   "source": [
    "from math import factorial\n",
    "from collections import defaultdict\n",
    "\n",
    "# Only need the factorials of digits 0-9, caching them to speed up computation\n",
    "factCache = {}\n",
    "for i in range(10):\n",
    "    factCache[i] = factorial(i)\n",
    "\n",
    "# Many chains have repeating tails, caching them to speed up computation\n",
    "chains = defaultdict(list)\n",
    "    \n",
    "def factorialChain(nstart,lmax=0):\n",
    "    chain = [nstart]\n",
    "    n = nstart\n",
    "    while True:\n",
    "        n = sum([ factCache[i] for i in [ int(s) for s in str(n)] ])\n",
    "        if n in chains.keys(): # chains for current value already completed!\n",
    "            chain += chains[n]\n",
    "            chains[nstart] = chain\n",
    "            return chain\n",
    "        if n not in chain:\n",
    "            chain.append(n)\n",
    "        else:\n",
    "            break\n",
    "        if lmax and len(chain)>lmax:\n",
    "            print(\"Longer than {}, skipping\".format(lmax)) # never really happens...\n",
    "            return []\n",
    "    chains[nstart] = chain\n",
    "    return chain\n",
    "\n",
    "factorialChain(169)"
   ]
  },
  {
   "cell_type": "code",
   "execution_count": 57,
   "id": "430e446e",
   "metadata": {},
   "outputs": [
    {
     "name": "stdout",
     "output_type": "stream",
     "text": [
      "Solution 72 = 402\n"
     ]
    }
   ],
   "source": [
    "c = 0\n",
    "for n in range(1,1_000_000):\n",
    "    chain = factorialChain(n,lmax=60)\n",
    "    if len(chain)==60:\n",
    "        c+=1\n",
    "print(\"Solution 72 =\",c)"
   ]
  },
  {
   "cell_type": "markdown",
   "id": "0ecaa109",
   "metadata": {},
   "source": [
    "## Problem 75 - Singular integer right triangles\n",
    "\n",
    "https://projecteuler.net/problem=75"
   ]
  },
  {
   "cell_type": "code",
   "execution_count": 4,
   "id": "3e495fda",
   "metadata": {},
   "outputs": [],
   "source": [
    "def triple(m,n):\n",
    "    a = m**2-n**2\n",
    "    b = 2*m*n\n",
    "    c = m**2+n**2\n",
    "    return a,b,c\n",
    "\n",
    "from collections import defaultdict\n",
    "\n",
    "def wireLenghts(Lmax = 1000):\n",
    "    W = defaultdict(list)\n",
    "    n = 1\n",
    "    # generate all primitive pythagorean triples from Euclid formula\n",
    "    while True:\n",
    "        m = n+1\n",
    "        while True:\n",
    "            t = triple(m,n)\n",
    "            L = sum(t)\n",
    "            if L>Lmax:\n",
    "                break\n",
    "            # generate also non primitive triples in case they can lead to a valid wire lenght\n",
    "            k=1\n",
    "            while True:\n",
    "                tk = [k*x for x in t]\n",
    "                L = sum(tk)\n",
    "                if L>Lmax:\n",
    "                    break\n",
    "                # check for duplicates (different order in the triple)\n",
    "                tks = sorted(tk)\n",
    "                if tks not in W[L]:\n",
    "                    W[L].append(tks)\n",
    "                k+=1\n",
    "            m+=1\n",
    "        if m==n+1:\n",
    "            break\n",
    "        n+=1\n",
    "    return W"
   ]
  },
  {
   "cell_type": "code",
   "execution_count": 5,
   "id": "fdda5b96",
   "metadata": {},
   "outputs": [
    {
     "data": {
      "text/plain": [
       "[[30, 40, 50], [24, 45, 51], [20, 48, 52]]"
      ]
     },
     "execution_count": 5,
     "metadata": {},
     "output_type": "execute_result"
    }
   ],
   "source": [
    "W = wireLenghts(200)\n",
    "W[120]"
   ]
  },
  {
   "cell_type": "code",
   "execution_count": 8,
   "id": "738804de",
   "metadata": {},
   "outputs": [
    {
     "name": "stdout",
     "output_type": "stream",
     "text": [
      "161667\n"
     ]
    }
   ],
   "source": [
    "W = wireLenghts(1_500_000)\n",
    "print(sum([1 for L in W.keys() if len(W[L])==1 ]))"
   ]
  },
  {
   "cell_type": "markdown",
   "id": "bfb8ac0a",
   "metadata": {},
   "source": [
    "## Problem 76 - Counting summations\n",
    "\n",
    "https://projecteuler.net/problem=76"
   ]
  },
  {
   "cell_type": "code",
   "execution_count": 3,
   "id": "9fc7fa26",
   "metadata": {},
   "outputs": [
    {
     "data": {
      "text/plain": [
       "[[5], [4, 1], [3, 2], [3, 1, 1], [2, 2, 1], [2, 1, 1, 1], [1, 1, 1, 1, 1]]"
      ]
     },
     "execution_count": 3,
     "metadata": {},
     "output_type": "execute_result"
    }
   ],
   "source": [
    "# esplicitly generating partitions, even if I already know it won't scale well, even with caching...\n",
    "\n",
    "cacheSums = {}\n",
    "\n",
    "def findSums(N):\n",
    "    if N==1:\n",
    "        return [[1]]\n",
    "    if N in cacheSums.keys():\n",
    "        return cacheSums[N]\n",
    "    sums = [[N]]\n",
    "    for n in range(N-1,0,-1):\n",
    "        for s in findSums(N-n):\n",
    "            si = sorted([n]+s,reverse=True)\n",
    "            if si not in sums:\n",
    "                sums.append(si)\n",
    "    cacheSums[N] = sums\n",
    "    return sums\n",
    "\n",
    "findSums(5)"
   ]
  },
  {
   "cell_type": "code",
   "execution_count": 124,
   "id": "8a79903c",
   "metadata": {},
   "outputs": [],
   "source": [
    "# Borrowing solution of Problem 31 to only count paritions,  adding caching to speed up calculation\n",
    "\n",
    "def countCoins(S, m, n, cache={}): \n",
    "    '''\n",
    "    Returns count of ways we can sum S[0...m-1] coins to get sum n \n",
    "    S = list of coin values\n",
    "    m = how many coin values to use\n",
    "    n = total value to obtain\n",
    "    '''\n",
    "    \n",
    "    # If n is 0 then there is 1 solution (do not include any coin) \n",
    "    if n == 0: \n",
    "        return 1\n",
    "  \n",
    "    # If n is less than 0 then no solution exists \n",
    "    if n < 0: \n",
    "        return 0\n",
    "    \n",
    "    # If there are no coins available anymore and n is still greater than 0, then no solution exists\n",
    "    if m<=0 and n>=0: \n",
    "        return 0\n",
    "  \n",
    "    # Recursive solution:\n",
    "    # Sum of solutions including S[m-1] and solutions excluding S[m-1]\n",
    "    if (m,n) in cache.keys():\n",
    "        return cache[(m,n)]\n",
    "    count = countCoins(S, m-1, n, cache) + countCoins(S, m, n-S[m-1], cache)\n",
    "    cache[(m,n)] = count\n",
    "    return count\n",
    "\n",
    "def countSums(N):\n",
    "    values = [i for i in range(1,N)]\n",
    "    cache = {} # initialize cache\n",
    "    return countCoins(values, len(values), N, cache)"
   ]
  },
  {
   "cell_type": "code",
   "execution_count": 125,
   "id": "065becbd",
   "metadata": {},
   "outputs": [
    {
     "data": {
      "text/plain": [
       "6"
      ]
     },
     "execution_count": 125,
     "metadata": {},
     "output_type": "execute_result"
    }
   ],
   "source": [
    "countSums(5)"
   ]
  },
  {
   "cell_type": "code",
   "execution_count": 126,
   "id": "955d3ee1",
   "metadata": {},
   "outputs": [
    {
     "data": {
      "text/plain": [
       "190569291"
      ]
     },
     "execution_count": 126,
     "metadata": {},
     "output_type": "execute_result"
    }
   ],
   "source": [
    "countSums(100)"
   ]
  },
  {
   "cell_type": "markdown",
   "id": "6b47d1bf",
   "metadata": {},
   "source": [
    "## Problem 77 - Prime summations\n",
    "\n",
    "https://projecteuler.net/problem=77"
   ]
  },
  {
   "cell_type": "code",
   "execution_count": 127,
   "id": "226902a9",
   "metadata": {},
   "outputs": [
    {
     "name": "stdout",
     "output_type": "stream",
     "text": [
      "71 5007\n"
     ]
    }
   ],
   "source": [
    "from ProjectEuler import generatePrimes\n",
    "\n",
    "# Generate a large number of primes to avoid recomputing them for each number\n",
    "nmax = 100000\n",
    "primes = []\n",
    "for p in generatePrimes():\n",
    "    if p>=nmax:\n",
    "        break\n",
    "    primes.append(p)\n",
    "    \n",
    "def countSumsPrimes(N):\n",
    "    cache = {} # initialize cache\n",
    "    # select primes list smaller than N\n",
    "    i = 0\n",
    "    for p in primes:\n",
    "        if p>N:\n",
    "            break\n",
    "        i+=1\n",
    "    primesN = primes[:i]\n",
    "    return countCoins(primesN, len(primesN), N, cache)\n",
    "\n",
    "i = 1\n",
    "while True:\n",
    "    c = countSumsPrimes(i)\n",
    "    if c>5000:\n",
    "        print(i,c)\n",
    "        break\n",
    "    i+=1"
   ]
  },
  {
   "cell_type": "markdown",
   "id": "908819f8",
   "metadata": {},
   "source": [
    "## Problem 78 - Coin partitions\n",
    "\n",
    "https://projecteuler.net/problem=78\n",
    "\n",
    "https://en.wikipedia.org/wiki/Partition_function_(number_theory)#Generating_function\n",
    "\n",
    "https://mathworld.wolfram.com/PartitionFunctionP.html\n",
    "\n",
    "$P(n)=\\sum_{k=1}^n (-1)^{(k+1)} \\left[ P(n-1/2k(3k-1)) + P(n-1/2k(3k+1)) \\right]$"
   ]
  },
  {
   "cell_type": "code",
   "execution_count": 221,
   "id": "26e6b5e4",
   "metadata": {},
   "outputs": [],
   "source": [
    "def P(n,cache={}):\n",
    "    if n<0: # negative argument has 0 partitions\n",
    "        return 0\n",
    "    if n==0 or n==1:\n",
    "        return 1\n",
    "    if n in cache.keys():\n",
    "        return cache[n]\n",
    "    p = 0\n",
    "    for k in range(1,n+1):\n",
    "        #p += (-1)**(k+1) * ( P(n-k*(3*k-1)//2) + P(n-k*(3*k+1)//2) )\n",
    "        a_k = n-k*(3*k-1)//2\n",
    "        b_k = n-k*(3*k+1)//2\n",
    "        #print(a_k,b_k) # as soon as it reaches negative arguments, all subsequent k-th arguments are negative!\n",
    "        if a_k<0 and b_k<0: # no need to compute terms for negative arguments\n",
    "            break\n",
    "        p += pow(-1,(k+1)%2) * ( P(a_k , cache ) + P(b_k , cache ) )\n",
    "    cache[n]=p\n",
    "    return p"
   ]
  },
  {
   "cell_type": "code",
   "execution_count": 222,
   "id": "dce4e471",
   "metadata": {},
   "outputs": [
    {
     "name": "stdout",
     "output_type": "stream",
     "text": [
      "1 1\n",
      "2 2\n",
      "3 3\n",
      "4 5\n",
      "5 7\n",
      "6 11\n",
      "7 15\n",
      "8 22\n",
      "9 30\n",
      "10 42\n"
     ]
    }
   ],
   "source": [
    "cache = {}\n",
    "for n in range(1,11):\n",
    "    print(n,P(n,cache))"
   ]
  },
  {
   "cell_type": "code",
   "execution_count": 227,
   "id": "1026da56",
   "metadata": {},
   "outputs": [
    {
     "name": "stdout",
     "output_type": "stream",
     "text": [
      "55374\n"
     ]
    }
   ],
   "source": [
    "cache = {}\n",
    "n = 1\n",
    "while True:\n",
    "    if P(n,cache)%1_000_000==0:\n",
    "        print(n)\n",
    "        break\n",
    "    n+=1"
   ]
  },
  {
   "cell_type": "markdown",
   "id": "feb456d1",
   "metadata": {},
   "source": [
    "## Problem 79 - Passcode derivation\n",
    "\n",
    "https://projecteuler.net/problem=79"
   ]
  },
  {
   "cell_type": "code",
   "execution_count": 36,
   "id": "c32f9b14",
   "metadata": {},
   "outputs": [
    {
     "name": "stdout",
     "output_type": "stream",
     "text": [
      "73162890\n"
     ]
    }
   ],
   "source": [
    "with open(\"data/p079_keylog.txt\") as f:\n",
    "    values = [ int(l) for l in f.readlines() ]\n",
    "\n",
    "from collections import defaultdict\n",
    "\n",
    "# database of possible digit order, to be navigated as a graph with a BFS-like algorithm\n",
    "order = defaultdict(list)\n",
    "for v in values:\n",
    "    n = [ int(a) for a in str(v) ]\n",
    "    if n[1] not in order[ n[0] ]:\n",
    "        order[ n[0] ].append(n[1])\n",
    "    if n[2] not in order[ n[0] ]:      \n",
    "        order[ n[0] ].append(n[2])\n",
    "    if n[2] not in order[ n[1] ]:    \n",
    "        order[ n[1] ].append(n[2])\n",
    "\n",
    "# initialize passdoces with all possible digits\n",
    "passcodes = []\n",
    "for d in order.keys():\n",
    "    passcodes.append([d])\n",
    "\n",
    "# BFS to build all possible passcodes\n",
    "while True:\n",
    "    if len(passcodes)==1:\n",
    "        break\n",
    "    pc = passcodes.pop(0)\n",
    "    for nextdig in order[pc[-1]]:\n",
    "        # The problem is asking for shortest passcode, I therefire assume \n",
    "        # there will be no repetition and all digits will be used once: \n",
    "        # removing passcodes (graph paths) with repetition\n",
    "        if pcnew not in pc: \n",
    "            pcnew = pc+[nextdig]\n",
    "            passcodes.append(pcnew)\n",
    "            \n",
    "print(int(\"\".join([ str(p) for p in passcodes[0]])))"
   ]
  },
  {
   "cell_type": "markdown",
   "id": "2c99a6a3",
   "metadata": {},
   "source": [
    "## Problem 80 - Square root digital expansion\n",
    "\n",
    "https://projecteuler.net/problem=80\n",
    "\n",
    "For the first one hundred natural numbers, find the total of the digital sums of the first one hundred decimal digits for all the irrational square roots"
   ]
  },
  {
   "cell_type": "code",
   "execution_count": 66,
   "id": "528cf61a",
   "metadata": {},
   "outputs": [
    {
     "name": "stdout",
     "output_type": "stream",
     "text": [
      "40886\n"
     ]
    }
   ],
   "source": [
    "from decimal import *\n",
    "from math import sqrt\n",
    "\n",
    "# using decimal to compute arbitrary precision sqrt, exceeding the needed precision to avoid rounding errors\n",
    "getcontext().prec = 105 \n",
    "\n",
    "s = 0\n",
    "for n in range(1,101):\n",
    "    if sqrt(n)==int(sqrt(n)): # skip perfect squares\n",
    "        continue    \n",
    "    s += sum([ int(d) for d in str(Decimal(n).sqrt())[:101] if d!=\".\" ])\n",
    "print(s)"
   ]
  },
  {
   "cell_type": "code",
   "execution_count": null,
   "id": "b05ecb09",
   "metadata": {},
   "outputs": [],
   "source": []
  }
 ],
 "metadata": {
  "kernelspec": {
   "display_name": "Python 3 (ipykernel)",
   "language": "python",
   "name": "python3"
  },
  "language_info": {
   "codemirror_mode": {
    "name": "ipython",
    "version": 3
   },
   "file_extension": ".py",
   "mimetype": "text/x-python",
   "name": "python",
   "nbconvert_exporter": "python",
   "pygments_lexer": "ipython3",
   "version": "3.10.8"
  }
 },
 "nbformat": 4,
 "nbformat_minor": 5
}
