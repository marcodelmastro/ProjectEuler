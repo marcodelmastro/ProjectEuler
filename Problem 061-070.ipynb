{
 "cells": [
  {
   "cell_type": "markdown",
   "id": "informational-patrick",
   "metadata": {},
   "source": [
    "# Project Euler\n",
    "\n",
    "https://projecteuler.net/progress"
   ]
  },
  {
   "cell_type": "markdown",
   "id": "3beb29b6",
   "metadata": {},
   "source": [
    "## Problem 61 - Cyclical figurate numbers\n",
    "\n",
    "https://projecteuler.net/problem=61"
   ]
  },
  {
   "cell_type": "code",
   "execution_count": 1,
   "id": "76633b52",
   "metadata": {},
   "outputs": [],
   "source": [
    "# Generate figurate numbers\n",
    "\n",
    "def P(k,n):\n",
    "    if k==3:\n",
    "        return n*(n+1)//2\n",
    "    elif k==4:\n",
    "        return n*n\n",
    "    elif k==5:\n",
    "        return n*(3*n-1)//2\n",
    "    elif k==6:\n",
    "        return n*(2*n-1)\n",
    "    elif k==7:\n",
    "        return n*(5*n-3)//2\n",
    "    elif k==8:\n",
    "        return n*(3*n-2)\n",
    "    else:\n",
    "        return 0\n",
    "    \n",
    "def gen4digs(k=3):\n",
    "    digs = []\n",
    "    n = 1\n",
    "    while True:\n",
    "        p = P(k,n)\n",
    "        if p>=1000 and p<=9999:\n",
    "            digs.append(p)\n",
    "        if p>9999:\n",
    "            return digs\n",
    "        n+=1"
   ]
  },
  {
   "cell_type": "markdown",
   "id": "90b9ce6e",
   "metadata": {},
   "source": [
    "### Iterative building of all possible chains (BFS-like approach)"
   ]
  },
  {
   "cell_type": "code",
   "execution_count": 2,
   "id": "29beadb6",
   "metadata": {
    "scrolled": false
   },
   "outputs": [],
   "source": [
    "def findCyclical(nmax=5):\n",
    "\n",
    "    # Store all numbers and corresponding order\n",
    "    all_n = []\n",
    "    for i in range(3,nmax+1):\n",
    "        for n in gen4digs(i):\n",
    "            all_n.append( (n,i) )\n",
    "\n",
    "    # store solution(s)\n",
    "    cyclical = []\n",
    "\n",
    "    # initialize possible chains with triangular numbers\n",
    "    chains = []\n",
    "    for n,i in all_n:\n",
    "        if i==3:\n",
    "            chain = [ (n,i) ]\n",
    "            chains.append(chain)\n",
    "    \n",
    "    # iterative search building valid chains of increasing lenght\n",
    "    while len(chains):\n",
    "        chain = chains.pop(0)\n",
    "        # try to increment chain\n",
    "        for n,i in all_n:\n",
    "            skipNumber = False\n",
    "            for m,j in chain:\n",
    "                if i==j: # that flavor of figurative number is already present in chain, skipping\n",
    "                    skipNumber = True\n",
    "                    break\n",
    "            if skipNumber:\n",
    "                continue\n",
    "            else:\n",
    "                last,j = chain[-1]\n",
    "                if last%100==n//100: # tail and head correspond, add to chain\n",
    "                    newchain = list(chain)\n",
    "                    newchain.append( (n,i) )\n",
    "                    if len(newchain)==nmax-3+1: # reached max lenght, also check if cyclical\n",
    "                        h,_ = newchain[0]\n",
    "                        t,_ = newchain[-1]\n",
    "                        if t%100==h//100:\n",
    "                            cyclical.append(newchain) # save in cyclical\n",
    "                    else:\n",
    "                        chains.append(newchain) # put back chain to queue\n",
    "                    \n",
    "    return cyclical"
   ]
  },
  {
   "cell_type": "code",
   "execution_count": 3,
   "id": "115c840d",
   "metadata": {},
   "outputs": [
    {
     "data": {
      "text/plain": [
       "[[(8128, 3), (2882, 5), (8281, 4)]]"
      ]
     },
     "execution_count": 3,
     "metadata": {},
     "output_type": "execute_result"
    }
   ],
   "source": [
    "findCyclical(nmax=5)"
   ]
  },
  {
   "cell_type": "markdown",
   "id": "745bcb9b",
   "metadata": {},
   "source": [
    "For different chain lenghts the solution is nor necessarely unique!"
   ]
  },
  {
   "cell_type": "code",
   "execution_count": 4,
   "id": "6d5394e7",
   "metadata": {},
   "outputs": [
    {
     "data": {
      "text/plain": [
       "[[(7021, 3), (2116, 4), (1617, 5), (1770, 6)],\n",
       " [(7021, 3), (2116, 4), (1653, 6), (5370, 5)]]"
      ]
     },
     "execution_count": 4,
     "metadata": {},
     "output_type": "execute_result"
    }
   ],
   "source": [
    "findCyclical(nmax=6)"
   ]
  },
  {
   "cell_type": "code",
   "execution_count": 5,
   "id": "368c113b",
   "metadata": {},
   "outputs": [
    {
     "data": {
      "text/plain": [
       "[[(1540, 3), (4030, 5), (3010, 7), (1024, 4), (2415, 6)],\n",
       " [(2415, 3), (1540, 6), (4030, 5), (3010, 7), (1024, 4)],\n",
       " [(2628, 3), (2850, 6), (5017, 5), (1764, 4), (6426, 7)],\n",
       " [(2850, 3), (5017, 5), (1782, 7), (8281, 4), (8128, 6)],\n",
       " [(4753, 3), (5356, 6), (5625, 4), (2512, 7), (1247, 5)],\n",
       " [(5151, 3), (5192, 5), (9216, 4), (1651, 7), (5151, 6)],\n",
       " [(5151, 3), (5151, 6), (5192, 5), (9216, 4), (1651, 7)],\n",
       " [(5356, 3), (5625, 4), (2512, 7), (1247, 5), (4753, 6)],\n",
       " [(8128, 3), (2850, 6), (5017, 5), (1782, 7), (8281, 4)]]"
      ]
     },
     "execution_count": 5,
     "metadata": {},
     "output_type": "execute_result"
    }
   ],
   "source": [
    "findCyclical(nmax=7)"
   ]
  },
  {
   "cell_type": "code",
   "execution_count": 6,
   "id": "7d963640",
   "metadata": {},
   "outputs": [
    {
     "name": "stdout",
     "output_type": "stream",
     "text": [
      "[[(8256, 3), (5625, 4), (2512, 7), (1281, 8), (8128, 6), (2882, 5)]]\n",
      "Solution: 28684\n"
     ]
    }
   ],
   "source": [
    "c8 = findCyclical(nmax=8)\n",
    "print(c8)\n",
    "print(\"Solution:\",sum([n for n,k in c8[0]]))"
   ]
  },
  {
   "cell_type": "markdown",
   "id": "f3f0b462",
   "metadata": {},
   "source": [
    "## Problem 62 - Cube permutations\n",
    "\n",
    "https://projecteuler.net/problem=62"
   ]
  },
  {
   "cell_type": "code",
   "execution_count": 7,
   "id": "63ced7dd",
   "metadata": {},
   "outputs": [
    {
     "name": "stdout",
     "output_type": "stream",
     "text": [
      "5 [5027, 7061, 7202, 8288, 8384]\n",
      "5 [5196, 8124, 8496, 9702, 9783]\n"
     ]
    }
   ],
   "source": [
    "from itertools import permutations\n",
    "from collections import defaultdict\n",
    "\n",
    "cubes = defaultdict(list)\n",
    "\n",
    "for ( n, n3, d ) in [ (n, n**3, \"\".join(sorted(str(n**3)))) for n in range(1,10000) ] :\n",
    "    cubes[d].append(n)\n",
    "    \n",
    "for c in cubes.keys():\n",
    "    cc = cubes[c]\n",
    "    if len(cc)>4:\n",
    "        print(len(cc), cc)"
   ]
  },
  {
   "cell_type": "code",
   "execution_count": 8,
   "id": "b03c2846",
   "metadata": {},
   "outputs": [
    {
     "data": {
      "text/plain": [
       "127035954683"
      ]
     },
     "execution_count": 8,
     "metadata": {},
     "output_type": "execute_result"
    }
   ],
   "source": [
    "5027**3"
   ]
  },
  {
   "cell_type": "markdown",
   "id": "applied-campus",
   "metadata": {},
   "source": [
    "## Problem 63 - Powerful digit counts \n",
    "\n",
    "https://projecteuler.net/problem=63"
   ]
  },
  {
   "cell_type": "code",
   "execution_count": 9,
   "id": "cordless-checklist",
   "metadata": {},
   "outputs": [
    {
     "name": "stdout",
     "output_type": "stream",
     "text": [
      "1^1 = 1 has 1 digits\n",
      "2^1 = 2 has 1 digits\n",
      "3^1 = 3 has 1 digits\n",
      "4^1 = 4 has 1 digits\n",
      "5^1 = 5 has 1 digits\n",
      "6^1 = 6 has 1 digits\n",
      "7^1 = 7 has 1 digits\n",
      "8^1 = 8 has 1 digits\n",
      "9^1 = 9 has 1 digits\n",
      "4^2 = 16 has 2 digits\n",
      "5^2 = 25 has 2 digits\n",
      "6^2 = 36 has 2 digits\n",
      "7^2 = 49 has 2 digits\n",
      "8^2 = 64 has 2 digits\n",
      "9^2 = 81 has 2 digits\n",
      "5^3 = 125 has 3 digits\n",
      "6^3 = 216 has 3 digits\n",
      "7^3 = 343 has 3 digits\n",
      "8^3 = 512 has 3 digits\n",
      "9^3 = 729 has 3 digits\n",
      "6^4 = 1296 has 4 digits\n",
      "7^4 = 2401 has 4 digits\n",
      "8^4 = 4096 has 4 digits\n",
      "9^4 = 6561 has 4 digits\n",
      "7^5 = 16807 has 5 digits\n",
      "8^5 = 32768 has 5 digits\n",
      "9^5 = 59049 has 5 digits\n",
      "7^6 = 117649 has 6 digits\n",
      "8^6 = 262144 has 6 digits\n",
      "9^6 = 531441 has 6 digits\n",
      "8^7 = 2097152 has 7 digits\n",
      "9^7 = 4782969 has 7 digits\n",
      "8^8 = 16777216 has 8 digits\n",
      "9^8 = 43046721 has 8 digits\n",
      "8^9 = 134217728 has 9 digits\n",
      "9^9 = 387420489 has 9 digits\n",
      "8^10 = 1073741824 has 10 digits\n",
      "9^10 = 3486784401 has 10 digits\n",
      "9^11 = 31381059609 has 11 digits\n",
      "9^12 = 282429536481 has 12 digits\n",
      "9^13 = 2541865828329 has 13 digits\n",
      "9^14 = 22876792454961 has 14 digits\n",
      "9^15 = 205891132094649 has 15 digits\n",
      "9^16 = 1853020188851841 has 16 digits\n",
      "9^17 = 16677181699666569 has 17 digits\n",
      "9^18 = 150094635296999121 has 18 digits\n",
      "9^19 = 1350851717672992089 has 19 digits\n",
      "9^20 = 12157665459056928801 has 20 digits\n",
      "9^21 = 109418989131512359209 has 21 digits\n",
      "49\n"
     ]
    }
   ],
   "source": [
    "c=0\n",
    "n=1\n",
    "while True:\n",
    "    imin = 10**(n-1)\n",
    "    imax = 10**n-1\n",
    "    if 2**n>imax or 9**n<imin:\n",
    "        break\n",
    "    for j in range(1,10):\n",
    "        i = j**n\n",
    "        if imin<=i<=imax:\n",
    "            print(\"{}^{} = {} has {} digits\".format(j,n,i,n))\n",
    "            c+=1\n",
    "    n+=1\n",
    "print(c)"
   ]
  },
  {
   "cell_type": "markdown",
   "id": "078162aa",
   "metadata": {},
   "source": []
  },
  {
   "cell_type": "code",
   "execution_count": 10,
   "id": "9659865d",
   "metadata": {},
   "outputs": [
    {
     "data": {
      "text/plain": [
       "(4, [1, 3, 1, 8])"
      ]
     },
     "execution_count": 10,
     "metadata": {},
     "output_type": "execute_result"
    }
   ],
   "source": [
    "#from math import sqrt\n",
    "\n",
    "from decimal import *\n",
    "getcontext().prec = 100  # precision\n",
    "\n",
    "def sqrtContFracNum(n,precision=5):\n",
    "    a = Decimal(n).sqrt() # arbitrary precision sqrt\n",
    "    if int(a)==a: # perfect square\n",
    "        return int(a),[]\n",
    "    c = [int(a)]\n",
    "    p = [a]\n",
    "    d = a\n",
    "    while True:\n",
    "        d = Decimal(1.)/(d - c[-1])\n",
    "        if round(d,precision) not in p:\n",
    "            c.append(int(d))\n",
    "            p.append(round(d,precision))\n",
    "        else:\n",
    "            #print(\"Periodicity found!\")\n",
    "            return c[0],c[1:]\n",
    "    \n",
    "sqrtContFracNum(23,precision=5)"
   ]
  },
  {
   "cell_type": "code",
   "execution_count": 11,
   "id": "04dd13e9",
   "metadata": {},
   "outputs": [
    {
     "data": {
      "text/plain": [
       "(4, [1, 3, 1, 8])"
      ]
     },
     "execution_count": 11,
     "metadata": {},
     "output_type": "execute_result"
    }
   ],
   "source": [
    "# Better algorithm from\n",
    "# https://en.wikipedia.org/wiki/Methods_of_computing_square_roots#Continued_fraction_expansion\n",
    "\n",
    "from math import sqrt\n",
    "\n",
    "def sqrtContFrac(S,verbose=False):\n",
    "    s = sqrt(S)\n",
    "    a = int(s)\n",
    "    if a==s: # perfect square\n",
    "        return a,[]\n",
    "    c = [a]\n",
    "    m = 0\n",
    "    d = 1\n",
    "    if verbose:\n",
    "        print(a,m,d)\n",
    "    p = [(a,m,d)]  \n",
    "    while True:\n",
    "        m = d*a-m\n",
    "        d = (S-m**2)//d\n",
    "        a = int((s+m)/d)\n",
    "        if verbose:\n",
    "            print(a,m,d)\n",
    "        if (a,m,d) in p:\n",
    "            break\n",
    "        c.append(a)\n",
    "        p.append((a,m,d))\n",
    "    return c[0],c[1:]\n",
    "    \n",
    "sqrtContFrac(23)"
   ]
  },
  {
   "cell_type": "code",
   "execution_count": 12,
   "id": "548b0b03",
   "metadata": {},
   "outputs": [
    {
     "name": "stdout",
     "output_type": "stream",
     "text": [
      "sqrt(2) = [ 1 ; (2,) ] ODD PERIOD\n",
      "sqrt(3) = [ 1 ; (1, 2) ] \n",
      "sqrt(5) = [ 2 ; (4,) ] ODD PERIOD\n",
      "sqrt(6) = [ 2 ; (2, 4) ] \n",
      "sqrt(7) = [ 2 ; (1, 1, 1, 4) ] \n",
      "sqrt(8) = [ 2 ; (1, 4) ] \n",
      "sqrt(10) = [ 3 ; (6,) ] ODD PERIOD\n",
      "sqrt(11) = [ 3 ; (3, 6) ] \n",
      "sqrt(12) = [ 3 ; (2, 6) ] \n",
      "sqrt(13) = [ 3 ; (1, 1, 1, 1, 6) ] ODD PERIOD\n"
     ]
    },
    {
     "data": {
      "text/plain": [
       "4"
      ]
     },
     "execution_count": 12,
     "metadata": {},
     "output_type": "execute_result"
    }
   ],
   "source": [
    "def countOddPeriods(nmax,verbose=False):\n",
    "    oddperiod = 0\n",
    "    for n in range (1,nmax+1):\n",
    "        #if n%500==0:\n",
    "        #    print(\"Processed {} square roots...\".format(n))\n",
    "        a0,ai = sqrtContFrac(n)\n",
    "        if len(ai):\n",
    "            if verbose:\n",
    "                print(\"sqrt({}) = [ {} ; {} ] \".format(n,a0,tuple(ai),len(ai)),end=\"\")\n",
    "            if len(ai)%2==1:\n",
    "                oddperiod+=1\n",
    "                if verbose:\n",
    "                    print(\"ODD PERIOD\")\n",
    "            else:\n",
    "                if verbose:\n",
    "                    print(\"\")\n",
    "    return oddperiod\n",
    "\n",
    "countOddPeriods(13,True)"
   ]
  },
  {
   "cell_type": "code",
   "execution_count": 13,
   "id": "596fdc64",
   "metadata": {},
   "outputs": [
    {
     "name": "stdout",
     "output_type": "stream",
     "text": [
      "1322 odd periods\n"
     ]
    }
   ],
   "source": [
    "odd = countOddPeriods(10_000,False)\n",
    "print(\"{} odd periods\".format(odd))"
   ]
  },
  {
   "cell_type": "markdown",
   "id": "311adee2",
   "metadata": {},
   "source": [
    "## Problem 65 - Convergents of e\n",
    "\n",
    "https://projecteuler.net/problem=65"
   ]
  },
  {
   "cell_type": "code",
   "execution_count": 14,
   "id": "e6a802db",
   "metadata": {},
   "outputs": [
    {
     "name": "stdout",
     "output_type": "stream",
     "text": [
      "1 (1, 1)\n",
      "2 (3, 2)\n",
      "3 (7, 5)\n",
      "4 (17, 12)\n",
      "5 (41, 29)\n",
      "6 (99, 70)\n",
      "7 (239, 169)\n",
      "8 (577, 408)\n",
      "9 (1393, 985)\n",
      "10 (3363, 2378)\n"
     ]
    }
   ],
   "source": [
    "def SqrtTwoContinuos(N=10):\n",
    "    if N<=1:\n",
    "        return (1,1)\n",
    "    i = 2\n",
    "    n = 1\n",
    "    d = 2\n",
    "    for s in range(N-2):\n",
    "        d, n = d*i+n, d\n",
    "    i = 1\n",
    "    return d*i+n, d\n",
    "\n",
    "for N in range(1,10+1):\n",
    "    print(N,SqrtTwoContinuos(N))"
   ]
  },
  {
   "cell_type": "code",
   "execution_count": 15,
   "id": "7143c61b",
   "metadata": {},
   "outputs": [
    {
     "name": "stdout",
     "output_type": "stream",
     "text": [
      "1 (2, 1)\n",
      "2 (3, 1)\n",
      "3 (8, 3)\n",
      "4 (11, 4)\n",
      "5 (19, 7)\n",
      "6 (87, 32)\n",
      "7 (106, 39)\n",
      "8 (193, 71)\n",
      "9 (1264, 465)\n",
      "10 (1457, 536)\n"
     ]
    }
   ],
   "source": [
    "def EulerContinuos(N=3):\n",
    "    # generate sequence for continuos fraction\n",
    "    e = [2]\n",
    "    i = 1\n",
    "    while len(e)<N+3: # start by making it longer...\n",
    "        e +=[1, 2*i, 1]\n",
    "        i += 1\n",
    "    e = e[:N] # ... cut to needed lenght\n",
    "    # initial numerator and denominator (inner fraction)\n",
    "    n = 1\n",
    "    d = e.pop()\n",
    "    # reverse loop on all other integer in the sequence, compute new numerator and denominator\n",
    "    for i in e[::-1]:\n",
    "        d,n = d*i+n,d\n",
    "    return d,n\n",
    "\n",
    "for N in range(1,10+1):\n",
    "    print(N,EulerContinuos(N))"
   ]
  },
  {
   "cell_type": "code",
   "execution_count": 16,
   "id": "b7b6462c",
   "metadata": {},
   "outputs": [
    {
     "name": "stdout",
     "output_type": "stream",
     "text": [
      "N(100) = 6963524437876961749120273824619538346438023188214475670667\n",
      "D(100) = 2561737478789858711161539537921323010415623148113041714756\n",
      "Solution: 272\n"
     ]
    }
   ],
   "source": [
    "n,d = EulerContinuos(100)\n",
    "print(\"N(100) =\", n)\n",
    "print(\"D(100) =\", d)\n",
    "print(\"Solution:\",sum([ int(i) for i in str(n) ]))"
   ]
  },
  {
   "cell_type": "markdown",
   "id": "001c87b0",
   "metadata": {},
   "source": [
    "## Problem 66\n",
    "\n",
    "(from https://artofproblemsolving.com/wiki/index.php/Pell_equation)\n",
    "\n",
    "The solutions to the Pell equation when $D$ is not a perfect square are connected to the continued fraction expansion of $\\sqrt D$. If $a$ is the period of the continued fraction and $C_k=P_k/Q_k$ is the $k$th convergent, all solutions to the Pell equation are in the form $(P_{ia},Q_{ia})$ for positive integer $i$."
   ]
  },
  {
   "cell_type": "code",
   "execution_count": 17,
   "id": "0c3a41c5",
   "metadata": {},
   "outputs": [
    {
     "data": {
      "text/plain": [
       "(211, 44)"
      ]
     },
     "execution_count": 17,
     "metadata": {},
     "output_type": "execute_result"
    }
   ],
   "source": [
    "from math import sqrt\n",
    "\n",
    "def sqrtContFrac(S,verbose=False):\n",
    "    s = sqrt(S)\n",
    "    a = int(s)\n",
    "    if a==s: # perfect square\n",
    "        return a,[]\n",
    "    c = [a]\n",
    "    m = 0\n",
    "    d = 1\n",
    "    if verbose:\n",
    "        print(a,m,d)\n",
    "    p = [(a,m,d)]  \n",
    "    while True:\n",
    "        m = d*a-m\n",
    "        d = (S-m**2)//d\n",
    "        a = int((s+m)/d)\n",
    "        if verbose:\n",
    "            print(a,m,d)\n",
    "        if (a,m,d) in p:\n",
    "            break\n",
    "        c.append(a)\n",
    "        p.append((a,m,d))\n",
    "    return c[0],c[1:]\n",
    "\n",
    "def sqrtConvergents(N,depth=3):\n",
    "    # generate sequence for continuos fraction\n",
    "    i,c = sqrtContFrac(N)\n",
    "    if depth>len(c)+1:\n",
    "        k = depth//len(c)+1\n",
    "        c = [i]+k*c\n",
    "    else:\n",
    "        c = [i]+c\n",
    "    c = c[:depth]\n",
    "    # initial numerator and denominator (inner fraction)\n",
    "    # reverse loop on all other integer in the sequence, compute new numerator and denominator\n",
    "    n = 1\n",
    "    d = c.pop()\n",
    "    for i in c[::-1]:\n",
    "        d,n = d*i+n,d\n",
    "    return d,n\n",
    "\n",
    "sqrtConvergents(23,5)"
   ]
  },
  {
   "cell_type": "code",
   "execution_count": 18,
   "id": "4ad74fea",
   "metadata": {},
   "outputs": [],
   "source": [
    "def Pell(x,y,D=13):\n",
    "    return x**2 - D*y**2"
   ]
  },
  {
   "cell_type": "code",
   "execution_count": 19,
   "id": "f80b4e73",
   "metadata": {},
   "outputs": [
    {
     "name": "stdout",
     "output_type": "stream",
     "text": [
      "i = 1 -> (x,y) = (2, 1)\tPell = -1 \n",
      "i = 2 -> (x,y) = (9, 4)\tPell = 1 \n",
      "i = 3 -> (x,y) = (38, 17)\tPell = -1 \n",
      "i = 4 -> (x,y) = (161, 72)\tPell = 1 \n"
     ]
    }
   ],
   "source": [
    "D = 5\n",
    "\n",
    "i,c = sqrtContFrac(D)\n",
    "a = len(c)\n",
    "\n",
    "for i in range(1,5):\n",
    "    c,k = sqrtConvergents(D,i*a)\n",
    "    print(\"i = {} -> (x,y) = ({}, {})\".format(i,c,k),end=\"\\t\")\n",
    "    print(\"Pell = {} \".format(Pell(c,k,D)))"
   ]
  },
  {
   "cell_type": "code",
   "execution_count": 20,
   "id": "0031f8ba",
   "metadata": {},
   "outputs": [
    {
     "data": {
      "text/plain": [
       "(9, 4)"
      ]
     },
     "execution_count": 20,
     "metadata": {},
     "output_type": "execute_result"
    }
   ],
   "source": [
    "from math import sqrt\n",
    "\n",
    "def PellMinimalSolutions(D=2):\n",
    "    if (sqrt(D)-int(sqrt(D))) < 0.00000001:\n",
    "        return None\n",
    "    i,c = sqrtContFrac(D)\n",
    "    a = len(c)\n",
    "    i = 1\n",
    "    while True:\n",
    "        c,k = sqrtConvergents(D,i*a)\n",
    "        if Pell(c,k,D)==1:\n",
    "            return c,k\n",
    "        i+=1\n",
    "        \n",
    "PellMinimalSolutions(D=5)"
   ]
  },
  {
   "cell_type": "code",
   "execution_count": 21,
   "id": "5e45834f",
   "metadata": {},
   "outputs": [
    {
     "name": "stdout",
     "output_type": "stream",
     "text": [
      "661 16421658242965910275055840472270471049\n"
     ]
    }
   ],
   "source": [
    "Dlim = 1000\n",
    "\n",
    "xmax = 0\n",
    "Dmax = 0\n",
    "for D in range(2,Dlim+1):\n",
    "    if (sqrt(D)-int(sqrt(D))) < 0.00000001: # skip D when perfect square\n",
    "        continue\n",
    "    x,y=PellMinimalSolutions(D)\n",
    "    if x>xmax:\n",
    "        xmax = x\n",
    "        Dmax = D\n",
    "\n",
    "print(Dmax,xmax)"
   ]
  },
  {
   "cell_type": "markdown",
   "id": "prescribed-navigator",
   "metadata": {},
   "source": [
    "## Problem 67\n",
    "\n",
    "Solution from Problem 18"
   ]
  },
  {
   "cell_type": "code",
   "execution_count": 22,
   "id": "motivated-ordinary",
   "metadata": {},
   "outputs": [
    {
     "name": "stdout",
     "output_type": "stream",
     "text": [
      "Solution 67 = 7273\n"
     ]
    }
   ],
   "source": [
    "def getTriangle(inputfile):\n",
    "    triangle = []\n",
    "    with open(inputfile) as f:    \n",
    "        for l in f:\n",
    "            line = l.strip('\\n').split(\" \")\n",
    "            l = []\n",
    "            for c in line:\n",
    "                l.append(int(c))\n",
    "            triangle.append(l)\n",
    "    return triangle\n",
    "\n",
    "\n",
    "def getTriangleMaxPath(triangle):\n",
    "    path = []\n",
    "    for i in range(len(triangle)):\n",
    "        if i==0:\n",
    "            path = [ triangle[i][0] ]\n",
    "        else:\n",
    "            newpath = triangle[i]\n",
    "            for j in range(len(triangle[i])):\n",
    "                if j==0:\n",
    "                    newpath[j] += path[0]\n",
    "                elif j==len(triangle[i])-1:\n",
    "                    newpath[j] += path[-1]\n",
    "                else:\n",
    "                    newpath[j] += max(path[j-1],path[j])\n",
    "            path = newpath\n",
    "\n",
    "    return max(path)\n",
    "\n",
    "triangle67 = getTriangle(\"./data/p067_triangle.txt\")\n",
    "maxpath67 = getTriangleMaxPath(triangle67)\n",
    "print(\"Solution 67 =\",maxpath67)"
   ]
  },
  {
   "cell_type": "markdown",
   "id": "78e09261",
   "metadata": {},
   "source": [
    "## Problem 68 - Magic 5-gon ring\n",
    "\n",
    "https://projecteuler.net/problem=68"
   ]
  },
  {
   "cell_type": "code",
   "execution_count": 23,
   "id": "6b433656",
   "metadata": {},
   "outputs": [
    {
     "name": "stdout",
     "output_type": "stream",
     "text": [
      "(1, 2, 3, 5, 6, 4) 12 (156, 264, 345)\n",
      "(1, 3, 2, 6, 5, 4) 12 (165, 354, 246)\n",
      "(1, 3, 5, 4, 6, 2) 11 (146, 362, 524)\n",
      "(1, 5, 3, 6, 4, 2) 11 (164, 542, 326)\n",
      "(2, 4, 6, 3, 5, 1) 10 (235, 451, 613)\n",
      "(2, 6, 4, 5, 3, 1) 10 (253, 631, 415)\n",
      "(4, 5, 6, 2, 3, 1) 9 (423, 531, 612)\n",
      "(4, 6, 5, 3, 2, 1) 9 (432, 621, 513)\n",
      "432621513\n"
     ]
    }
   ],
   "source": [
    "def TriGon(nodes):\n",
    "    o1,o2,o3,i1,i2,i3 = nodes\n",
    "    s1 = o1+i1+i2\n",
    "    s2 = o2+i2+i3\n",
    "    if s1!=s2:\n",
    "        return False, 0, ()\n",
    "    s3 = o3+i3+i1\n",
    "    if s2!=s3:\n",
    "        return False, 0, ()\n",
    "    return True, s1, (100*o1+10*i1+i2, 100*o2+10*i2+i3, 100*o3+10*i3+i1 )\n",
    "\n",
    "from itertools import permutations\n",
    "\n",
    "solutions = []\n",
    "\n",
    "for p in permutations(range(1,6+1),6):\n",
    "    isSolution, n, s = TriGon(p)\n",
    "    if isSolution and s.index(min(s))==0: # check for correct ordering\n",
    "        print(p,n,s)\n",
    "        solutions.append(int(\"\".join(str(l) for l in s)))\n",
    "        \n",
    "print(max(solutions))"
   ]
  },
  {
   "cell_type": "code",
   "execution_count": 24,
   "id": "8f3f22d9",
   "metadata": {},
   "outputs": [
    {
     "name": "stdout",
     "output_type": "stream",
     "text": [
      "(2, 4, 6, 8, 10, 5, 9, 3, 7, 1) 16 (259, 493, 637, 871, 1015) 2594936378711015 16\n",
      "(2, 5, 3, 6, 9, 7, 8, 4, 10, 1) 17 (278, 584, 3410, 6101, 917) 27858434106101917 17\n",
      "(2, 9, 6, 3, 5, 8, 7, 1, 10, 4) 17 (287, 971, 6110, 3104, 548) 28797161103104548 17\n",
      "(2, 10, 8, 6, 4, 9, 5, 1, 7, 3) 16 (295, 1051, 817, 673, 439) 2951051817673439 16\n",
      "(3, 2, 1, 5, 4, 9, 7, 10, 8, 6) 19 (397, 2710, 1108, 586, 469) 39727101108586469 17\n",
      "(3, 4, 5, 1, 2, 7, 9, 6, 8, 10) 19 (379, 496, 568, 1810, 2107) 37949656818102107 17\n",
      "(5, 3, 1, 9, 7, 8, 4, 10, 6, 2) 17 (584, 3410, 1106, 962, 728) 58434101106962728 17\n",
      "(5, 7, 9, 1, 3, 4, 8, 2, 6, 10) 17 (548, 782, 926, 1610, 3104) 54878292616103104 17\n",
      "(6, 7, 8, 9, 10, 3, 5, 2, 4, 1) 14 (635, 752, 824, 941, 1013) 6357528249411013 16\n",
      "(6, 8, 5, 2, 9, 3, 7, 1, 10, 4) 16 (637, 871, 5110, 2104, 943) 63787151102104943 17\n",
      "(6, 9, 2, 5, 8, 7, 3, 4, 10, 1) 16 (673, 934, 2410, 5101, 817) 67393424105101817 17\n",
      "(6, 10, 9, 8, 7, 5, 3, 1, 4, 2) 14 (653, 1031, 914, 842, 725) 6531031914842725 16\n",
      "6531031914842725\n"
     ]
    }
   ],
   "source": [
    "def n2i(n1,n2,n3):\n",
    "    return int(str(n1)+str(n2)+str(n3))\n",
    "\n",
    "def PentaGon(nodes):\n",
    "    o1,o2,o3,o4,o5,i1,i2,i3,i4,i5 = nodes\n",
    "    s1 = o1+i1+i2\n",
    "    s2 = o2+i2+i3\n",
    "    if s1!=s2:\n",
    "        return False, 0, ()\n",
    "    s3 = o3+i3+i4\n",
    "    if s2!=s3:\n",
    "        return False, 0, ()\n",
    "    s4 = o4+i4+i5\n",
    "    if s3!=s4:\n",
    "        return False, 0, ()\n",
    "    s5 = o5+i5+i1\n",
    "    if s4!=s5:\n",
    "        return False, 0, ()\n",
    "    return True, s1, (n2i(o1,i1,i2),n2i(o2,i2,i3),n2i(o3,i3,i4),n2i(o4,i4,i5),n2i(o5,i5,i1))\n",
    "\n",
    "from itertools import permutations\n",
    "\n",
    "solutions = []\n",
    "\n",
    "for p in permutations(range(1,10+1),10):\n",
    "    isSolution, n, s = PentaGon(p)\n",
    "    if isSolution and s.index(min(s))==0: # check for correct ordering\n",
    "        ss = \"\".join(str(l) for l in s)\n",
    "        print(p,n,s,ss,len(ss))\n",
    "        if len(ss)==16:\n",
    "            solutions.append(int(ss))\n",
    "\n",
    "print(max(solutions))"
   ]
  },
  {
   "cell_type": "markdown",
   "id": "numerous-tribune",
   "metadata": {},
   "source": [
    "## Problem 69 - Totient maximum\n",
    "\n",
    "https://projecteuler.net/problem=69"
   ]
  },
  {
   "cell_type": "code",
   "execution_count": 25,
   "id": "arbitrary-religion",
   "metadata": {},
   "outputs": [],
   "source": [
    "from math import gcd\n",
    "\n",
    "## Using GCD is not very efficient for large numbers!\n",
    "def phi_gcd(n):\n",
    "    return sum([ 1 for k in range(1,n+1) if gcd(n,k)==1 ])\n",
    "\n",
    "def phi(n):\n",
    "    phi = int(n > 1 and n)\n",
    "    for p in range(2, int(n ** .5) + 1):\n",
    "        if not n % p:\n",
    "            phi -= phi // p\n",
    "            while not n % p:\n",
    "                n //= p\n",
    "    if n > 1: phi -= phi // n \n",
    "    return phi"
   ]
  },
  {
   "cell_type": "code",
   "execution_count": 26,
   "id": "mathematical-twins",
   "metadata": {},
   "outputs": [],
   "source": [
    "def solve69(nlim=1_000_000):\n",
    "    nmax = 0\n",
    "    rmax = 0\n",
    "    for n in range(2,nlim+1):\n",
    "        r = n/phi(n)\n",
    "        if r>rmax:\n",
    "            rmax = r\n",
    "            nmax = n\n",
    "            print(\"{:7d} {:4.2f}\".format(nmax,rmax))\n",
    "    return nmax"
   ]
  },
  {
   "cell_type": "code",
   "execution_count": 27,
   "id": "radical-plymouth",
   "metadata": {},
   "outputs": [
    {
     "name": "stdout",
     "output_type": "stream",
     "text": [
      "      2 2.00\n",
      "      6 3.00\n"
     ]
    },
    {
     "data": {
      "text/plain": [
       "6"
      ]
     },
     "execution_count": 27,
     "metadata": {},
     "output_type": "execute_result"
    }
   ],
   "source": [
    "solve69(10)"
   ]
  },
  {
   "cell_type": "code",
   "execution_count": 28,
   "id": "modern-convenience",
   "metadata": {
    "scrolled": true
   },
   "outputs": [
    {
     "name": "stdout",
     "output_type": "stream",
     "text": [
      "      2 2.00\n",
      "      6 3.00\n",
      "     30 3.75\n",
      "    210 4.38\n",
      "   2310 4.81\n",
      "  30030 5.21\n",
      " 510510 5.54\n"
     ]
    },
    {
     "data": {
      "text/plain": [
       "510510"
      ]
     },
     "execution_count": 28,
     "metadata": {},
     "output_type": "execute_result"
    }
   ],
   "source": [
    "solve69()"
   ]
  },
  {
   "cell_type": "markdown",
   "id": "668a4072",
   "metadata": {},
   "source": [
    "## Problem 70 - Totient permutation\n",
    "\n",
    "https://projecteuler.net/problem=70\n",
    "\n",
    "Find the value of n, 1 < n < 107, for which φ(n) is a permutation of n and the ratio n/φ(n) produces a minimum."
   ]
  },
  {
   "cell_type": "code",
   "execution_count": 29,
   "id": "powerful-script",
   "metadata": {},
   "outputs": [],
   "source": [
    "def phi(n):\n",
    "    phi = int(n > 1 and n)\n",
    "    for p in range(2, int(n ** .5) + 1):\n",
    "        if not n % p:\n",
    "            phi -= phi // p\n",
    "            while not n % p:\n",
    "                n //= p\n",
    "    if n > 1: phi -= phi // n \n",
    "    return phi"
   ]
  },
  {
   "cell_type": "code",
   "execution_count": 30,
   "id": "bba687cc",
   "metadata": {},
   "outputs": [
    {
     "data": {
      "text/plain": [
       "79180"
      ]
     },
     "execution_count": 30,
     "metadata": {},
     "output_type": "execute_result"
    }
   ],
   "source": [
    "phi(87109)"
   ]
  },
  {
   "cell_type": "markdown",
   "id": "b18613a5",
   "metadata": {},
   "source": [
    "In order to minimaze $n/\\phi(n)$ I need to maximize $\\phi(n)$.\n",
    "\n",
    "Prime numbers $p$ have the largest value of $\\phi$, but they cannot be a soluzion since $\\phi(p) = p-1$ this the digits of $p$ and $\\phi(p)$ will be different and cannot be a permutation of the other.\n",
    "\n",
    "I can try to restrict the soluzion to [semi-prime numbers](https://en.wikipedia.org/wiki/Semiprime):"
   ]
  },
  {
   "cell_type": "code",
   "execution_count": 31,
   "id": "da67863e",
   "metadata": {},
   "outputs": [],
   "source": [
    "from ProjectEuler import generatePrimes\n",
    "from math import sqrt\n",
    "\n",
    "def isPerm(a,b):\n",
    "    return sorted(str(a))==sorted(str(b))\n",
    "\n",
    "def solve70(N):\n",
    "    rmin = 100\n",
    "    nmin = 0\n",
    "    phimin = 0\n",
    "    # generate primes\n",
    "    primes = []\n",
    "    for n in generatePrimes():\n",
    "        #if n>N//2+1: break # up to N/2 -- too many!\n",
    "        if n>10.*sqrt(N): break # up to 10.*sqrt(N)\n",
    "        primes.append(n)\n",
    "    # generate semiprimes from prime list, avoiding duplicates\n",
    "    semiprimes = []\n",
    "    for p in primes:\n",
    "        for q in primes[primes.index(p)-1:]:\n",
    "            n = p*q\n",
    "            if n>N:\n",
    "                break\n",
    "            # compute simplified totient function for semiprime\n",
    "            phi = (p-1)*(q-1)\n",
    "            # check permutation\n",
    "            if isPerm(n,phi):\n",
    "                r = n/phi\n",
    "                if r<rmin:\n",
    "                    rmin=r\n",
    "                    nmin=n\n",
    "                    phimin=phi\n",
    "    return nmin,phimin,rmin"
   ]
  },
  {
   "cell_type": "code",
   "execution_count": 32,
   "id": "6c0e88f7",
   "metadata": {
    "scrolled": false
   },
   "outputs": [
    {
     "data": {
      "text/plain": [
       "(8319823, 8313928, 1.0007090511248113)"
      ]
     },
     "execution_count": 32,
     "metadata": {},
     "output_type": "execute_result"
    }
   ],
   "source": [
    "N = 10_000_000\n",
    "solve70(10_000_000)"
   ]
  },
  {
   "cell_type": "code",
   "execution_count": null,
   "id": "1744cdee",
   "metadata": {},
   "outputs": [],
   "source": []
  }
 ],
 "metadata": {
  "kernelspec": {
   "display_name": "Python 3 (ipykernel)",
   "language": "python",
   "name": "python3"
  },
  "language_info": {
   "codemirror_mode": {
    "name": "ipython",
    "version": 3
   },
   "file_extension": ".py",
   "mimetype": "text/x-python",
   "name": "python",
   "nbconvert_exporter": "python",
   "pygments_lexer": "ipython3",
   "version": "3.10.8"
  }
 },
 "nbformat": 4,
 "nbformat_minor": 5
}
