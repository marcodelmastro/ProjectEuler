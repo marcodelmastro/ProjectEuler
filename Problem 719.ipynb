{
 "cells": [
  {
   "cell_type": "markdown",
   "id": "9bab7e5a",
   "metadata": {},
   "source": [
    "## Problem 719 - Number Splitting\n",
    "\n",
    "https://projecteuler.net/problem=719"
   ]
  },
  {
   "cell_type": "code",
   "execution_count": 1,
   "id": "0b15a6ed",
   "metadata": {},
   "outputs": [],
   "source": [
    "def splitNumber(a = 6724):\n",
    "    splits = [ [a] ]\n",
    "    s = str(a)\n",
    "    for p in range(1,len(s)):\n",
    "        split = [ int(s[:p])]\n",
    "        for rem in splitNumber(int(s[p:])):\n",
    "            splits.append(list(split+rem))\n",
    "    return splits"
   ]
  },
  {
   "cell_type": "code",
   "execution_count": 2,
   "id": "db25e615",
   "metadata": {},
   "outputs": [
    {
     "data": {
      "text/plain": [
       "[[6724],\n",
       " [6, 724],\n",
       " [6, 7, 24],\n",
       " [6, 7, 2, 4],\n",
       " [6, 72, 4],\n",
       " [67, 24],\n",
       " [67, 2, 4],\n",
       " [672, 4]]"
      ]
     },
     "execution_count": 2,
     "metadata": {},
     "output_type": "execute_result"
    }
   ],
   "source": [
    "splitNumber()"
   ]
  },
  {
   "cell_type": "code",
   "execution_count": 3,
   "id": "9b0920ed",
   "metadata": {},
   "outputs": [],
   "source": [
    "from math import sqrt\n",
    "from collections import defaultdict\n",
    "\n",
    "def computeSnumbers(nmax = 10000,skipDuplicate=False):\n",
    "    T = defaultdict(list)\n",
    "    imax = int(sqrt(nmax))\n",
    "    for i in range(2,imax+1):\n",
    "        square = i*i\n",
    "        if i%100_000==0:\n",
    "            print(i,square)\n",
    "        # Speedup: for a number to be equal to the sum of some permutations of its digits, they must be equal mod 9\n",
    "        if sum([int(j) for j in str(i)])%9 == square%9 :\n",
    "            for s in splitNumber(square):\n",
    "                if sum(s)==i:\n",
    "                    T[square].append(s)\n",
    "                    if skipDuplicate:\n",
    "                        break # found one good combination, skipping the others to speedup\n",
    "    return T"
   ]
  },
  {
   "cell_type": "code",
   "execution_count": 4,
   "id": "79a46d92",
   "metadata": {},
   "outputs": [
    {
     "data": {
      "text/plain": [
       "defaultdict(list,\n",
       "            {81: [[8, 1]],\n",
       "             100: [[10, 0]],\n",
       "             1296: [[1, 29, 6]],\n",
       "             2025: [[20, 25]],\n",
       "             3025: [[30, 25]],\n",
       "             6724: [[6, 72, 4]],\n",
       "             8281: [[8, 2, 81], [82, 8, 1]],\n",
       "             9801: [[98, 1]],\n",
       "             10000: [[100, 0]]})"
      ]
     },
     "execution_count": 4,
     "metadata": {},
     "output_type": "execute_result"
    }
   ],
   "source": [
    "T4 = computeSnumbers(10**4)\n",
    "T4"
   ]
  },
  {
   "cell_type": "code",
   "execution_count": 5,
   "id": "184a61b1",
   "metadata": {},
   "outputs": [
    {
     "data": {
      "text/plain": [
       "41333"
      ]
     },
     "execution_count": 5,
     "metadata": {},
     "output_type": "execute_result"
    }
   ],
   "source": [
    "sum(T4.keys())"
   ]
  },
  {
   "cell_type": "code",
   "execution_count": 6,
   "id": "24df9976",
   "metadata": {},
   "outputs": [
    {
     "name": "stdout",
     "output_type": "stream",
     "text": [
      "100000 10000000000\n",
      "200000 40000000000\n",
      "300000 90000000000\n",
      "400000 160000000000\n",
      "500000 250000000000\n",
      "600000 360000000000\n",
      "700000 490000000000\n",
      "800000 640000000000\n",
      "900000 810000000000\n",
      "1000000 1000000000000\n"
     ]
    }
   ],
   "source": [
    "T12 = computeSnumbers(10**12,skipDuplicate=True)"
   ]
  },
  {
   "cell_type": "code",
   "execution_count": 7,
   "id": "5f7f86d5",
   "metadata": {},
   "outputs": [
    {
     "data": {
      "text/plain": [
       "128088830547982"
      ]
     },
     "execution_count": 7,
     "metadata": {},
     "output_type": "execute_result"
    }
   ],
   "source": [
    "sum(T12.keys())"
   ]
  },
  {
   "cell_type": "code",
   "execution_count": null,
   "id": "cc1fb5d8",
   "metadata": {},
   "outputs": [],
   "source": []
  }
 ],
 "metadata": {
  "kernelspec": {
   "display_name": "Python 3 (ipykernel)",
   "language": "python",
   "name": "python3"
  },
  "language_info": {
   "codemirror_mode": {
    "name": "ipython",
    "version": 3
   },
   "file_extension": ".py",
   "mimetype": "text/x-python",
   "name": "python",
   "nbconvert_exporter": "python",
   "pygments_lexer": "ipython3",
   "version": "3.10.8"
  }
 },
 "nbformat": 4,
 "nbformat_minor": 5
}
