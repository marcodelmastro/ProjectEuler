{
 "cells": [
  {
   "cell_type": "markdown",
   "metadata": {},
   "source": [
    "# Problem 96 - Sudoku\n",
    "\n",
    "https://projecteuler.net/problem=96\n",
    "\n",
    "Inspiration for the solution from:\n",
    "\n",
    "https://www.youtube.com/watch?v=G_UYXzGuqvM"
   ]
  },
  {
   "cell_type": "code",
   "execution_count": 27,
   "metadata": {},
   "outputs": [],
   "source": [
    "import numpy as np\n",
    "\n",
    "def isPossible(y,x,n,sudoku):\n",
    "    '''Check wether n is a possible solution in position (x,y)'''\n",
    "    # Check row\n",
    "    for i in range(9):\n",
    "        if sudoku[y][i] == n:\n",
    "            return False\n",
    "    # Check column\n",
    "    for j in range(9):\n",
    "        if sudoku[j][x] == n:\n",
    "            return False\n",
    "    # Check local 3x3 box\n",
    "    x0 = (x//3)*3\n",
    "    y0 = (y//3)*3\n",
    "    for i in range(3):\n",
    "        for j in range(3):\n",
    "            if sudoku[y0+j][x0+i] == n:\n",
    "                return False\n",
    "    return True\n",
    "\n",
    "def solveSudoku(sudoku):\n",
    "    '''Solve recursively with backtracking'''\n",
    "    for y in range(9):\n",
    "        for x in range(9):\n",
    "            if sudoku[y][x]==0: # found empty slot\n",
    "                for n in range(1,10): # try all possible solution\n",
    "                    if isPossible(y,x,n,sudoku): # if valid given the rest of the grid, set value\n",
    "                        sudoku[y][x] = n\n",
    "                        # try solve with newly filled slot using recursion\n",
    "                        if solveSudoku(sudoku):\n",
    "                            return True\n",
    "                        # backtrack if recursed solution not valid\n",
    "                        sudoku[y][x] = 0\n",
    "                return False\n",
    "    return True"
   ]
  },
  {
   "cell_type": "code",
   "execution_count": 28,
   "metadata": {},
   "outputs": [
    {
     "name": "stdout",
     "output_type": "stream",
     "text": [
      "[[5 3 4 6 7 8 9 1 2]\n",
      " [6 7 2 1 9 5 3 4 8]\n",
      " [1 9 8 3 4 2 5 6 7]\n",
      " [8 5 9 7 6 1 4 2 3]\n",
      " [4 2 6 8 5 3 7 9 1]\n",
      " [7 1 3 9 2 4 8 5 6]\n",
      " [9 6 1 5 3 7 2 8 4]\n",
      " [2 8 7 4 1 9 6 3 5]\n",
      " [3 4 5 2 8 6 1 7 9]]\n"
     ]
    }
   ],
   "source": [
    "sudoku=[\n",
    "    [5,3,0,0,7,0,0,0,0],\n",
    "    [6,0,0,1,9,5,0,0,0],\n",
    "    [0,9,8,0,0,0,0,6,0],\n",
    "    [8,0,0,0,6,0,0,0,3],\n",
    "    [4,0,0,8,0,3,0,0,1],\n",
    "    [7,0,0,0,2,0,0,0,6],\n",
    "    [0,6,0,0,0,0,2,8,0],\n",
    "    [0,0,0,4,1,9,0,0,5],\n",
    "    [0,0,0,0,8,0,0,7,9]\n",
    "]\n",
    "\n",
    "sudoku = np.array(sudoku)\n",
    "\n",
    "solveSudoku(sudoku)\n",
    "\n",
    "print(sudoku)"
   ]
  },
  {
   "cell_type": "code",
   "execution_count": 29,
   "metadata": {},
   "outputs": [],
   "source": [
    "with open(\"data/p096_sudoku.txt\") as f:\n",
    "    lines = [ l.strip(\"\\n\") for l in f.readlines() ]\n",
    "\n",
    "grids = []\n",
    "for i in range(50):\n",
    "    grid = []\n",
    "    for j in range(10):\n",
    "        if j==0:\n",
    "            pass\n",
    "        else:\n",
    "            grid.append([int(l) for l in list(lines[i*10+j])])\n",
    "    grids.append(grid)"
   ]
  },
  {
   "cell_type": "code",
   "execution_count": 31,
   "metadata": {},
   "outputs": [
    {
     "name": "stdout",
     "output_type": "stream",
     "text": [
      "[[0 0 3 0 2 0 6 0 0]\n",
      " [9 0 0 3 0 5 0 0 1]\n",
      " [0 0 1 8 0 6 4 0 0]\n",
      " [0 0 8 1 0 2 9 0 0]\n",
      " [7 0 0 0 0 0 0 0 8]\n",
      " [0 0 6 7 0 8 2 0 0]\n",
      " [0 0 2 6 0 9 5 0 0]\n",
      " [8 0 0 2 0 3 0 0 9]\n",
      " [0 0 5 0 1 0 3 0 0]]\n",
      "[[4 8 3 9 2 1 6 5 7]\n",
      " [9 6 7 3 4 5 8 2 1]\n",
      " [2 5 1 8 7 6 4 9 3]\n",
      " [5 4 8 1 3 2 9 7 6]\n",
      " [7 2 9 5 6 4 1 3 8]\n",
      " [1 3 6 7 9 8 2 4 5]\n",
      " [3 7 2 6 8 9 5 1 4]\n",
      " [8 1 4 2 5 3 7 6 9]\n",
      " [6 9 5 4 1 7 3 8 2]]\n"
     ]
    }
   ],
   "source": [
    "sudoku = np.array(grids[0])\n",
    "print(sudoku)\n",
    "solveSudoku(sudoku)\n",
    "print(sudoku)"
   ]
  },
  {
   "cell_type": "code",
   "execution_count": 32,
   "metadata": {},
   "outputs": [
    {
     "name": "stdout",
     "output_type": "stream",
     "text": [
      "Solving Sudokus...\n",
      "Grid 1 ... done\n",
      "Grid 2 ... done\n",
      "Grid 3 ... done\n",
      "Grid 4 ... done\n",
      "Grid 5 ... done\n",
      "Grid 6 ... done\n",
      "Grid 7 ... done\n",
      "Grid 8 ... done\n",
      "Grid 9 ... done\n",
      "Grid 10 ... done\n",
      "Grid 11 ... done\n",
      "Grid 12 ... done\n",
      "Grid 13 ... done\n",
      "Grid 14 ... done\n",
      "Grid 15 ... done\n",
      "Grid 16 ... done\n",
      "Grid 17 ... done\n",
      "Grid 18 ... done\n",
      "Grid 19 ... done\n",
      "Grid 20 ... done\n",
      "Grid 21 ... done\n",
      "Grid 22 ... done\n",
      "Grid 23 ... done\n",
      "Grid 24 ... done\n",
      "Grid 25 ... done\n",
      "Grid 26 ... done\n",
      "Grid 27 ... done\n",
      "Grid 28 ... done\n",
      "Grid 29 ... done\n",
      "Grid 30 ... done\n",
      "Grid 31 ... done\n",
      "Grid 32 ... done\n",
      "Grid 33 ... done\n",
      "Grid 34 ... done\n",
      "Grid 35 ... done\n",
      "Grid 36 ... done\n",
      "Grid 37 ... done\n",
      "Grid 38 ... done\n",
      "Grid 39 ... done\n",
      "Grid 40 ... done\n",
      "Grid 41 ... done\n",
      "Grid 42 ... done\n",
      "Grid 43 ... done\n",
      "Grid 44 ... done\n",
      "Grid 45 ... done\n",
      "Grid 46 ... done\n",
      "Grid 47 ... done\n",
      "Grid 48 ... done\n",
      "Grid 49 ... done\n",
      "Grid 50 ... done\n",
      "24702\n"
     ]
    }
   ],
   "source": [
    "s = 0\n",
    "i = 1\n",
    "print(\"Solving Sudokus...\")\n",
    "for g in grids:\n",
    "    sudoku = np.array(g)\n",
    "    print(\"Grid\",i,\"...\",end=\" \")\n",
    "    solveSudoku(sudoku)\n",
    "    print(\"done\")\n",
    "    s += int(\"\".join([str(i) for i in sudoku[0][:3]]))\n",
    "    i+=1\n",
    "    #print(sudoku)\n",
    "print(s)"
   ]
  },
  {
   "cell_type": "code",
   "execution_count": null,
   "metadata": {},
   "outputs": [],
   "source": []
  }
 ],
 "metadata": {
  "kernelspec": {
   "display_name": "Python 3",
   "language": "python",
   "name": "python3"
  },
  "language_info": {
   "codemirror_mode": {
    "name": "ipython",
    "version": 3
   },
   "file_extension": ".py",
   "mimetype": "text/x-python",
   "name": "python",
   "nbconvert_exporter": "python",
   "pygments_lexer": "ipython3",
   "version": "3.9.2"
  }
 },
 "nbformat": 4,
 "nbformat_minor": 4
}
