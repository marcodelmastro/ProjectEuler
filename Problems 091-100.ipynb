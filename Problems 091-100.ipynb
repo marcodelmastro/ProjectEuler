{
 "cells": [
  {
   "cell_type": "markdown",
   "id": "2824e15b",
   "metadata": {},
   "source": [
    "## Problem 91 - Right triangles with integer coordinates\n",
    "\n",
    "https://projecteuler.net/problem=91"
   ]
  },
  {
   "cell_type": "code",
   "execution_count": 2,
   "id": "5163b246",
   "metadata": {},
   "outputs": [
    {
     "data": {
      "text/plain": [
       "(0.0, 0.7071067811865475, 0.7071067811865475)"
      ]
     },
     "execution_count": 2,
     "metadata": {},
     "output_type": "execute_result"
    }
   ],
   "source": [
    "from math import sqrt, acos\n",
    "\n",
    "def d2(a,b):\n",
    "    dx = b[0]-a[0]\n",
    "    dy = b[1]-a[1]\n",
    "    return dx*dx+dy*dy\n",
    "\n",
    "def angles(A,B,C):\n",
    "    \n",
    "    # side sqaures\n",
    "    a2 = d2(B,C)\n",
    "    b2 = d2(A,C)\n",
    "    c2 = d2(A,B)\n",
    " \n",
    "    # sides\n",
    "    a = sqrt(a2)\n",
    "    b = sqrt(b2)\n",
    "    c = sqrt(c2)\n",
    " \n",
    "    # cosine law: https://en.wikipedia.org/wiki/Law_of_cosines\n",
    "    alp = ((b2 + c2 - a2) / (2 * b * c))\n",
    "    bet = ((a2 + c2 - b2) / (2 * a * c))\n",
    "    gam = ((a2 + b2 - c2) / (2 * a * b))\n",
    " \n",
    "    # angles\n",
    "    #alp = acos(alp)\n",
    "    #bet = acos(bet)\n",
    "    #gam = acos(gam)\n",
    "\n",
    "    # converting to degree\n",
    "    #alp *= 180 / math.pi\n",
    "    #bet *= 180 / math.pi\n",
    "    #gam *= 180 / math.pi\n",
    " \n",
    "    return alp,bet,gam\n",
    "\n",
    "A = (0,0)\n",
    "B = (0,1)\n",
    "C = (1,0) \n",
    "angles(A, B, C)"
   ]
  },
  {
   "cell_type": "code",
   "execution_count": 3,
   "id": "174cf4dc",
   "metadata": {},
   "outputs": [
    {
     "name": "stdout",
     "output_type": "stream",
     "text": [
      "14234\n"
     ]
    }
   ],
   "source": [
    "A = (0,0)\n",
    "\n",
    "cmax = 50\n",
    "c = 0\n",
    "\n",
    "for xA in range(0,cmax+1):\n",
    "    for yA in range(0,cmax+1):\n",
    "        B = (xA,yA)\n",
    "        if B==A:\n",
    "            continue\n",
    "        for xB in range(0,cmax+1):\n",
    "            for yB in range(0,cmax+1):\n",
    "                C = (xB,yB)\n",
    "                if C==B or C==A:\n",
    "                    continue\n",
    "                ang = angles(A, B, C)\n",
    "                if 0. in ang:\n",
    "                    #print(A,B,C,ang)\n",
    "                    c += 1\n",
    "print(c//2)"
   ]
  },
  {
   "cell_type": "markdown",
   "id": "b25d1d1a",
   "metadata": {},
   "source": [
    "## Problem 92 - Square digit chains\n",
    "\n",
    "https://projecteuler.net/problem=92"
   ]
  },
  {
   "cell_type": "code",
   "execution_count": 27,
   "id": "69d164f2",
   "metadata": {},
   "outputs": [
    {
     "name": "stdout",
     "output_type": "stream",
     "text": [
      "8581146\n"
     ]
    }
   ],
   "source": [
    "nextinchain = {}\n",
    "endofchain = {}\n",
    "\n",
    "n89 = 0\n",
    "for nstart in range(1,10_000_000):\n",
    "    if nstart in endofchain.keys() and endofchain[nstart]==89:\n",
    "        n89 += 1\n",
    "        continue\n",
    "    chain = [nstart]\n",
    "    while True:\n",
    "        n = chain[-1]\n",
    "        if n in nextinchain.keys():\n",
    "            nn = nextinchain[n]\n",
    "        else:\n",
    "            nn = sum([ int(i)**2 for i in str(n) ])\n",
    "            nextinchain[n]=nn\n",
    "        if nn==1 or nn==89:\n",
    "            for node in chain:\n",
    "                endofchain[node] = nn\n",
    "            if nn==89:\n",
    "                n89+=1\n",
    "            break\n",
    "        chain.append(nn)\n",
    "print(n89)"
   ]
  },
  {
   "cell_type": "markdown",
   "id": "24646b5d",
   "metadata": {},
   "source": [
    "## Problem 97 - Large non-Mersenne prime\n",
    "\n",
    "https://projecteuler.net/problem=97"
   ]
  },
  {
   "cell_type": "code",
   "execution_count": 4,
   "id": "851fcb08",
   "metadata": {},
   "outputs": [],
   "source": [
    "def expTwoTenDigits(nmax=32):\n",
    "    n=1\n",
    "    a=2\n",
    "    while True:\n",
    "        n+=1\n",
    "        if n>nmax:\n",
    "            break\n",
    "        a *= 2\n",
    "        a %= 10000000000 # keep last 10 digits\n",
    "        #print(n,a)\n",
    "    return a"
   ]
  },
  {
   "cell_type": "code",
   "execution_count": 5,
   "id": "e1129c24",
   "metadata": {},
   "outputs": [
    {
     "name": "stdout",
     "output_type": "stream",
     "text": [
      "18446744073709551616\n",
      "3709551616\n"
     ]
    }
   ],
   "source": [
    "print(2**64)\n",
    "print(expTwoTenDigits(64))"
   ]
  },
  {
   "cell_type": "code",
   "execution_count": 6,
   "id": "c03e0c8b",
   "metadata": {},
   "outputs": [
    {
     "data": {
      "text/plain": [
       "8739992577"
      ]
     },
     "execution_count": 6,
     "metadata": {},
     "output_type": "execute_result"
    }
   ],
   "source": [
    "(28433*expTwoTenDigits(7830457)+1)%10000000000"
   ]
  },
  {
   "cell_type": "code",
   "execution_count": null,
   "id": "1dad2d1e",
   "metadata": {},
   "outputs": [],
   "source": []
  },
  {
   "cell_type": "markdown",
   "id": "1856711d",
   "metadata": {},
   "source": [
    "# Problem 99 - Largest exponential\n",
    "\n",
    "if $a^b > c^d$ then:\n",
    "\n",
    "$\\log a^b > \\log c^d$\n",
    "\n",
    "$b \\log a > d \\log c$"
   ]
  },
  {
   "cell_type": "code",
   "execution_count": 6,
   "id": "2c9d8d64",
   "metadata": {},
   "outputs": [
    {
     "data": {
      "text/plain": [
       "-1"
      ]
     },
     "execution_count": 6,
     "metadata": {},
     "output_type": "execute_result"
    }
   ],
   "source": [
    "from math import log\n",
    "\n",
    "def compare(A,B):\n",
    "    a,b = A\n",
    "    c,d = B\n",
    "    if b*log(a) > d*log(c):\n",
    "        return 1\n",
    "    else:\n",
    "        return -1\n",
    "    \n",
    "compare((2,11),(3,7))"
   ]
  },
  {
   "cell_type": "code",
   "execution_count": 7,
   "id": "e9382b32",
   "metadata": {},
   "outputs": [
    {
     "name": "stdout",
     "output_type": "stream",
     "text": [
      "709\n"
     ]
    }
   ],
   "source": [
    "with open('data/p099_base_exp.txt') as f:\n",
    "    values = [ tuple([ int(i) for i in l.strip().split(\",\") ]) for l in f.readlines() ]\n",
    "    \n",
    "import functools\n",
    "\n",
    "values_sorted = sorted(values,key=functools.cmp_to_key(compare))\n",
    "i = values.index(values_sorted[-1])\n",
    "print(i+1)   "
   ]
  },
  {
   "cell_type": "code",
   "execution_count": null,
   "id": "6e2d652c",
   "metadata": {},
   "outputs": [],
   "source": []
  }
 ],
 "metadata": {
  "kernelspec": {
   "display_name": "Python 3 (ipykernel)",
   "language": "python",
   "name": "python3"
  },
  "language_info": {
   "codemirror_mode": {
    "name": "ipython",
    "version": 3
   },
   "file_extension": ".py",
   "mimetype": "text/x-python",
   "name": "python",
   "nbconvert_exporter": "python",
   "pygments_lexer": "ipython3",
   "version": "3.10.10"
  }
 },
 "nbformat": 4,
 "nbformat_minor": 5
}
