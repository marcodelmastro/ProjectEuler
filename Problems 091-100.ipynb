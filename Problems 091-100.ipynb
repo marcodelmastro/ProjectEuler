{
 "cells": [
  {
   "cell_type": "markdown",
   "id": "2824e15b",
   "metadata": {},
   "source": [
    "## Problem 91 - Right triangles with integer coordinates\n",
    "\n",
    "https://projecteuler.net/problem=91"
   ]
  },
  {
   "cell_type": "code",
   "execution_count": 1,
   "id": "5163b246",
   "metadata": {},
   "outputs": [
    {
     "data": {
      "text/plain": [
       "(0.0, 0.7071067811865475, 0.7071067811865475)"
      ]
     },
     "execution_count": 1,
     "metadata": {},
     "output_type": "execute_result"
    }
   ],
   "source": [
    "from math import sqrt, acos\n",
    "\n",
    "def d2(a,b):\n",
    "    dx = b[0]-a[0]\n",
    "    dy = b[1]-a[1]\n",
    "    return dx*dx+dy*dy\n",
    "\n",
    "def angles(A,B,C):\n",
    "    \n",
    "    # side sqaures\n",
    "    a2 = d2(B,C)\n",
    "    b2 = d2(A,C)\n",
    "    c2 = d2(A,B)\n",
    " \n",
    "    # sides\n",
    "    a = sqrt(a2)\n",
    "    b = sqrt(b2)\n",
    "    c = sqrt(c2)\n",
    " \n",
    "    # cosine law: https://en.wikipedia.org/wiki/Law_of_cosines\n",
    "    alp = ((b2 + c2 - a2) / (2 * b * c))\n",
    "    bet = ((a2 + c2 - b2) / (2 * a * c))\n",
    "    gam = ((a2 + b2 - c2) / (2 * a * b))\n",
    " \n",
    "    # angles\n",
    "    #alp = acos(alp)\n",
    "    #bet = acos(bet)\n",
    "    #gam = acos(gam)\n",
    "\n",
    "    # converting to degree\n",
    "    #alp *= 180 / math.pi\n",
    "    #bet *= 180 / math.pi\n",
    "    #gam *= 180 / math.pi\n",
    " \n",
    "    return alp,bet,gam\n",
    "\n",
    "A = (0,0)\n",
    "B = (0,1)\n",
    "C = (1,0) \n",
    "angles(A, B, C)"
   ]
  },
  {
   "cell_type": "code",
   "execution_count": 2,
   "id": "174cf4dc",
   "metadata": {},
   "outputs": [
    {
     "name": "stdout",
     "output_type": "stream",
     "text": [
      "14234\n"
     ]
    }
   ],
   "source": [
    "A = (0,0)\n",
    "\n",
    "cmax = 50\n",
    "c = 0\n",
    "\n",
    "for xA in range(0,cmax+1):\n",
    "    for yA in range(0,cmax+1):\n",
    "        B = (xA,yA)\n",
    "        if B==A:\n",
    "            continue\n",
    "        for xB in range(0,cmax+1):\n",
    "            for yB in range(0,cmax+1):\n",
    "                C = (xB,yB)\n",
    "                if C==B or C==A:\n",
    "                    continue\n",
    "                ang = angles(A, B, C)\n",
    "                if 0. in ang:\n",
    "                    #print(A,B,C,ang)\n",
    "                    c += 1\n",
    "print(c//2)"
   ]
  },
  {
   "cell_type": "markdown",
   "id": "b25d1d1a",
   "metadata": {},
   "source": [
    "## Problem 92 - Square digit chains\n",
    "\n",
    "https://projecteuler.net/problem=92"
   ]
  },
  {
   "cell_type": "code",
   "execution_count": 6,
   "id": "69d164f2",
   "metadata": {},
   "outputs": [
    {
     "name": "stdout",
     "output_type": "stream",
     "text": [
      "8581146\n"
     ]
    }
   ],
   "source": [
    "nextinchain = {}\n",
    "endofchain = {}\n",
    "\n",
    "n89 = 0\n",
    "for nstart in range(1,10_000_000):\n",
    "    if nstart in endofchain.keys() and endofchain[nstart]==89:\n",
    "        n89 += 1\n",
    "        continue\n",
    "    chain = [nstart]\n",
    "    while True:\n",
    "        n = chain[-1]\n",
    "        if n in nextinchain.keys():\n",
    "            nn = nextinchain[n]\n",
    "        else:\n",
    "            nn = sum([ int(i)**2 for i in str(n) ])\n",
    "            nextinchain[n]=nn\n",
    "        if nn==1 or nn==89:\n",
    "            for node in chain:\n",
    "                endofchain[node] = nn\n",
    "            if nn==89:\n",
    "                n89+=1\n",
    "            break\n",
    "        chain.append(nn)\n",
    "print(n89)"
   ]
  },
  {
   "cell_type": "markdown",
   "id": "2d5ac5ed",
   "metadata": {},
   "source": [
    "## Problem 93 - Arithmetic expressions\n",
    "https://projecteuler.net/problem=93"
   ]
  },
  {
   "cell_type": "code",
   "execution_count": 12,
   "id": "094b55ea",
   "metadata": {},
   "outputs": [],
   "source": [
    "from itertools import combinations\n",
    "\n",
    "def opPair(i1,i2):\n",
    "    '''Perform all possible calculation with a pair of integers, as in between parenteses'''\n",
    "    res = [i1+i2,i1*i2,i1-i2,i2-i1] # allow negative results\n",
    "    if i2!=0:\n",
    "        res.append(i1/i2) # allow rational results\n",
    "    if i1!=0:\n",
    "        res.append(i2/i1) # allow rational results\n",
    "    return res\n",
    "\n",
    "def arithmeticOps(s):\n",
    "    '''Perform all possible arithmetic operations with 4 integer set iteratively, save positive integer results'''\n",
    "    results = []\n",
    "    for i12 in combinations(s,2): # extract 2 values from set\n",
    "        i34 = set(s)-set(i12)\n",
    "        i1,i2 = i12\n",
    "        for r12 in opPair(i1,i2):\n",
    "            for i3 in i34: # extract 3rd value\n",
    "                i4 = list(i34-{i3})[0] # extract 4th value\n",
    "                for r123 in opPair(r12,i3):\n",
    "                    for r in opPair(r123,i4):\n",
    "                        if int(r)==r and r>0 and r not in results:\n",
    "                            results.append(int(r))\n",
    "    return sorted(results)\n",
    "\n",
    "import numpy as np\n",
    "\n",
    "def consecutive(data, stepsize=1):\n",
    "    return np.split(data, np.where(np.diff(data) != stepsize)[0]+1)\n",
    "\n",
    "def longest(data):\n",
    "    a = np.array(data)\n",
    "    l = [len(c) for c in consecutive(a)]\n",
    "    return max(l)"
   ]
  },
  {
   "cell_type": "code",
   "execution_count": 13,
   "id": "250540a6",
   "metadata": {},
   "outputs": [
    {
     "name": "stdout",
     "output_type": "stream",
     "text": [
      "31 36\n",
      "[1, 2, 3, 4, 5, 6, 7, 8, 9, 10, 11, 12, 13, 14, 15, 16, 17, 18, 19, 20, 21, 22, 23, 24, 25, 26, 27, 28, 30, 32, 36]\n",
      "28\n"
     ]
    }
   ],
   "source": [
    "s = {1,2,3,4}\n",
    "res = arithmeticOps(s)\n",
    "print(len(res),max(res))\n",
    "print(res)\n",
    "print(longest(res))"
   ]
  },
  {
   "cell_type": "code",
   "execution_count": 14,
   "id": "5b05cd73",
   "metadata": {},
   "outputs": [
    {
     "name": "stdout",
     "output_type": "stream",
     "text": [
      "(51, (1, 2, 5, 8)) -> 1258\n"
     ]
    }
   ],
   "source": [
    "combs = []\n",
    "for s in combinations(range(1,9),4):\n",
    "    res = arithmeticOps(s)\n",
    "    l = longest(res)\n",
    "    combs.append((l,s))\n",
    "    \n",
    "m = max(combs)\n",
    "print(m,\"->\",\"\".join(str(n) for n in m[1]))"
   ]
  },
  {
   "cell_type": "code",
   "execution_count": null,
   "id": "9b172229",
   "metadata": {},
   "outputs": [],
   "source": []
  },
  {
   "cell_type": "code",
   "execution_count": null,
   "id": "0e59a045",
   "metadata": {},
   "outputs": [],
   "source": []
  },
  {
   "cell_type": "code",
   "execution_count": null,
   "id": "0db526a1",
   "metadata": {},
   "outputs": [],
   "source": []
  },
  {
   "cell_type": "markdown",
   "id": "24646b5d",
   "metadata": {},
   "source": [
    "## Problem 97 - Large non-Mersenne prime\n",
    "\n",
    "https://projecteuler.net/problem=97"
   ]
  },
  {
   "cell_type": "code",
   "execution_count": 7,
   "id": "851fcb08",
   "metadata": {},
   "outputs": [],
   "source": [
    "def expTwoTenDigits(nmax=32):\n",
    "    n=1\n",
    "    a=2\n",
    "    while True:\n",
    "        n+=1\n",
    "        if n>nmax:\n",
    "            break\n",
    "        a *= 2\n",
    "        a %= 10000000000 # keep last 10 digits\n",
    "        #print(n,a)\n",
    "    return a"
   ]
  },
  {
   "cell_type": "code",
   "execution_count": 8,
   "id": "e1129c24",
   "metadata": {},
   "outputs": [
    {
     "name": "stdout",
     "output_type": "stream",
     "text": [
      "18446744073709551616\n",
      "3709551616\n"
     ]
    }
   ],
   "source": [
    "print(2**64)\n",
    "print(expTwoTenDigits(64))"
   ]
  },
  {
   "cell_type": "code",
   "execution_count": 9,
   "id": "c03e0c8b",
   "metadata": {},
   "outputs": [
    {
     "data": {
      "text/plain": [
       "8739992577"
      ]
     },
     "execution_count": 9,
     "metadata": {},
     "output_type": "execute_result"
    }
   ],
   "source": [
    "(28433*expTwoTenDigits(7830457)+1)%10000000000"
   ]
  },
  {
   "cell_type": "code",
   "execution_count": null,
   "id": "d44b9f02",
   "metadata": {},
   "outputs": [],
   "source": []
  },
  {
   "cell_type": "markdown",
   "id": "1856711d",
   "metadata": {},
   "source": [
    "## Problem 99 - Largest exponential\n",
    "\n",
    "if $a^b > c^d$ then:\n",
    "\n",
    "$\\log a^b > \\log c^d$\n",
    "\n",
    "$b \\log a > d \\log c$"
   ]
  },
  {
   "cell_type": "code",
   "execution_count": 10,
   "id": "2c9d8d64",
   "metadata": {},
   "outputs": [
    {
     "data": {
      "text/plain": [
       "-1"
      ]
     },
     "execution_count": 10,
     "metadata": {},
     "output_type": "execute_result"
    }
   ],
   "source": [
    "from math import log\n",
    "\n",
    "def compare(A,B):\n",
    "    a,b = A\n",
    "    c,d = B\n",
    "    if b*log(a) > d*log(c):\n",
    "        return 1\n",
    "    else:\n",
    "        return -1\n",
    "    \n",
    "compare((2,11),(3,7))"
   ]
  },
  {
   "cell_type": "code",
   "execution_count": 11,
   "id": "e9382b32",
   "metadata": {},
   "outputs": [
    {
     "name": "stdout",
     "output_type": "stream",
     "text": [
      "709\n"
     ]
    }
   ],
   "source": [
    "with open('data/p099_base_exp.txt') as f:\n",
    "    values = [ tuple([ int(i) for i in l.strip().split(\",\") ]) for l in f.readlines() ]\n",
    "    \n",
    "import functools\n",
    "\n",
    "values_sorted = sorted(values,key=functools.cmp_to_key(compare))\n",
    "i = values.index(values_sorted[-1])\n",
    "print(i+1)   "
   ]
  },
  {
   "cell_type": "code",
   "execution_count": null,
   "id": "6e2d652c",
   "metadata": {},
   "outputs": [],
   "source": []
  }
 ],
 "metadata": {
  "kernelspec": {
   "display_name": "Python 3 (ipykernel)",
   "language": "python",
   "name": "python3"
  },
  "language_info": {
   "codemirror_mode": {
    "name": "ipython",
    "version": 3
   },
   "file_extension": ".py",
   "mimetype": "text/x-python",
   "name": "python",
   "nbconvert_exporter": "python",
   "pygments_lexer": "ipython3",
   "version": "3.10.10"
  }
 },
 "nbformat": 4,
 "nbformat_minor": 5
}
