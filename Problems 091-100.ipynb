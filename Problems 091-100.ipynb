{
 "cells": [
  {
   "cell_type": "markdown",
   "id": "2b1b655e",
   "metadata": {},
   "source": [
    "## Problem 97 - Large non-Mersenne prime\n",
    "\n",
    "https://projecteuler.net/problem=97"
   ]
  },
  {
   "cell_type": "code",
   "execution_count": 24,
   "id": "3d798f96",
   "metadata": {},
   "outputs": [],
   "source": [
    "def expTwoTenDigits(nmax=32):\n",
    "    n=1\n",
    "    a=2\n",
    "    while True:\n",
    "        n+=1\n",
    "        if n>nmax:\n",
    "            break\n",
    "        a *= 2\n",
    "        a %= 10000000000 # keep last 10 digits\n",
    "        #print(n,a)\n",
    "    return a"
   ]
  },
  {
   "cell_type": "code",
   "execution_count": 26,
   "id": "d052312b",
   "metadata": {},
   "outputs": [
    {
     "name": "stdout",
     "output_type": "stream",
     "text": [
      "18446744073709551616\n",
      "3709551616\n"
     ]
    }
   ],
   "source": [
    "print(2**64)\n",
    "print(expTwoTenDigits(64))"
   ]
  },
  {
   "cell_type": "code",
   "execution_count": 29,
   "id": "995b1047",
   "metadata": {},
   "outputs": [
    {
     "data": {
      "text/plain": [
       "8739992577"
      ]
     },
     "execution_count": 29,
     "metadata": {},
     "output_type": "execute_result"
    }
   ],
   "source": [
    "(28433*expTwoTenDigits(7830457)+1)%10000000000"
   ]
  },
  {
   "cell_type": "code",
   "execution_count": null,
   "id": "7a4811f7",
   "metadata": {},
   "outputs": [],
   "source": []
  }
 ],
 "metadata": {
  "kernelspec": {
   "display_name": "Python 3 (ipykernel)",
   "language": "python",
   "name": "python3"
  },
  "language_info": {
   "codemirror_mode": {
    "name": "ipython",
    "version": 3
   },
   "file_extension": ".py",
   "mimetype": "text/x-python",
   "name": "python",
   "nbconvert_exporter": "python",
   "pygments_lexer": "ipython3",
   "version": "3.10.8"
  }
 },
 "nbformat": 4,
 "nbformat_minor": 5
}
