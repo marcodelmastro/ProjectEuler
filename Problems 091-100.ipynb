{
 "cells": [
  {
   "cell_type": "markdown",
   "id": "f7cfe866",
   "metadata": {},
   "source": [
    "## Problem 91 - Right triangles with integer coordinates\n",
    "\n",
    "https://projecteuler.net/problem=91"
   ]
  },
  {
   "cell_type": "code",
   "execution_count": 8,
   "id": "bf19ec61",
   "metadata": {},
   "outputs": [
    {
     "data": {
      "text/plain": [
       "(0.0, 0.7071067811865475, 0.7071067811865475)"
      ]
     },
     "execution_count": 8,
     "metadata": {},
     "output_type": "execute_result"
    }
   ],
   "source": [
    "from math import sqrt, acos\n",
    "\n",
    "def d2(a,b):\n",
    "    dx = b[0]-a[0]\n",
    "    dy = b[1]-a[1]\n",
    "    return dx*dx+dy*dy\n",
    "\n",
    "def angles(A,B,C):\n",
    "    \n",
    "    # side sqaures\n",
    "    a2 = d2(B,C)\n",
    "    b2 = d2(A,C)\n",
    "    c2 = d2(A,B)\n",
    " \n",
    "    # sides\n",
    "    a = sqrt(a2)\n",
    "    b = sqrt(b2)\n",
    "    c = sqrt(c2)\n",
    " \n",
    "    # cosine law: https://en.wikipedia.org/wiki/Law_of_cosines\n",
    "    alp = ((b2 + c2 - a2) / (2 * b * c))\n",
    "    bet = ((a2 + c2 - b2) / (2 * a * c))\n",
    "    gam = ((a2 + b2 - c2) / (2 * a * b))\n",
    " \n",
    "    # angles\n",
    "    #alp = acos(alp)\n",
    "    #bet = acos(bet)\n",
    "    #gam = acos(gam)\n",
    "\n",
    "    # converting to degree\n",
    "    #alp *= 180 / math.pi\n",
    "    #bet *= 180 / math.pi\n",
    "    #gam *= 180 / math.pi\n",
    " \n",
    "    return alp,bet,gam\n",
    "\n",
    "A = (0,0)\n",
    "B = (0,1)\n",
    "C = (1,0) \n",
    "angles(A, B, C)"
   ]
  },
  {
   "cell_type": "code",
   "execution_count": 29,
   "id": "6fb19954",
   "metadata": {},
   "outputs": [
    {
     "name": "stdout",
     "output_type": "stream",
     "text": [
      "14234\n"
     ]
    }
   ],
   "source": [
    "A = (0,0)\n",
    "\n",
    "cmax = 50\n",
    "c = 0\n",
    "\n",
    "for xA in range(0,cmax+1):\n",
    "    for yA in range(0,cmax+1):\n",
    "        B = (xA,yA)\n",
    "        if B==A:\n",
    "            continue\n",
    "        for xB in range(0,cmax+1):\n",
    "            for yB in range(0,cmax+1):\n",
    "                C = (xB,yB)\n",
    "                if C==B or C==A:\n",
    "                    continue\n",
    "                ang = angles(A, B, C)\n",
    "                if 0. in ang:\n",
    "                    #print(A,B,C,ang)\n",
    "                    c += 1\n",
    "print(c//2)"
   ]
  },
  {
   "cell_type": "markdown",
   "id": "2b1b655e",
   "metadata": {},
   "source": [
    "## Problem 97 - Large non-Mersenne prime\n",
    "\n",
    "https://projecteuler.net/problem=97"
   ]
  },
  {
   "cell_type": "code",
   "execution_count": 24,
   "id": "3d798f96",
   "metadata": {},
   "outputs": [],
   "source": [
    "def expTwoTenDigits(nmax=32):\n",
    "    n=1\n",
    "    a=2\n",
    "    while True:\n",
    "        n+=1\n",
    "        if n>nmax:\n",
    "            break\n",
    "        a *= 2\n",
    "        a %= 10000000000 # keep last 10 digits\n",
    "        #print(n,a)\n",
    "    return a"
   ]
  },
  {
   "cell_type": "code",
   "execution_count": 26,
   "id": "d052312b",
   "metadata": {},
   "outputs": [
    {
     "name": "stdout",
     "output_type": "stream",
     "text": [
      "18446744073709551616\n",
      "3709551616\n"
     ]
    }
   ],
   "source": [
    "print(2**64)\n",
    "print(expTwoTenDigits(64))"
   ]
  },
  {
   "cell_type": "code",
   "execution_count": 29,
   "id": "995b1047",
   "metadata": {},
   "outputs": [
    {
     "data": {
      "text/plain": [
       "8739992577"
      ]
     },
     "execution_count": 29,
     "metadata": {},
     "output_type": "execute_result"
    }
   ],
   "source": [
    "(28433*expTwoTenDigits(7830457)+1)%10000000000"
   ]
  },
  {
   "cell_type": "code",
   "execution_count": null,
   "id": "7a4811f7",
   "metadata": {},
   "outputs": [],
   "source": []
  }
 ],
 "metadata": {
  "kernelspec": {
   "display_name": "Python 3 (ipykernel)",
   "language": "python",
   "name": "python3"
  },
  "language_info": {
   "codemirror_mode": {
    "name": "ipython",
    "version": 3
   },
   "file_extension": ".py",
   "mimetype": "text/x-python",
   "name": "python",
   "nbconvert_exporter": "python",
   "pygments_lexer": "ipython3",
   "version": "3.10.8"
  }
 },
 "nbformat": 4,
 "nbformat_minor": 5
}
