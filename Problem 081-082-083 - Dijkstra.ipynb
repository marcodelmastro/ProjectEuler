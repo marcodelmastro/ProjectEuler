{
 "cells": [
  {
   "cell_type": "markdown",
   "metadata": {},
   "source": [
    "# Problem 81\n",
    "\n",
    "Implementing Dijkstra algorithm myself..."
   ]
  },
  {
   "cell_type": "code",
   "execution_count": 1,
   "metadata": {},
   "outputs": [],
   "source": [
    "def getDirsTwoWays(p,m):\n",
    "    '''Problem 81 directions'''\n",
    "    x,y=p\n",
    "    d = []\n",
    "    if x+1<len(m[0]):\n",
    "        d.append((x+1,y))\n",
    "    if y+1<len(m):\n",
    "        d.append((x,y+1))\n",
    "    return d\n",
    "\n",
    "def getDirsThreeWays(p,m):\n",
    "    '''Problem 82 directions'''\n",
    "    x,y=p\n",
    "    d = []\n",
    "    if x+1<len(m[0]):\n",
    "        d.append((x+1,y))\n",
    "    if y+1<len(m):\n",
    "        d.append((x,y+1))\n",
    "    if y-1>=0:\n",
    "        d.append((x,y-1))\n",
    "    return d\n",
    "\n",
    "def getDirsFourWays(p,m):\n",
    "    '''Problem 83 directions'''\n",
    "    x,y=p\n",
    "    d = []\n",
    "    if x-1>=0:\n",
    "        d.append((x-1,y))\n",
    "    if x+1<len(m[0]):\n",
    "        d.append((x+1,y))\n",
    "    if y+1<len(m):\n",
    "        d.append((x,y+1))\n",
    "    if y-1>=0:\n",
    "        d.append((x,y-1))\n",
    "    return d\n",
    "\n",
    "def makeGraph(matrix,ways=2):\n",
    "    '''Graph as a dictionary of dictionaries'''\n",
    "    graph = {}\n",
    "    for y in range(len(matrix)):\n",
    "        for x in range(len(matrix[0])):\n",
    "            p = (x,y)\n",
    "            graph[p] = {}\n",
    "            dirs = []\n",
    "            if ways==2:\n",
    "                dirs=getDirsTwoWays(p,matrix)\n",
    "            elif ways==3:\n",
    "                dirs=getDirsThreeWays(p,matrix)\n",
    "            elif ways==4:\n",
    "                dirs=getDirsFourWays(p,matrix)\n",
    "            for pn in dirs:\n",
    "                xn,yn = pn\n",
    "                graph[p][pn] = matrix[yn][xn]\n",
    "    return graph"
   ]
  },
  {
   "cell_type": "code",
   "execution_count": 2,
   "metadata": {},
   "outputs": [],
   "source": [
    "from queue import PriorityQueue\n",
    "from collections import defaultdict\n",
    "\n",
    "def DijkstraShortestPath(graph,S,E,INF=1_000_000_000):\n",
    "\n",
    "    # visited nodes\n",
    "    visited = defaultdict(bool)\n",
    "    visited[S] = True\n",
    "    \n",
    "    # set initial distances in the priority dictionary\n",
    "    priority = {}\n",
    "    for n in graph.keys():\n",
    "        if n==S:\n",
    "            priority[n] = 0\n",
    "        else:\n",
    "            priority[n] = INF\n",
    "    \n",
    "    # priority queue\n",
    "    queue = PriorityQueue()\n",
    "    queue.put((0,S))\n",
    "\n",
    "    # starting position\n",
    "    curr = S\n",
    "\n",
    "    while curr!=E:\n",
    "\n",
    "        # choose next node according to priority queue\n",
    "        p,curr = queue.get()\n",
    "        \n",
    "        # explore the graph computing priority according to weights\n",
    "        for neigh in graph[curr].keys():\n",
    "            if not visited[neigh]:\n",
    "                if priority[neigh] > p + graph[curr][neigh]:\n",
    "                    priority[neigh] = p + graph[curr][neigh]\n",
    "                    queue.put((priority[neigh],neigh))\n",
    "\n",
    "    return priority[E]"
   ]
  },
  {
   "cell_type": "code",
   "execution_count": 3,
   "metadata": {},
   "outputs": [
    {
     "name": "stdout",
     "output_type": "stream",
     "text": [
      "2427\n"
     ]
    }
   ],
   "source": [
    "matrix_test = [\n",
    "    [131,673,234,103, 18],\n",
    "    [201, 96,342,965,150],\n",
    "    [630,803,746,422,111],\n",
    "    [537,699,497,121,956],\n",
    "    [805,732,524, 37,331]\n",
    "]\n",
    "\n",
    "graph_test = makeGraph(matrix_test,ways=2)\n",
    "\n",
    "S = (0,0)\n",
    "E = (len(matrix_test[0])-1,len(matrix_test)-1)\n",
    "\n",
    "print(DijkstraShortestPath(graph_test,S,E)+matrix_test[0][0])"
   ]
  },
  {
   "cell_type": "code",
   "execution_count": 4,
   "metadata": {},
   "outputs": [
    {
     "name": "stdout",
     "output_type": "stream",
     "text": [
      "Problem 81 = 427337\n",
      "Problem 83 = 425185\n"
     ]
    }
   ],
   "source": [
    "with open(\"data/p081_matrix.txt\") as f:\n",
    "    matrix = [ [ int(i) for i in l.strip(\"\\n\").split(\",\") ] for l in f.readlines() ]\n",
    "\n",
    "graph2 = makeGraph(matrix,ways=2)\n",
    "graph4 = makeGraph(matrix,ways=4)\n",
    "\n",
    "S = (0,0)\n",
    "E = (len(matrix[0])-1,len(matrix)-1)\n",
    "\n",
    "print(\"Problem 81 =\",DijkstraShortestPath(graph2,S,E)+matrix[0][0]) # 427337\n",
    "print(\"Problem 83 =\",DijkstraShortestPath(graph4,S,E)+matrix[0][0]) # 425185"
   ]
  },
  {
   "cell_type": "code",
   "execution_count": 5,
   "metadata": {},
   "outputs": [
    {
     "name": "stdout",
     "output_type": "stream",
     "text": [
      "100 200 300 400 500 600 700 800 900 1000 1100 1200 1300 1400 1500 1600 1700 1800 1900 2000 2100 2200 2300 2400 2500 2600 2700 2800 2900 3000 3100 3200 3300 3400 3500 3600 3700 3800 3900 4000 4100 4200 4300 4400 4500 4600 4700 4800 4900 5000 5100 5200 5300 5400 5500 5600 5700 5800 5900 6000 6100 6200 6300 6400 \n",
      "Problem 82 = 260324\n"
     ]
    }
   ],
   "source": [
    "graph3 = makeGraph(matrix,ways=3)\n",
    "\n",
    "lenghts = []\n",
    "\n",
    "for i in range(len(matrix)):\n",
    "    for j in range(len(matrix)):\n",
    "        S = (0,i)\n",
    "        E = (len(matrix)-1,j)\n",
    "        d = DijkstraShortestPath(graph3,S,E)+matrix[i][0]\n",
    "        lenghts.append(d)\n",
    "        if len(lenghts)%100==0:\n",
    "            print(len(lenghts), end=\" \")\n",
    "\n",
    "print()\n",
    "print(\"Problem 82 =\",min(lenghts)) # 260324"
   ]
  },
  {
   "cell_type": "code",
   "execution_count": null,
   "metadata": {},
   "outputs": [],
   "source": []
  }
 ],
 "metadata": {
  "kernelspec": {
   "display_name": "Python 3",
   "language": "python",
   "name": "python3"
  },
  "language_info": {
   "codemirror_mode": {
    "name": "ipython",
    "version": 3
   },
   "file_extension": ".py",
   "mimetype": "text/x-python",
   "name": "python",
   "nbconvert_exporter": "python",
   "pygments_lexer": "ipython3",
   "version": "3.9.9"
  }
 },
 "nbformat": 4,
 "nbformat_minor": 4
}
