{
 "cells": [
  {
   "cell_type": "markdown",
   "id": "searching-procurement",
   "metadata": {},
   "source": [
    "## Problem 500\n",
    "\n",
    "https://projecteuler.net/problem=500\n",
    "\n",
    "> The number of divisors of 120 is 16. \n",
    ">\n",
    "> In fact 120 is the smallest number having 16 divisors.\n",
    ">\n",
    "> Find the smallest number with $2^{500500}$ divisors.\n",
    ">\n",
    "> Give your answer modulo 500500507.\n",
    "\n",
    "### \"Standard\" approach\n",
    "\n",
    "$n = \\Pi_i f_i^{e_i}$\n",
    "\n",
    "$d(n) = \\Pi_i (e_i+1)$\n",
    "\n",
    "**(this cannot really work with a very large number of divisors!)**"
   ]
  },
  {
   "cell_type": "code",
   "execution_count": 1,
   "id": "intelligent-ethernet",
   "metadata": {},
   "outputs": [],
   "source": [
    "from ProjectEuler import yieldFactors, generatePrimes\n",
    "from itertools import permutations\n",
    "from functools import reduce\n",
    "from operator import mul\n",
    "        \n",
    "def partitions(lst):\n",
    "    if lst:\n",
    "        for i in range(1, len(lst) + 1):\n",
    "            for p in partitions(lst[i:]):\n",
    "                yield [lst[:i]] + p\n",
    "    else:\n",
    "        yield []\n",
    "\n",
    "def partitions_and_permutations(data):\n",
    "    return {tuple(sorted(reduce(mul, lst) for lst in partition))\n",
    "           for permutation in permutations(data)\n",
    "           for partition in partitions(permutation)}\n",
    "\n",
    "def smallestNdivisors(N):\n",
    "    '''Return smallest number with N divisors'''\n",
    "    '''Not very efficient for large numbers!'''\n",
    "    n = []\n",
    "    for p in partitions_and_permutations(list(yieldFactors(N))):\n",
    "        n.append(reduce(mul,[f**e for f,e in zip(generatePrimes(),sorted([e-1 for e in p],reverse=True))],1))\n",
    "    return min(n)"
   ]
  },
  {
   "cell_type": "code",
   "execution_count": 2,
   "id": "surprising-hundred",
   "metadata": {},
   "outputs": [
    {
     "data": {
      "text/plain": [
       "120"
      ]
     },
     "execution_count": 2,
     "metadata": {},
     "output_type": "execute_result"
    }
   ],
   "source": [
    "smallestNdivisors(16)"
   ]
  },
  {
   "cell_type": "markdown",
   "id": "bright-apollo",
   "metadata": {},
   "source": [
    "## Solution inspired by various online discussions:\n",
    "\n",
    "https://stackoverflow.com/questions/31270226/how-to-calculate-smallest-number-with-certain-number-of-divisors\n",
    "\n",
    "https://stackoverflow.com/questions/8861994/algorithm-for-finding-smallest-number-with-given-number-of-factors\n",
    "\n",
    "https://www.primepuzzles.net/problems/prob_019.htm\n",
    "\n",
    "**(this solution only works for a number of divisors $N = 2^k$)**"
   ]
  },
  {
   "cell_type": "code",
   "execution_count": 3,
   "id": "nominated-milton",
   "metadata": {},
   "outputs": [
    {
     "name": "stdout",
     "output_type": "stream",
     "text": [
      "Generating prime base... done.\n",
      "0 [2, 3, 5, 7] 1 1\n",
      "1 [3, 4, 5, 7] 2 2\n",
      "2 [4, 7, 5, 9] 4 6\n",
      "3 [5, 7, 9, 16] 8 24\n",
      "4 [7, 16, 9, 25] 16 120\n"
     ]
    },
    {
     "data": {
      "text/plain": [
       "120"
      ]
     },
     "execution_count": 3,
     "metadata": {},
     "output_type": "execute_result"
    }
   ],
   "source": [
    "from ProjectEuler import generatePrimes\n",
    "from functools import reduce\n",
    "from operator import mul\n",
    "from heapq import heappush,heappop\n",
    "\n",
    "def solve500(k=4,verbose=False,mod=0): \n",
    "    if verbose:\n",
    "        print(\"Generating prime base... \", end=\"\")\n",
    "    heap = []\n",
    "    for p in generatePrimes():\n",
    "        ###\n",
    "        #heap.append(p)\n",
    "        ###\n",
    "        heappush(heap,p)\n",
    "        if len(heap)==k:\n",
    "            break\n",
    "    if verbose:\n",
    "        print(\"done.\")\n",
    "    e = 0\n",
    "    j = 0\n",
    "    d = 1\n",
    "    x = 1\n",
    "    while True:\n",
    "        e+=1\n",
    "        for p in heap:\n",
    "            x *= d\n",
    "            if mod:\n",
    "                x = x%mod\n",
    "            if verbose:\n",
    "                print(j,heap,2**j,x)\n",
    "            #else:\n",
    "            #    if j%100==0:\n",
    "            #        print(j,end = \" \")\n",
    "            if j==k: \n",
    "                return x\n",
    "            ####\n",
    "            #d = heap[0]\n",
    "            #heap[0] = d**(e+1)\n",
    "            #heap = sorted(heap)\n",
    "            ### replacing the list sorting with a heap queue for efficiency! The improvement is evident!\n",
    "            d = heappop(heap)\n",
    "            heappush(heap,d**(e+1))\n",
    "            j+=1\n",
    "\n",
    "solve500(k=4,verbose=True)"
   ]
  },
  {
   "cell_type": "code",
   "execution_count": 4,
   "id": "attractive-insert",
   "metadata": {},
   "outputs": [
    {
     "data": {
      "text/plain": [
       "89511890"
      ]
     },
     "execution_count": 4,
     "metadata": {},
     "output_type": "execute_result"
    }
   ],
   "source": [
    "solve500(k=500,verbose=False,mod=500500507)"
   ]
  },
  {
   "cell_type": "code",
   "execution_count": 5,
   "id": "miniature-indicator",
   "metadata": {},
   "outputs": [
    {
     "data": {
      "text/plain": [
       "35407281"
      ]
     },
     "execution_count": 5,
     "metadata": {},
     "output_type": "execute_result"
    }
   ],
   "source": [
    "solve500(k=500500,verbose=False,mod=500500507)"
   ]
  },
  {
   "cell_type": "code",
   "execution_count": null,
   "id": "egyptian-ecology",
   "metadata": {},
   "outputs": [],
   "source": []
  }
 ],
 "metadata": {
  "kernelspec": {
   "display_name": "Python 3",
   "language": "python",
   "name": "python3"
  },
  "language_info": {
   "codemirror_mode": {
    "name": "ipython",
    "version": 3
   },
   "file_extension": ".py",
   "mimetype": "text/x-python",
   "name": "python",
   "nbconvert_exporter": "python",
   "pygments_lexer": "ipython3",
   "version": "3.9.13"
  }
 },
 "nbformat": 4,
 "nbformat_minor": 5
}
