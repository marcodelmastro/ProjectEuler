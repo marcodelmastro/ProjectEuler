{
 "cells": [
  {
   "cell_type": "markdown",
   "metadata": {},
   "source": [
    "# Problem 84 - Monopoly odds\n",
    "\n",
    "https://projecteuler.net/problem=84"
   ]
  },
  {
   "cell_type": "code",
   "execution_count": 1,
   "metadata": {},
   "outputs": [],
   "source": [
    "import random\n",
    "\n",
    "board = [\n",
    "    \"GO\", \"A1\", \"CC1\", \"A2\", \"T1\", \"R1\", \"B1\", \"CH1\", \"B2\", \"B3\",\n",
    "    \"JAIL\", \"C1\", \"U1\", \"C2\", \"C3\", \"R2\", \"D1\", \"CC2\", \"D2\", \"D3\",\n",
    "    \"FP\", \"E1\", \"CH2\", \"E2\", \"E3\", \"R3\", \"F1\", \"F2\", \"U2\", \"F3\",\n",
    "    \"G2J\", \"G1\", \"G2\", \"CC3\", \"G3\", \"R4\", \"CH3\", \"H1\", \"T2\", \"H2\"\n",
    "]\n",
    "\n",
    "def rollDices():\n",
    "      return random.randint(1,6)+random.randint(1,6)\n",
    "\n",
    "def rollDices4():\n",
    "      return random.randint(1,4)+random.randint(1,4)\n",
    "    \n",
    "def CommunityChest(p,i):\n",
    "    global board\n",
    "    if i==1:\n",
    "        return board.index(\"GO\")\n",
    "    elif i==2:\n",
    "        return board.index(\"JAIL\")\n",
    "    else:\n",
    "        return p\n",
    "\n",
    "def Chance(p,i):\n",
    "    global board\n",
    "    if i==1:\n",
    "        return board.index(\"GO\")\n",
    "    elif i==2:\n",
    "        return board.index(\"JAIL\")\n",
    "    elif i==3:\n",
    "        return board.index(\"C1\")\n",
    "    elif i==4:\n",
    "        return board.index(\"E3\")\n",
    "    elif i==5:\n",
    "        return board.index(\"H2\")\n",
    "    elif i==6:\n",
    "        return board.index(\"R1\")\n",
    "    elif i==7 or i==8:\n",
    "        j=p\n",
    "        while board[j][0]!=\"R\":\n",
    "            j+=1\n",
    "            j=j%len(board)\n",
    "        return j\n",
    "    elif i==9:\n",
    "        j=p\n",
    "        while board[j][0]!=\"U\":\n",
    "            j+=1\n",
    "            j=j%len(board)\n",
    "        return j\n",
    "    elif i==10:\n",
    "        return (p-3)%len(board)\n",
    "    else:\n",
    "        return p\n",
    "\n",
    "def simulateMonopoly(rolls=10000,dices=6):\n",
    "\n",
    "    global board\n",
    "\n",
    "    CCCards = [ 1, 2, 3, 4, 5, 6, 7, 8, 9, 10, 11, 12, 13, 14, 15, 16 ]\n",
    "    CHCards = [ 1, 2, 3, 4, 5, 6, 7, 8, 9, 10, 11, 12, 13, 14, 15, 16 ]\n",
    "    \n",
    "    random.shuffle(CCCards)\n",
    "    random.shuffle(CHCards)\n",
    "\n",
    "    prob = {}\n",
    "    for c in board:\n",
    "        prob[c] = 0\n",
    "\n",
    "    p = 0\n",
    "    r = 0\n",
    "\n",
    "    while r<rolls:\n",
    "    \n",
    "        n = 0\n",
    "        if dices==6:\n",
    "            n = rollDices()\n",
    "        elif dices==4:\n",
    "            n = rollDices4()\n",
    "            \n",
    "        p += n\n",
    "        p = p%len(board)\n",
    "\n",
    "        if board[p]==\"G2J\":\n",
    "            p = board.index(\"JAIL\")\n",
    "            prob[\"JAIL\"] += 1\n",
    "\n",
    "        elif board[p][:2]==\"CC\":\n",
    "            i = CCCards.pop(0)\n",
    "            p = CommunityChest(p,i)\n",
    "            prob[board[p]] += 1\n",
    "            CCCards.append(i)\n",
    "\n",
    "        elif board[p][:2]==\"CH\":\n",
    "            i = CHCards.pop(0)\n",
    "            p = Chance(p,i)\n",
    "            prob[board[p]] += 1\n",
    "            CHCards.append(i)\n",
    "                \n",
    "        else:\n",
    "            prob[board[p]] += 1\n",
    "\n",
    "        r+=1\n",
    "        \n",
    "    for c in prob.keys():\n",
    "        prob[c] = 100.*prob[c]/rolls\n",
    "    prob = dict(sorted(prob.items(), key=lambda p: p[1], reverse=True))\n",
    "    return prob"
   ]
  },
  {
   "cell_type": "code",
   "execution_count": 2,
   "metadata": {},
   "outputs": [
    {
     "name": "stdout",
     "output_type": "stream",
     "text": [
      "P(JAIL) = 5.87%\n",
      "P(E3  ) = 3.23%\n",
      "P(D3  ) = 3.19%\n",
      "Six-digit modal string (2d6) = 102419\n"
     ]
    }
   ],
   "source": [
    "prob = simulateMonopoly(rolls=100000)\n",
    "\n",
    "s = \"\"\n",
    "for c in list(prob.keys())[:3]:\n",
    "    s += str(board.index(c))\n",
    "    print(\"P({:4s}) = {:4.2f}%\".format(c,prob[c]))\n",
    "\n",
    "print(\"Six-digit modal string (2d6) =\", int(s)) # 10240"
   ]
  },
  {
   "cell_type": "code",
   "execution_count": 3,
   "metadata": {},
   "outputs": [
    {
     "name": "stdout",
     "output_type": "stream",
     "text": [
      "P(JAIL) = 6.00%\n",
      "P(R2  ) = 3.44%\n",
      "P(E3  ) = 3.29%\n",
      "Six-digit modal string(2d4) = 101524\n"
     ]
    }
   ],
   "source": [
    "prob = simulateMonopoly(rolls=1000000,dices=4)\n",
    "\n",
    "s = \"\"\n",
    "for c in list(prob.keys())[:3]:\n",
    "    s += str(board.index(c))\n",
    "    print(\"P({:4s}) = {:4.2f}%\".format(c,prob[c]))\n",
    "\n",
    "print(\"Six-digit modal string(2d4) =\", int(s)) # 101524"
   ]
  },
  {
   "cell_type": "code",
   "execution_count": null,
   "metadata": {},
   "outputs": [],
   "source": []
  }
 ],
 "metadata": {
  "kernelspec": {
   "display_name": "Python 3 (ipykernel)",
   "language": "python",
   "name": "python3"
  },
  "language_info": {
   "codemirror_mode": {
    "name": "ipython",
    "version": 3
   },
   "file_extension": ".py",
   "mimetype": "text/x-python",
   "name": "python",
   "nbconvert_exporter": "python",
   "pygments_lexer": "ipython3",
   "version": "3.10.8"
  }
 },
 "nbformat": 4,
 "nbformat_minor": 4
}
