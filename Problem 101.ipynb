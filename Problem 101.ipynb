{
 "cells": [
  {
   "cell_type": "markdown",
   "id": "f0fb48f4",
   "metadata": {},
   "source": [
    "## Problem 101\n",
    "\n",
    "https://projecteuler.net/problem=101"
   ]
  },
  {
   "cell_type": "code",
   "execution_count": 80,
   "id": "7aa47889",
   "metadata": {},
   "outputs": [],
   "source": [
    "import numpy as np\n",
    "\n",
    "def solve101(u,deg):\n",
    "    # generate sequence up to deg+1 terms\n",
    "    x = [ n for n in range(1,deg+2) ]\n",
    "    s = [ u(n) for n in x]\n",
    "    # compute FIT's\n",
    "    sumt = 0\n",
    "    for deg in range(deg):\n",
    "        # interpolate polynomion from first n terms to obtain BOP for this degree\n",
    "        p = np.polyfit(x[:deg+1],s[:deg+1],deg)\n",
    "        # compute FIP from current BOP\n",
    "        m = x[deg+1]\n",
    "        t = 0\n",
    "        for n,f in enumerate(p):\n",
    "            t += round(f) * m**(deg-n)\n",
    "        sumt += t\n",
    "    return sumt"
   ]
  },
  {
   "cell_type": "code",
   "execution_count": 81,
   "id": "04f6eece",
   "metadata": {},
   "outputs": [
    {
     "data": {
      "text/plain": [
       "74"
      ]
     },
     "execution_count": 81,
     "metadata": {},
     "output_type": "execute_result"
    }
   ],
   "source": [
    "def u(n):\n",
    "    return n**3\n",
    "\n",
    "solve101(u,3)"
   ]
  },
  {
   "cell_type": "code",
   "execution_count": 82,
   "id": "ef5a9792",
   "metadata": {},
   "outputs": [
    {
     "data": {
      "text/plain": [
       "37076114526"
      ]
     },
     "execution_count": 82,
     "metadata": {},
     "output_type": "execute_result"
    }
   ],
   "source": [
    "def u(n):\n",
    "    return 1 - n + n**2 - n**3 + n**4 - n**5 + n**6 - n**7 + n**8 - n**9 + n**10 \n",
    "\n",
    "solve101(u,10)"
   ]
  },
  {
   "cell_type": "code",
   "execution_count": null,
   "id": "64f4971b",
   "metadata": {},
   "outputs": [],
   "source": []
  }
 ],
 "metadata": {
  "kernelspec": {
   "display_name": "Python 3 (ipykernel)",
   "language": "python",
   "name": "python3"
  },
  "language_info": {
   "codemirror_mode": {
    "name": "ipython",
    "version": 3
   },
   "file_extension": ".py",
   "mimetype": "text/x-python",
   "name": "python",
   "nbconvert_exporter": "python",
   "pygments_lexer": "ipython3",
   "version": "3.10.11"
  }
 },
 "nbformat": 4,
 "nbformat_minor": 5
}
